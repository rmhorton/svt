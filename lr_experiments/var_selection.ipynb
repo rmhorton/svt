{
  "cells": [
    {
      "cell_type": "markdown",
      "metadata": {
        "id": "a4u3AYTbHAAg"
      },
      "source": [
        "# Project Template: Regression Experiments using sentence embeddings\n",
        "\n",
        "ISE 201, section 33\n",
        "\n",
        "28 Mar 2024  JM Agosta\n",
        "\n",
        "_A template to follow for your final class project._\n",
        "\n",
        "Your presentation from this notebook should be divided into sections. Each section starts with a markdown cell that mentions the purpose of the following cells. Pls divide your computation into manageably sized cells. You can check intermediate results by an expression in the last line of the cell -- no need for a print function to enclose them.\n",
        "\n",
        "The goal of this project is to consolidate the work you've done over the past projects, to run a regression experiment using sentence embedding data. An experiment works by\n",
        "\n",
        "- picking an evaluation measure (a \"statistic\"),\n",
        "- running a baseline evaluation of the regression,\n",
        "- coming up with a presumed improvement to the regression that could be a generation or selection of features going into the regression,\n",
        "- making a comparative evaluation to see if the improvement is \"statistically\" significant.\n",
        "\n",
        "You can refer to the previous class notebooks that can be found on Google Drive, and feel free to share ideas that others have contributed in the class, that can be found in the notebooks they've shared.  \n",
        "\n",
        "Design your notebook, with sections and visualizations that are self-explanatory (label your graph axes!) so that you make the best use of the 8 minutes you'll have to present."
      ]
    },
    {
      "cell_type": "markdown",
      "metadata": {
        "id": "AG0ZzfHJgNe7"
      },
      "source": [
        "## Setup. Import libraries.  Check if any need to be loaded that are missing."
      ]
    },
    {
      "cell_type": "code",
      "execution_count": 1,
      "metadata": {
        "id": "ubqY17CEHAAh"
      },
      "outputs": [
        {
          "data": {
            "text/html": [
              "<style>\n",
              "        .bk-notebook-logo {\n",
              "            display: block;\n",
              "            width: 20px;\n",
              "            height: 20px;\n",
              "            background-image: url(data:image/png;base64,iVBORw0KGgoAAAANSUhEUgAAABQAAAAUCAYAAACNiR0NAAAABHNCSVQICAgIfAhkiAAAAAlwSFlzAAALEgAACxIB0t1+/AAAABx0RVh0U29mdHdhcmUAQWRvYmUgRmlyZXdvcmtzIENTNui8sowAAAOkSURBVDiNjZRtaJVlGMd/1/08zzln5zjP1LWcU9N0NkN8m2CYjpgQYQXqSs0I84OLIC0hkEKoPtiH3gmKoiJDU7QpLgoLjLIQCpEsNJ1vqUOdO7ppbuec5+V+rj4ctwzd8IIbbi6u+8f1539dt3A78eXC7QizUF7gyV1fD1Yqg4JWz84yffhm0qkFqBogB9rM8tZdtwVsPUhWhGcFJngGeWrPzHm5oaMmkfEg1usvLFyc8jLRqDOMru7AyC8saQr7GG7f5fvDeH7Ej8CM66nIF+8yngt6HWaKh7k49Soy9nXurCi1o3qUbS3zWfrYeQDTB/Qj6kX6Ybhw4B+bOYoLKCC9H3Nu/leUTZ1JdRWkkn2ldcCamzrcf47KKXdAJllSlxAOkRgyHsGC/zRday5Qld9DyoM4/q/rUoy/CXh3jzOu3bHUVZeU+DEn8FInkPBFlu3+nW3Nw0mk6vCDiWg8CeJaxEwuHS3+z5RgY+YBR6V1Z1nxSOfoaPa4LASWxxdNp+VWTk7+4vzaou8v8PN+xo+KY2xsw6une2frhw05CTYOmQvsEhjhWjn0bmXPjpE1+kplmmkP3suftwTubK9Vq22qKmrBhpY4jvd5afdRA3wGjFAgcnTK2s4hY0/GPNIb0nErGMCRxWOOX64Z8RAC4oCXdklmEvcL8o0BfkNK4lUg9HTl+oPlQxdNo3Mg4Nv175e/1LDGzZen30MEjRUtmXSfiTVu1kK8W4txyV6BMKlbgk3lMwYCiusNy9fVfvvwMxv8Ynl6vxoByANLTWplvuj/nF9m2+PDtt1eiHPBr1oIfhCChQMBw6Aw0UulqTKZdfVvfG7VcfIqLG9bcldL/+pdWTLxLUy8Qq38heUIjh4XlzZxzQm19lLFlr8vdQ97rjZVOLf8nclzckbcD4wxXMidpX30sFd37Fv/GtwwhzhxGVAprjbg0gCAEeIgwCZyTV2Z1REEW8O4py0wsjeloKoMr6iCY6dP92H6Vw/oTyICIthibxjm/DfN9lVz8IqtqKYLUXfoKVMVQVVJOElGjrnnUt9T9wbgp8AyYKaGlqingHZU/uG2NTZSVqwHQTWkx9hxjkpWDaCg6Ckj5qebgBVbT3V3NNXMSiWSDdGV3hrtzla7J+duwPOToIg42ChPQOQjspnSlp1V+Gjdged7+8UN5CRAV7a5EdFNwCjEaBR27b3W890TE7g24NAP/mMDXRWrGoFPQI9ls/MWO2dWFAar/xcOIImbbpA3zgAAAABJRU5ErkJggg==);\n",
              "        }\n",
              "    </style>\n",
              "    <div>\n",
              "        <a href=\"https://bokeh.org\" target=\"_blank\" class=\"bk-notebook-logo\"></a>\n",
              "        <span id=\"f4feaac1-e146-436e-b08d-87700ee856d4\">Loading BokehJS ...</span>\n",
              "    </div>\n"
            ]
          },
          "metadata": {},
          "output_type": "display_data"
        },
        {
          "data": {
            "application/javascript": "(function(root) {\n  function now() {\n    return new Date();\n  }\n\n  const force = true;\n\n  if (typeof root._bokeh_onload_callbacks === \"undefined\" || force === true) {\n    root._bokeh_onload_callbacks = [];\n    root._bokeh_is_loading = undefined;\n  }\n\nconst JS_MIME_TYPE = 'application/javascript';\n  const HTML_MIME_TYPE = 'text/html';\n  const EXEC_MIME_TYPE = 'application/vnd.bokehjs_exec.v0+json';\n  const CLASS_NAME = 'output_bokeh rendered_html';\n\n  /**\n   * Render data to the DOM node\n   */\n  function render(props, node) {\n    const script = document.createElement(\"script\");\n    node.appendChild(script);\n  }\n\n  /**\n   * Handle when an output is cleared or removed\n   */\n  function handleClearOutput(event, handle) {\n    function drop(id) {\n      const view = Bokeh.index.get_by_id(id)\n      if (view != null) {\n        view.model.document.clear()\n        Bokeh.index.delete(view)\n      }\n    }\n\n    const cell = handle.cell;\n\n    const id = cell.output_area._bokeh_element_id;\n    const server_id = cell.output_area._bokeh_server_id;\n\n    // Clean up Bokeh references\n    if (id != null) {\n      drop(id)\n    }\n\n    if (server_id !== undefined) {\n      // Clean up Bokeh references\n      const cmd_clean = \"from bokeh.io.state import curstate; print(curstate().uuid_to_server['\" + server_id + \"'].get_sessions()[0].document.roots[0]._id)\";\n      cell.notebook.kernel.execute(cmd_clean, {\n        iopub: {\n          output: function(msg) {\n            const id = msg.content.text.trim()\n            drop(id)\n          }\n        }\n      });\n      // Destroy server and session\n      const cmd_destroy = \"import bokeh.io.notebook as ion; ion.destroy_server('\" + server_id + \"')\";\n      cell.notebook.kernel.execute(cmd_destroy);\n    }\n  }\n\n  /**\n   * Handle when a new output is added\n   */\n  function handleAddOutput(event, handle) {\n    const output_area = handle.output_area;\n    const output = handle.output;\n\n    // limit handleAddOutput to display_data with EXEC_MIME_TYPE content only\n    if ((output.output_type != \"display_data\") || (!Object.prototype.hasOwnProperty.call(output.data, EXEC_MIME_TYPE))) {\n      return\n    }\n\n    const toinsert = output_area.element.find(\".\" + CLASS_NAME.split(' ')[0]);\n\n    if (output.metadata[EXEC_MIME_TYPE][\"id\"] !== undefined) {\n      toinsert[toinsert.length - 1].firstChild.textContent = output.data[JS_MIME_TYPE];\n      // store reference to embed id on output_area\n      output_area._bokeh_element_id = output.metadata[EXEC_MIME_TYPE][\"id\"];\n    }\n    if (output.metadata[EXEC_MIME_TYPE][\"server_id\"] !== undefined) {\n      const bk_div = document.createElement(\"div\");\n      bk_div.innerHTML = output.data[HTML_MIME_TYPE];\n      const script_attrs = bk_div.children[0].attributes;\n      for (let i = 0; i < script_attrs.length; i++) {\n        toinsert[toinsert.length - 1].firstChild.setAttribute(script_attrs[i].name, script_attrs[i].value);\n        toinsert[toinsert.length - 1].firstChild.textContent = bk_div.children[0].textContent\n      }\n      // store reference to server id on output_area\n      output_area._bokeh_server_id = output.metadata[EXEC_MIME_TYPE][\"server_id\"];\n    }\n  }\n\n  function register_renderer(events, OutputArea) {\n\n    function append_mime(data, metadata, element) {\n      // create a DOM node to render to\n      const toinsert = this.create_output_subarea(\n        metadata,\n        CLASS_NAME,\n        EXEC_MIME_TYPE\n      );\n      this.keyboard_manager.register_events(toinsert);\n      // Render to node\n      const props = {data: data, metadata: metadata[EXEC_MIME_TYPE]};\n      render(props, toinsert[toinsert.length - 1]);\n      element.append(toinsert);\n      return toinsert\n    }\n\n    /* Handle when an output is cleared or removed */\n    events.on('clear_output.CodeCell', handleClearOutput);\n    events.on('delete.Cell', handleClearOutput);\n\n    /* Handle when a new output is added */\n    events.on('output_added.OutputArea', handleAddOutput);\n\n    /**\n     * Register the mime type and append_mime function with output_area\n     */\n    OutputArea.prototype.register_mime_type(EXEC_MIME_TYPE, append_mime, {\n      /* Is output safe? */\n      safe: true,\n      /* Index of renderer in `output_area.display_order` */\n      index: 0\n    });\n  }\n\n  // register the mime type if in Jupyter Notebook environment and previously unregistered\n  if (root.Jupyter !== undefined) {\n    const events = require('base/js/events');\n    const OutputArea = require('notebook/js/outputarea').OutputArea;\n\n    if (OutputArea.prototype.mime_types().indexOf(EXEC_MIME_TYPE) == -1) {\n      register_renderer(events, OutputArea);\n    }\n  }\n  if (typeof (root._bokeh_timeout) === \"undefined\" || force === true) {\n    root._bokeh_timeout = Date.now() + 5000;\n    root._bokeh_failed_load = false;\n  }\n\n  const NB_LOAD_WARNING = {'data': {'text/html':\n     \"<div style='background-color: #fdd'>\\n\"+\n     \"<p>\\n\"+\n     \"BokehJS does not appear to have successfully loaded. If loading BokehJS from CDN, this \\n\"+\n     \"may be due to a slow or bad network connection. Possible fixes:\\n\"+\n     \"</p>\\n\"+\n     \"<ul>\\n\"+\n     \"<li>re-rerun `output_notebook()` to attempt to load from CDN again, or</li>\\n\"+\n     \"<li>use INLINE resources instead, as so:</li>\\n\"+\n     \"</ul>\\n\"+\n     \"<code>\\n\"+\n     \"from bokeh.resources import INLINE\\n\"+\n     \"output_notebook(resources=INLINE)\\n\"+\n     \"</code>\\n\"+\n     \"</div>\"}};\n\n  function display_loaded() {\n    const el = document.getElementById(\"f4feaac1-e146-436e-b08d-87700ee856d4\");\n    if (el != null) {\n      el.textContent = \"BokehJS is loading...\";\n    }\n    if (root.Bokeh !== undefined) {\n      if (el != null) {\n        el.textContent = \"BokehJS \" + root.Bokeh.version + \" successfully loaded.\";\n      }\n    } else if (Date.now() < root._bokeh_timeout) {\n      setTimeout(display_loaded, 100)\n    }\n  }\n\n  function run_callbacks() {\n    try {\n      root._bokeh_onload_callbacks.forEach(function(callback) {\n        if (callback != null)\n          callback();\n      });\n    } finally {\n      delete root._bokeh_onload_callbacks\n    }\n    console.debug(\"Bokeh: all callbacks have finished\");\n  }\n\n  function load_libs(css_urls, js_urls, callback) {\n    if (css_urls == null) css_urls = [];\n    if (js_urls == null) js_urls = [];\n\n    root._bokeh_onload_callbacks.push(callback);\n    if (root._bokeh_is_loading > 0) {\n      console.debug(\"Bokeh: BokehJS is being loaded, scheduling callback at\", now());\n      return null;\n    }\n    if (js_urls == null || js_urls.length === 0) {\n      run_callbacks();\n      return null;\n    }\n    console.debug(\"Bokeh: BokehJS not loaded, scheduling load and callback at\", now());\n    root._bokeh_is_loading = css_urls.length + js_urls.length;\n\n    function on_load() {\n      root._bokeh_is_loading--;\n      if (root._bokeh_is_loading === 0) {\n        console.debug(\"Bokeh: all BokehJS libraries/stylesheets loaded\");\n        run_callbacks()\n      }\n    }\n\n    function on_error(url) {\n      console.error(\"failed to load \" + url);\n    }\n\n    for (let i = 0; i < css_urls.length; i++) {\n      const url = css_urls[i];\n      const element = document.createElement(\"link\");\n      element.onload = on_load;\n      element.onerror = on_error.bind(null, url);\n      element.rel = \"stylesheet\";\n      element.type = \"text/css\";\n      element.href = url;\n      console.debug(\"Bokeh: injecting link tag for BokehJS stylesheet: \", url);\n      document.body.appendChild(element);\n    }\n\n    for (let i = 0; i < js_urls.length; i++) {\n      const url = js_urls[i];\n      const element = document.createElement('script');\n      element.onload = on_load;\n      element.onerror = on_error.bind(null, url);\n      element.async = false;\n      element.src = url;\n      console.debug(\"Bokeh: injecting script tag for BokehJS library: \", url);\n      document.head.appendChild(element);\n    }\n  };\n\n  function inject_raw_css(css) {\n    const element = document.createElement(\"style\");\n    element.appendChild(document.createTextNode(css));\n    document.body.appendChild(element);\n  }\n\n  const js_urls = [\"https://cdn.bokeh.org/bokeh/release/bokeh-3.3.0.min.js\", \"https://cdn.bokeh.org/bokeh/release/bokeh-gl-3.3.0.min.js\", \"https://cdn.bokeh.org/bokeh/release/bokeh-widgets-3.3.0.min.js\", \"https://cdn.bokeh.org/bokeh/release/bokeh-tables-3.3.0.min.js\", \"https://cdn.bokeh.org/bokeh/release/bokeh-mathjax-3.3.0.min.js\"];\n  const css_urls = [];\n\n  const inline_js = [    function(Bokeh) {\n      Bokeh.set_log_level(\"info\");\n    },\nfunction(Bokeh) {\n    }\n  ];\n\n  function run_inline_js() {\n    if (root.Bokeh !== undefined || force === true) {\n          for (let i = 0; i < inline_js.length; i++) {\n      inline_js[i].call(root, root.Bokeh);\n    }\nif (force === true) {\n        display_loaded();\n      }} else if (Date.now() < root._bokeh_timeout) {\n      setTimeout(run_inline_js, 100);\n    } else if (!root._bokeh_failed_load) {\n      console.log(\"Bokeh: BokehJS failed to load within specified timeout.\");\n      root._bokeh_failed_load = true;\n    } else if (force !== true) {\n      const cell = $(document.getElementById(\"f4feaac1-e146-436e-b08d-87700ee856d4\")).parents('.cell').data().cell;\n      cell.output_area.append_execute_result(NB_LOAD_WARNING)\n    }\n  }\n\n  if (root._bokeh_is_loading === 0) {\n    console.debug(\"Bokeh: BokehJS loaded, going straight to plotting\");\n    run_inline_js();\n  } else {\n    load_libs(css_urls, js_urls, function() {\n      console.debug(\"Bokeh: BokehJS plotting callback run at\", now());\n      run_inline_js();\n    });\n  }\n}(window));",
            "application/vnd.bokehjs_load.v0+json": ""
          },
          "metadata": {},
          "output_type": "display_data"
        }
      ],
      "source": [
        "import pandas as pd\n",
        "import numpy as np\n",
        "import re, os\n",
        "# For vector norms, and determinants.\n",
        "import numpy.linalg as la\n",
        "# Plotting\n",
        "import matplotlib as plt\n",
        "import seaborn as sns\n",
        "\n",
        "# javascript plots\n",
        "from bokeh.plotting import figure, show\n",
        "from bokeh.models import BoxAnnotation, ColumnDataSource, VBar, Span, Legend\n",
        "from bokeh.io import output_notebook\n",
        "from bokeh.palettes import Category10\n",
        "output_notebook()\n",
        "\n",
        "import sklearn.linear_model as sl\n",
        "\n",
        "# Distributions\n",
        "from scipy.stats import norm\n",
        "\n",
        "# Principal component analysis\n",
        "from sklearn.decomposition import PCA, TruncatedSVD\n",
        "# The random number generator can be used to select a random set of columns for visualization\n",
        "from numpy.random import Generator, PCG64\n",
        "rng = Generator(PCG64())"
      ]
    },
    {
      "cell_type": "code",
      "execution_count": 2,
      "metadata": {
        "colab": {
          "base_uri": "https://localhost:8080/",
          "height": 36
        },
        "id": "akvJ6QHqNmoO",
        "outputId": "5a1dab1f-2819-4360-a89b-e610690f8877"
      },
      "outputs": [
        {
          "data": {
            "text/plain": [
              "'0.15.0.dev270+gc22837f06'"
            ]
          },
          "execution_count": 2,
          "metadata": {},
          "output_type": "execute_result"
        }
      ],
      "source": [
        "# use statsmodels to compute OLS regression standard errors\n",
        "# since scikit learn doesn't compute them.\n",
        "# This update fails\n",
        "# os.system('python -m pip install git+https://github.com/statsmodels/statsmodels')\n",
        "import statsmodels.api as sm\n",
        "sm.__version__"
      ]
    },
    {
      "cell_type": "markdown",
      "metadata": {
        "id": "JjFxeOzchIOd"
      },
      "source": [
        "### Set globals"
      ]
    },
    {
      "cell_type": "code",
      "execution_count": 3,
      "metadata": {
        "id": "X8QnoPffll2S"
      },
      "outputs": [],
      "source": [
        "# Global variables\n",
        "EMBEDDING_DIMENSIONS = 384     # This model creates vectors of this length.\n",
        "TEST_SET_SIZE = 500\n",
        "BOOTSTRAP_RESAMPLES = 200\n",
        "RELOAD_PACKAGE = False         # Reload the embedding package\n",
        "USE_COLAB = False              # Load the data from your Google Drive"
      ]
    },
    {
      "cell_type": "code",
      "execution_count": 4,
      "metadata": {
        "id": "uyPFhh8zD_F8"
      },
      "outputs": [],
      "source": [
        "# If you need to rerun the sentence embeddings transformer, you'll have to reload the package since\n",
        "# its not included in Colab.  Set RELOAD_PACKAGE to True to reload it.\n",
        "\n",
        "\n",
        "# We'll use this dataset of 3000 labeled text samples.\n",
        "# https://archive.ics.uci.edu/dataset/331/sentiment+labelled+sentences\n",
        "\n",
        "# For converting the text into vectors, use this llm package\n",
        "# See https://pypi.org/project/sentence-transformers/\n",
        "try:\n",
        "  from sentence_transformers import SentenceTransformer\n",
        "except:\n",
        "  if RELOAD_PACKAGE:\n",
        "    os.system('python -m pip install sentence-transformers')\n",
        "    from sentence_transformers import SentenceTransformer\n",
        "  else:\n",
        "      print('import SentenceTransformer failed')\n"
      ]
    },
    {
      "cell_type": "markdown",
      "metadata": {
        "id": "jx7TjFvegpBC"
      },
      "source": [
        "## Load the data, and run the sentence tranformers on it, if needed\n",
        "\n",
        "We've been using the data set as indexed by embeddings from ---a set of 3,000 items from 3 different sources, - \"IMDB\", Amazon, and Yelp reviews, on which the 'all-MiniLM-L6-v2' sentenceTransformer model generates 384 features.\n",
        "\n",
        "If you need to download this dataset, go to:\n",
        "\n",
        "    https://archive.ics.uci.edu/dataset/331/sentiment+labelled+sentences\n",
        "\n",
        "If you want to use a larger set, here's an NLP data set from Kaggle  of 50,000 items. One can find them on the Kaggle site:\n",
        "\n",
        "To download the dataset, go to:\n",
        "\n",
        "https://www.kaggle.com/datasets/lakshmi25npathi/imdb-dataset-of-50k-movie-reviews\n",
        "\n",
        "You would need to download the \"IMDB Dataset.csv\" file - 66.21MB\n"
      ]
    },
    {
      "cell_type": "code",
      "execution_count": 5,
      "metadata": {
        "colab": {
          "base_uri": "https://localhost:8080/"
        },
        "id": "y65SiTmyGbTy",
        "outputId": "9e924c20-3132-4f82-c220-ffd2e0ba1398"
      },
      "outputs": [
        {
          "data": {
            "text/plain": [
              "['.DS_Store',\n",
              " 'amazon_cells_labelled.txt',\n",
              " 'imdb_labelled.txt',\n",
              " 'readme.txt',\n",
              " 'sentence_embeddings.parquet',\n",
              " 'yelp_labelled.txt']"
            ]
          },
          "execution_count": 5,
          "metadata": {},
          "output_type": "execute_result"
        }
      ],
      "source": [
        "# Run this if you want to run on Colab and use the already featurized data\n",
        "\n",
        "if USE_COLAB and not os.path.exists('/content/drive'):\n",
        "  from google.colab import drive\n",
        "  drive.mount('/content/drive/')\n",
        "  os.chdir('/content/drive/MyDrive/ISE201/notebooks/data')\n",
        "else:\n",
        "  os.chdir('./sentiment_labelled_sentences')\n",
        "os.listdir(os.getcwd())"
      ]
    },
    {
      "cell_type": "code",
      "execution_count": 6,
      "metadata": {
        "colab": {
          "base_uri": "https://localhost:8080/"
        },
        "id": "wHlu2c8QHAAh",
        "outputId": "ba2f66fe-1955-46e2-d566-a33d12757369"
      },
      "outputs": [
        {
          "data": {
            "text/plain": [
              "((2748, 3), (2748, 384), (2748,))"
            ]
          },
          "execution_count": 6,
          "metadata": {},
          "output_type": "execute_result"
        }
      ],
      "source": [
        "# Load the embedding vectors dataset\n",
        "if os.environ['HOME'] == '/home/jma':\n",
        "    featurized_parquet_file = 'sentence_embeddings.parquet'\n",
        "elif USE_COLAB:\n",
        "  # Find the file on Googe Drive\n",
        "    featurized_parquet_file = './3000_sentence_embeddings.parquet'\n",
        "\n",
        "text_df = pd.read_parquet(featurized_parquet_file)\n",
        "\n",
        "# Extract the outcome y vector\n",
        "outcomes = text_df['sentiment'].values\n",
        "\n",
        "# Extract the vector field and expand it to multiple rows.\n",
        "n_samples, embedding_dim = text_df.shape\n",
        "data_ar = np.empty((n_samples, EMBEDDING_DIMENSIONS), 'float')\n",
        "for i in range(n_samples):\n",
        "    x = text_df.values[i,2]\n",
        "    data_ar[i] = x\n",
        "\n",
        "# Check the data shapes: raw NLP data, and itsEMB sentence embeddings, outocomes\n",
        "text_df.shape, data_ar.shape, outcomes.shape"
      ]
    },
    {
      "cell_type": "code",
      "execution_count": 28,
      "metadata": {
        "colab": {
          "base_uri": "https://localhost:8080/"
        },
        "id": "kIiEcWiIzqOA",
        "outputId": "ee98039c-4549-4754-fb96-7dad0bfce103"
      },
      "outputs": [
        {
          "data": {
            "text/plain": [
              "((2248, 384), (2248,), (171, 384), (171,))"
            ]
          },
          "execution_count": 28,
          "metadata": {},
          "output_type": "execute_result"
        }
      ],
      "source": [
        "# Split the data into a learning and holdout set\n",
        "# Create a random sample, with replacement\n",
        "sample_size = outcomes.shape[0]- TEST_SET_SIZE\n",
        "learning_set = np.random.choice(len(data_ar),\\\n",
        "                                sample_size,\\\n",
        "                                replace=False)\n",
        "learning_data = data_ar[learning_set,:]\n",
        "learning_outcome = text_df['sentiment'].values[learning_set]\n",
        "\n",
        "# Run predictions against a hold-out set\n",
        "not_learning_set = list(set(text_df.index).difference(set(learning_set)))  # TODO check if this set is correct\n",
        "holdout_data = data_ar[not_learning_set,:]\n",
        "# holdout_data = sm.add_constant(holdout_data)  # TODO - Make this consistent \n",
        "holdout_actuals = text_df['sentiment'].values[not_learning_set]\n",
        "learning_data.shape, learning_outcome.shape, holdout_data.shape, holdout_actuals.shape"
      ]
    },
    {
      "cell_type": "markdown",
      "metadata": {
        "id": "AJj6dw2KmTyc"
      },
      "source": [
        "## Pick an evaluation metric & create visualization graphics"
      ]
    },
    {
      "cell_type": "code",
      "execution_count": 29,
      "metadata": {
        "id": "1f5enebaxAv-"
      },
      "outputs": [],
      "source": [
        "# An in-sample metric\n",
        "def AIC(the_fit):\n",
        "  'Use this to compute AIC on different models.'\n",
        "  return 2* (the_fit.df_model+1) - 2*the_fit.llf\n",
        "\n",
        "# A metric to compare out-of-sample error\n",
        "def one_zero_error(predicted, actual, test_threshold = 0.5):\n",
        "  'The predicted is a continuous value, so it needs to be thresholded. '\n",
        "  test_df = pd.DataFrame(dict(prediction=pd.Series(predicted >= test_threshold), actual=actual))\n",
        "  test_error = sum(test_df.prediction != actual)/len(actual)\n",
        "  return test_error"
      ]
    },
    {
      "cell_type": "code",
      "execution_count": 30,
      "metadata": {
        "id": "3GN786rrvOCb"
      },
      "outputs": [],
      "source": [
        "# A plot that shows the difference between the normal approximation interval and an equivalent coverage empirical interval,\n",
        "\n",
        "def expand_range(low, high, by=2.0):\n",
        "    mid = (low + high)/2\n",
        "    half_width = by * abs(high - low)/2\n",
        "    return (mid - half_width, mid + half_width)\n",
        "\n",
        "# Compute two different interval estimates\n",
        "# The first assuming a normal distribution, using standard deviation\n",
        "# The second computing the equivalent quantiles 0.025 and 0.975, from the empirical data. \n",
        "# Note: For extreme distributions, such as those on a closed or half interval, this may not be the best approximation\n",
        "def interval_estimate(data_list):\n",
        "    data_ar = np.array(data_list)\n",
        "    mn = data_ar.mean()\n",
        "    sd = data_ar.std()\n",
        "    return {'mean': mn, 'sd': sd,\n",
        "        'normal_interval': (mn-1.96*sd, mn+1.96*sd),\n",
        "            'quantile_interval': (np.percentile(data_ar, 2.5), np.percentile(data_ar, 97.5))}\n",
        "\n",
        "def plot_intervals(the_sample, bin_ct = 50, subtitle = ''):\n",
        "    normal_approx = interval_estimate(the_sample)\n",
        "    lower_limit = min(normal_approx['normal_interval'][0], normal_approx['quantile_interval'][0])\n",
        "    upper_limit = max(normal_approx['normal_interval'][1], normal_approx['quantile_interval'][1])\n",
        "    lower_plot_limit, upper_plot_limit = expand_range(lower_limit, upper_limit)\n",
        "    print('Limits ', lower_plot_limit, upper_plot_limit)\n",
        "    p = figure(width = 800, height = 300, x_range = (lower_plot_limit,  upper_plot_limit ), title='Normal versus Empirical Bootstrap Interval Estimates.\\n' + subtitle)\n",
        "\n",
        "    hist, bin_edges = np.histogram(the_sample, bins=bin_ct, density=True)\n",
        "    hist_df = pd.DataFrame(dict(density=hist, rv= bin_edges[:-1]), columns=['rv', 'density'])\n",
        "    # Shade the background corresponding to the normal interval\n",
        "    box = BoxAnnotation(left=normal_approx['normal_interval'][0], right=normal_approx['normal_interval'][1], bottom=0, top=max(1, max(hist)), fill_alpha=0.2, fill_color='#D55E00')\n",
        "    p.add_layout(box)\n",
        "    bar_width = (bin_edges[-1] - bin_edges[0])/bin_ct\n",
        "    hist_src = ColumnDataSource(hist_df)\n",
        "\n",
        "    glyph = VBar(x='rv', top='density', bottom=0, width=bar_width, fill_color='limegreen')\n",
        "    p.add_glyph(hist_src, glyph)\n",
        "    # Overlay a selection of the histogram within the estimate interval\n",
        "    interval_src = ColumnDataSource(hist_df[(hist_df.rv > normal_approx['quantile_interval'][0]) & (hist_df.rv < normal_approx['quantile_interval'][1])])\n",
        "    glyph = VBar(x='rv', top='density', bottom=0, width=bar_width, fill_color='darkgreen')\n",
        "    p.add_glyph(interval_src, glyph)\n",
        "    # Overlay the normal distribution within the interval.\n",
        "    x = np.linspace(normal_approx['normal_interval'][0], normal_approx['normal_interval'][1])\n",
        "    p.line(x=x, y=norm.pdf(x, loc= normal_approx['mean'], scale = normal_approx['sd']))\n",
        "    return p"
      ]
    },
    {
      "cell_type": "markdown",
      "metadata": {
        "id": "S2gE-F-Pmimt"
      },
      "source": [
        "## Run the baseline regression"
      ]
    },
    {
      "cell_type": "code",
      "execution_count": 31,
      "metadata": {
        "id": "mdfQXzlbwsYB"
      },
      "outputs": [],
      "source": [
        "# Run an OLS regression on the full data.\n",
        "def regress(y, X):\n",
        "  design_matrix = sm.add_constant(X)\n",
        "  ols_model = sm.OLS(y, design_matrix)\n",
        "  #print(ols_model.fit().summary())\n",
        "  return ols_model.fit()\n",
        "\n",
        "def print_eval_summary(the_fit):\n",
        "  # Just show the evaluation table, without coefs (tables[1] give coefs)\n",
        "  s = the_fit.summary()\n",
        "  print (s.tables[0])\n",
        "  return None"
      ]
    },
    {
      "cell_type": "code",
      "execution_count": 32,
      "metadata": {
        "colab": {
          "base_uri": "https://localhost:8080/"
        },
        "id": "D8-Zbopew7Fh",
        "outputId": "0ac699f4-1cd3-458a-c968-58a83b02aab9"
      },
      "outputs": [
        {
          "name": "stdout",
          "output_type": "stream",
          "text": [
            "                            OLS Regression Results                            \n",
            "==============================================================================\n",
            "Dep. Variable:                      y   R-squared:                       0.709\n",
            "Model:                            OLS   Adj. R-squared:                  0.662\n",
            "Method:                 Least Squares   F-statistic:                     15.06\n",
            "Date:                Mon, 22 Apr 2024   Prob (F-statistic):               0.00\n",
            "Time:                        09:56:21   Log-Likelihood:                -299.62\n",
            "No. Observations:                2748   AIC:                             1365.\n",
            "Df Residuals:                    2365   BIC:                             3632.\n",
            "Df Model:                         382                                         \n",
            "Covariance Type:            nonrobust                                         \n",
            "==============================================================================\n"
          ]
        },
        {
          "data": {
            "text/plain": [
              "('AIC: ', 1365.2353739571927)"
            ]
          },
          "execution_count": 32,
          "metadata": {},
          "output_type": "execute_result"
        }
      ],
      "source": [
        "fit = regress(outcomes, data_ar)\n",
        "print_eval_summary(fit)\n",
        "'AIC: ', AIC(fit)"
      ]
    },
    {
      "cell_type": "code",
      "execution_count": 33,
      "metadata": {
        "colab": {
          "base_uri": "https://localhost:8080/"
        },
        "id": "J9hZl7tRldnp",
        "outputId": "6f5f15a6-73f6-407c-ea6b-3d23d4edcc25"
      },
      "outputs": [
        {
          "data": {
            "text/plain": [
              "0.06186317321688501"
            ]
          },
          "execution_count": 33,
          "metadata": {},
          "output_type": "execute_result"
        }
      ],
      "source": [
        "# Compute in-sample error\n",
        "one_zero_error(fit.predict(), outcomes, test_threshold = 0.5)"
      ]
    },
    {
      "cell_type": "code",
      "execution_count": 40,
      "metadata": {},
      "outputs": [
        {
          "data": {
            "text/html": [
              "<div>\n",
              "<style scoped>\n",
              "    .dataframe tbody tr th:only-of-type {\n",
              "        vertical-align: middle;\n",
              "    }\n",
              "\n",
              "    .dataframe tbody tr th {\n",
              "        vertical-align: top;\n",
              "    }\n",
              "\n",
              "    .dataframe thead th {\n",
              "        text-align: right;\n",
              "    }\n",
              "</style>\n",
              "<table border=\"1\" class=\"dataframe\">\n",
              "  <thead>\n",
              "    <tr style=\"text-align: right;\">\n",
              "      <th></th>\n",
              "      <th>0</th>\n",
              "      <th>1</th>\n",
              "      <th>2</th>\n",
              "      <th>3</th>\n",
              "      <th>4</th>\n",
              "      <th>5</th>\n",
              "      <th>6</th>\n",
              "    </tr>\n",
              "  </thead>\n",
              "  <tbody>\n",
              "    <tr>\n",
              "      <th>0</th>\n",
              "      <td></td>\n",
              "      <td>coef</td>\n",
              "      <td>std err</td>\n",
              "      <td>t</td>\n",
              "      <td>P&gt;|t|</td>\n",
              "      <td>[0.025</td>\n",
              "      <td>0.975]</td>\n",
              "    </tr>\n",
              "    <tr>\n",
              "      <th>1</th>\n",
              "      <td>const</td>\n",
              "      <td>0.5822</td>\n",
              "      <td>0.056</td>\n",
              "      <td>10.336</td>\n",
              "      <td>0.000</td>\n",
              "      <td>0.472</td>\n",
              "      <td>0.693</td>\n",
              "    </tr>\n",
              "    <tr>\n",
              "      <th>2</th>\n",
              "      <td>x1</td>\n",
              "      <td>-0.2610</td>\n",
              "      <td>0.235</td>\n",
              "      <td>-1.112</td>\n",
              "      <td>0.266</td>\n",
              "      <td>-0.721</td>\n",
              "      <td>0.199</td>\n",
              "    </tr>\n",
              "    <tr>\n",
              "      <th>3</th>\n",
              "      <td>x2</td>\n",
              "      <td>0.4099</td>\n",
              "      <td>0.237</td>\n",
              "      <td>1.727</td>\n",
              "      <td>0.084</td>\n",
              "      <td>-0.056</td>\n",
              "      <td>0.875</td>\n",
              "    </tr>\n",
              "    <tr>\n",
              "      <th>4</th>\n",
              "      <td>x3</td>\n",
              "      <td>-0.2591</td>\n",
              "      <td>0.268</td>\n",
              "      <td>-0.967</td>\n",
              "      <td>0.333</td>\n",
              "      <td>-0.784</td>\n",
              "      <td>0.266</td>\n",
              "    </tr>\n",
              "    <tr>\n",
              "      <th>...</th>\n",
              "      <td>...</td>\n",
              "      <td>...</td>\n",
              "      <td>...</td>\n",
              "      <td>...</td>\n",
              "      <td>...</td>\n",
              "      <td>...</td>\n",
              "      <td>...</td>\n",
              "    </tr>\n",
              "    <tr>\n",
              "      <th>381</th>\n",
              "      <td>x380</td>\n",
              "      <td>-0.0595</td>\n",
              "      <td>0.275</td>\n",
              "      <td>-0.216</td>\n",
              "      <td>0.829</td>\n",
              "      <td>-0.599</td>\n",
              "      <td>0.480</td>\n",
              "    </tr>\n",
              "    <tr>\n",
              "      <th>382</th>\n",
              "      <td>x381</td>\n",
              "      <td>0.5904</td>\n",
              "      <td>0.229</td>\n",
              "      <td>2.576</td>\n",
              "      <td>0.010</td>\n",
              "      <td>0.141</td>\n",
              "      <td>1.040</td>\n",
              "    </tr>\n",
              "    <tr>\n",
              "      <th>383</th>\n",
              "      <td>x382</td>\n",
              "      <td>0.8383</td>\n",
              "      <td>0.230</td>\n",
              "      <td>3.650</td>\n",
              "      <td>0.000</td>\n",
              "      <td>0.388</td>\n",
              "      <td>1.289</td>\n",
              "    </tr>\n",
              "    <tr>\n",
              "      <th>384</th>\n",
              "      <td>x383</td>\n",
              "      <td>0.1760</td>\n",
              "      <td>0.231</td>\n",
              "      <td>0.760</td>\n",
              "      <td>0.447</td>\n",
              "      <td>-0.278</td>\n",
              "      <td>0.630</td>\n",
              "    </tr>\n",
              "    <tr>\n",
              "      <th>385</th>\n",
              "      <td>x384</td>\n",
              "      <td>-0.1651</td>\n",
              "      <td>0.290</td>\n",
              "      <td>-0.569</td>\n",
              "      <td>0.569</td>\n",
              "      <td>-0.734</td>\n",
              "      <td>0.404</td>\n",
              "    </tr>\n",
              "  </tbody>\n",
              "</table>\n",
              "<p>386 rows × 7 columns</p>\n",
              "</div>"
            ],
            "text/plain": [
              "         0           1          2          3       4          5          6\n",
              "0                 coef    std err          t   P>|t|     [0.025     0.975]\n",
              "1    const      0.5822      0.056     10.336   0.000      0.472      0.693\n",
              "2       x1     -0.2610      0.235     -1.112   0.266     -0.721      0.199\n",
              "3       x2      0.4099      0.237      1.727   0.084     -0.056      0.875\n",
              "4       x3     -0.2591      0.268     -0.967   0.333     -0.784      0.266\n",
              "..     ...         ...        ...        ...     ...        ...        ...\n",
              "381   x380     -0.0595      0.275     -0.216   0.829     -0.599      0.480\n",
              "382   x381      0.5904      0.229      2.576   0.010      0.141      1.040\n",
              "383   x382      0.8383      0.230      3.650   0.000      0.388      1.289\n",
              "384   x383      0.1760      0.231      0.760   0.447     -0.278      0.630\n",
              "385   x384     -0.1651      0.290     -0.569   0.569     -0.734      0.404\n",
              "\n",
              "[386 rows x 7 columns]"
            ]
          },
          "execution_count": 40,
          "metadata": {},
          "output_type": "execute_result"
        }
      ],
      "source": [
        "# Look at some of the beta coefficients\n",
        "pd.DataFrame(fit.summary().tables[1])"
      ]
    },
    {
      "cell_type": "markdown",
      "metadata": {
        "id": "oScwVPdsxRb4"
      },
      "source": [
        "## An example Interval estimate for out-of-sample 0-1 error via Bootstrap re-sampling\n",
        "\n",
        "This demonstrates the 0-1 error rate interval estimate, by resampling the training predictor, then measuring accuracy on the holdout set. This may be overkill, as a way to estimate the variation in the holdout error. \n",
        "\n",
        "Note that the non-parametric interval does slightly worse than its normal approximation interval. "
      ]
    },
    {
      "cell_type": "code",
      "execution_count": 35,
      "metadata": {
        "colab": {
          "base_uri": "https://localhost:8080/"
        },
        "id": "B0o1MNDhg6Jq",
        "outputId": "04c5f2d2-7379-4015-b188-554d77cd15c9"
      },
      "outputs": [
        {
          "data": {
            "text/plain": [
              "(2248, 200)"
            ]
          },
          "execution_count": 35,
          "metadata": {},
          "output_type": "execute_result"
        }
      ],
      "source": [
        "# Create a large number of bootstrap replications\n",
        "# Each column in \"resamplings\" is a set of indexes into the rows of the training set, resampled with replacement.\n",
        "\n",
        "def bootstrap_replicates(the_sample, B=BOOTSTRAP_RESAMPLES):\n",
        "    replicates = np.zeros((len(the_sample), B), dtype='int')\n",
        "    for k in range(B):\n",
        "        replicates[:,k] = np.random.choice(the_sample, len(the_sample), replace=True).astype('int')\n",
        "    return replicates\n",
        "\n",
        "resamplings = bootstrap_replicates(list(range(sample_size)))\n",
        "resamplings.shape"
      ]
    },
    {
      "cell_type": "code",
      "execution_count": 36,
      "metadata": {},
      "outputs": [
        {
          "data": {
            "text/html": [
              "<div>\n",
              "<style scoped>\n",
              "    .dataframe tbody tr th:only-of-type {\n",
              "        vertical-align: middle;\n",
              "    }\n",
              "\n",
              "    .dataframe tbody tr th {\n",
              "        vertical-align: top;\n",
              "    }\n",
              "\n",
              "    .dataframe thead th {\n",
              "        text-align: right;\n",
              "    }\n",
              "</style>\n",
              "<table border=\"1\" class=\"dataframe\">\n",
              "  <thead>\n",
              "    <tr style=\"text-align: right;\">\n",
              "      <th></th>\n",
              "      <th>0</th>\n",
              "    </tr>\n",
              "  </thead>\n",
              "  <tbody>\n",
              "    <tr>\n",
              "      <th>count</th>\n",
              "      <td>200.000000</td>\n",
              "    </tr>\n",
              "    <tr>\n",
              "      <th>mean</th>\n",
              "      <td>1421.115000</td>\n",
              "    </tr>\n",
              "    <tr>\n",
              "      <th>std</th>\n",
              "      <td>15.175416</td>\n",
              "    </tr>\n",
              "    <tr>\n",
              "      <th>min</th>\n",
              "      <td>1364.000000</td>\n",
              "    </tr>\n",
              "    <tr>\n",
              "      <th>25%</th>\n",
              "      <td>1411.750000</td>\n",
              "    </tr>\n",
              "    <tr>\n",
              "      <th>50%</th>\n",
              "      <td>1421.000000</td>\n",
              "    </tr>\n",
              "    <tr>\n",
              "      <th>75%</th>\n",
              "      <td>1431.000000</td>\n",
              "    </tr>\n",
              "    <tr>\n",
              "      <th>max</th>\n",
              "      <td>1466.000000</td>\n",
              "    </tr>\n",
              "  </tbody>\n",
              "</table>\n",
              "</div>"
            ],
            "text/plain": [
              "                 0\n",
              "count   200.000000\n",
              "mean   1421.115000\n",
              "std      15.175416\n",
              "min    1364.000000\n",
              "25%    1411.750000\n",
              "50%    1421.000000\n",
              "75%    1431.000000\n",
              "max    1466.000000"
            ]
          },
          "execution_count": 36,
          "metadata": {},
          "output_type": "execute_result"
        }
      ],
      "source": [
        "# How much duplication is there in the resamplings? \n",
        "# Remove duplicates by looking at the size of the resamplings as sets\n",
        "resampling_size = [len(set(resamplings[:,k])) for k in range(resamplings.shape[1])]\n",
        "pd.DataFrame(resampling_size).describe()"
      ]
    },
    {
      "cell_type": "code",
      "execution_count": 37,
      "metadata": {},
      "outputs": [
        {
          "name": "stdout",
          "output_type": "stream",
          "text": [
            "                                 OLS Regression Results                                \n",
            "=======================================================================================\n",
            "Dep. Variable:                      y   R-squared (uncentered):                   0.853\n",
            "Model:                            OLS   Adj. R-squared (uncentered):              0.823\n",
            "Method:                 Least Squares   F-statistic:                              28.44\n",
            "Date:                Mon, 22 Apr 2024   Prob (F-statistic):                        0.00\n",
            "Time:                        09:56:23   Log-Likelihood:                         -255.36\n",
            "No. Observations:                2248   AIC:                                      1275.\n",
            "Df Residuals:                    1866   BIC:                                      3459.\n",
            "Df Model:                         382                                                  \n",
            "Covariance Type:            nonrobust                                                  \n",
            "=======================================================================================\n",
            "hold out error 0.1404\n"
          ]
        },
        {
          "data": {
            "text/plain": [
              "('AIC: ', 1276.7224581467462)"
            ]
          },
          "execution_count": 37,
          "metadata": {},
          "output_type": "execute_result"
        }
      ],
      "source": [
        "# What are the estimates on the learning data?\n",
        "# fit = regress(learning_outcome, learning_data[:,:100])\n",
        "xols_model = sm.OLS(learning_outcome, learning_data[:,:EMBEDDING_DIMENSIONS])\n",
        "xfit = xols_model.fit()\n",
        "print_eval_summary(xfit)\n",
        "predict_with_data = np.copy(holdout_data[:,:EMBEDDING_DIMENSIONS])\n",
        "hold_out_predict = xfit.predict(predict_with_data)\n",
        "print(f'hold out error {one_zero_error(hold_out_predict, holdout_actuals):.4}')\n",
        "baseline_AIC = AIC(xfit)\n",
        "'AIC: ', baseline_AIC"
      ]
    },
    {
      "cell_type": "code",
      "execution_count": 42,
      "metadata": {},
      "outputs": [
        {
          "data": {
            "text/plain": [
              "(171, 385)"
            ]
          },
          "execution_count": 42,
          "metadata": {},
          "output_type": "execute_result"
        }
      ],
      "source": [
        "holdout_w_const.shape"
      ]
    },
    {
      "cell_type": "code",
      "execution_count": 43,
      "metadata": {
        "colab": {
          "base_uri": "https://localhost:8080/"
        },
        "id": "PkrlDlT6xLen",
        "outputId": "225e88ce-3a89-4209-f293-f4201e95aaff"
      },
      "outputs": [
        {
          "name": "stdout",
          "output_type": "stream",
          "text": [
            "learning AIC: \n",
            "777.16, \n",
            "693.49, 625.04, 711.36, 846.61, 738.81, 701.46, 698.18, 749.25, 755.2, 620.32, \n",
            "548.93, 691.55, 736.63, 690.52, 699.75, 659.17, 729.54, 667.24, 798.8, 767.93, \n",
            "743.16, 775.72, 615.21, 710.53, 741.22, 695.2, 839.41, 884.19, 677.5, 622.69, \n",
            "869.48, 830.9, 746.25, 803.88, 707.33, 584.77, 763.84, 750.1, 639.51, 710.58, \n",
            "640.86, 734.47, 685.49, 827.89, 746.31, 794.2, 821.2, 694.43, 710.82, 633.18, \n",
            "698.64, 625.89, 544.26, 691.14, 836.76, 733.55, 635.94, 675.87, 791.64, 734.51, \n",
            "640.28, 816.49, 677.78, 707.06, 779.88, 677.93, 823.15, 639.89, 789.02, 676.44, \n",
            "840.44, 699.82, 691.91, 806.98, 798.28, 694.6, 660.38, 857.06, 817.44, 751.11, \n",
            "871.2, 829.38, 783.82, 703.72, 835.33, 703.64, 827.76, 718.33, 734.81, 815.06, \n",
            "648.38, 633.75, 864.07, 690.05, 802.71, 638.42, 719.63, 688.62, 681.35, 592.17, \n",
            "603.24, 708.47, 635.81, 702.52, 661.1, 534.71, 803.28, 731.11, 610.62, 843.19, \n",
            "705.96, 844.29, 644.72, 782.79, 792.42, 622.65, 822.57, 680.15, 722.64, 637.56, \n",
            "715.25, 630.1, 660.69, 703.5, 727.72, 485.01, 742.69, 788.31, 830.29, 768.23, \n",
            "728.04, 661.62, 753.82, 633.09, 701.5, 750.25, 698.36, 649.34, 761.83, 816.44, \n",
            "715.45, 697.68, 644.65, 711.2, 775.86, 740.69, 785.87, 537.6, 776.33, 926.89, \n",
            "847.52, 733.79, 769.27, 692.69, 804.24, 703.57, 651.81, 677.21, 585.46, 651.22, \n",
            "653.67, 817.03, 781.74, 749.28, 774.79, 741.98, 718.57, 740.97, 757.72, 621.21, \n",
            "665.65, 792.87, 735.43, 736.41, 628.18, 792.3, 824.09, 615.72, 811.3, 701.35, \n",
            "599.83, 732.33, 579.48, 710.45, 756.6, 564.5, 852.88, 748.72, 624.15, 733.77, \n",
            "825.13, 859.85, 713.48, 704.78, 646.66, 796.04, 805.54, 686.72, 789.06, "
          ]
        }
      ],
      "source": [
        "# Bootstrap the zero-one error on a hold-out set.\n",
        "\n",
        "# Create a large number of bootstrap replications\n",
        "resampled_errors = np.zeros(BOOTSTRAP_RESAMPLES)\n",
        "\n",
        "# Retrain the model on the resampled learning set,\n",
        "# and compute the hold-out set error for each resample\n",
        "print('learning AIC: ')\n",
        "for k in range(BOOTSTRAP_RESAMPLES):\n",
        "  resampled_data  = learning_data[resamplings[:,k],:]\n",
        "  retraining_fit = regress(learning_outcome[resamplings[:,k]], resampled_data) # [resamplings[:,k]], resampled_data)\n",
        "  print(f'{AIC(retraining_fit):.5}', end=', ')\n",
        "  if k % 10 == 0:\n",
        "    print()\n",
        "\n",
        "  # Predict on the hold-out set\n",
        "  holdout_w_const = sm.add_constant(np.copy(holdout_data))\n",
        "  hold_out_predict = retraining_fit.predict(holdout_w_const)\n",
        "  resampled_errors[k] = one_zero_error(hold_out_predict, holdout_actuals)\n"
      ]
    },
    {
      "cell_type": "code",
      "execution_count": 44,
      "metadata": {
        "colab": {
          "base_uri": "https://localhost:8080/",
          "height": 300
        },
        "id": "vC0ptqMwxiuL",
        "outputId": "613d0fd0-ab98-4218-b835-e521553f87b6"
      },
      "outputs": [
        {
          "data": {
            "text/html": [
              "<div>\n",
              "<style scoped>\n",
              "    .dataframe tbody tr th:only-of-type {\n",
              "        vertical-align: middle;\n",
              "    }\n",
              "\n",
              "    .dataframe tbody tr th {\n",
              "        vertical-align: top;\n",
              "    }\n",
              "\n",
              "    .dataframe thead th {\n",
              "        text-align: right;\n",
              "    }\n",
              "</style>\n",
              "<table border=\"1\" class=\"dataframe\">\n",
              "  <thead>\n",
              "    <tr style=\"text-align: right;\">\n",
              "      <th></th>\n",
              "      <th>0</th>\n",
              "    </tr>\n",
              "  </thead>\n",
              "  <tbody>\n",
              "    <tr>\n",
              "      <th>count</th>\n",
              "      <td>200.000000</td>\n",
              "    </tr>\n",
              "    <tr>\n",
              "      <th>mean</th>\n",
              "      <td>0.151579</td>\n",
              "    </tr>\n",
              "    <tr>\n",
              "      <th>std</th>\n",
              "      <td>0.018338</td>\n",
              "    </tr>\n",
              "    <tr>\n",
              "      <th>min</th>\n",
              "      <td>0.105263</td>\n",
              "    </tr>\n",
              "    <tr>\n",
              "      <th>25%</th>\n",
              "      <td>0.140351</td>\n",
              "    </tr>\n",
              "    <tr>\n",
              "      <th>50%</th>\n",
              "      <td>0.152047</td>\n",
              "    </tr>\n",
              "    <tr>\n",
              "      <th>75%</th>\n",
              "      <td>0.163743</td>\n",
              "    </tr>\n",
              "    <tr>\n",
              "      <th>max</th>\n",
              "      <td>0.192982</td>\n",
              "    </tr>\n",
              "  </tbody>\n",
              "</table>\n",
              "</div>"
            ],
            "text/plain": [
              "                0\n",
              "count  200.000000\n",
              "mean     0.151579\n",
              "std      0.018338\n",
              "min      0.105263\n",
              "25%      0.140351\n",
              "50%      0.152047\n",
              "75%      0.163743\n",
              "max      0.192982"
            ]
          },
          "execution_count": 44,
          "metadata": {},
          "output_type": "execute_result"
        }
      ],
      "source": [
        "# What to the bootstrap errors look like?\n",
        "pd.DataFrame(resampled_errors).describe()"
      ]
    },
    {
      "cell_type": "code",
      "execution_count": 45,
      "metadata": {
        "colab": {
          "base_uri": "https://localhost:8080/",
          "height": 334
        },
        "id": "lb0SBDB9vkmv",
        "outputId": "c579ba54-15b4-49b9-f49e-2a73bbbd1939"
      },
      "outputs": [
        {
          "name": "stdout",
          "output_type": "stream",
          "text": [
            "Limits  0.07987562142127524 0.22328227331556683\n"
          ]
        },
        {
          "data": {
            "text/html": [
              "\n",
              "  <div id=\"f81ba7c2-fffe-421e-b37a-1b5a47f3ca36\" data-root-id=\"p1063\" style=\"display: contents;\"></div>\n"
            ]
          },
          "metadata": {},
          "output_type": "display_data"
        },
        {
          "data": {
            "application/javascript": "(function(root) {\n  function embed_document(root) {\n  const docs_json = {\"a3caac7e-7231-4f06-b9c8-0fbb251b45e7\":{\"version\":\"3.3.0\",\"title\":\"Bokeh Application\",\"roots\":[{\"type\":\"object\",\"name\":\"Figure\",\"id\":\"p1063\",\"attributes\":{\"width\":800,\"height\":300,\"x_range\":{\"type\":\"object\",\"name\":\"Range1d\",\"id\":\"p1073\",\"attributes\":{\"start\":0.07987562142127524,\"end\":0.22328227331556683}},\"y_range\":{\"type\":\"object\",\"name\":\"DataRange1d\",\"id\":\"p1065\"},\"x_scale\":{\"type\":\"object\",\"name\":\"LinearScale\",\"id\":\"p1074\"},\"y_scale\":{\"type\":\"object\",\"name\":\"LinearScale\",\"id\":\"p1075\"},\"title\":{\"type\":\"object\",\"name\":\"Title\",\"id\":\"p1066\",\"attributes\":{\"text\":\"Normal versus Empirical Bootstrap Interval Estimates.\\n\"}},\"renderers\":[{\"type\":\"object\",\"name\":\"GlyphRenderer\",\"id\":\"p1098\",\"attributes\":{\"data_source\":{\"type\":\"object\",\"name\":\"ColumnDataSource\",\"id\":\"p1094\",\"attributes\":{\"selected\":{\"type\":\"object\",\"name\":\"Selection\",\"id\":\"p1095\",\"attributes\":{\"indices\":[],\"line_indices\":[]}},\"selection_policy\":{\"type\":\"object\",\"name\":\"UnionRenderers\",\"id\":\"p1096\"},\"data\":{\"type\":\"map\",\"entries\":[[\"index\",{\"type\":\"ndarray\",\"array\":{\"type\":\"bytes\",\"data\":\"AAAAAAEAAAACAAAAAwAAAAQAAAAFAAAABgAAAAcAAAAIAAAACQAAAAoAAAALAAAADAAAAA0AAAAOAAAADwAAABAAAAARAAAAEgAAABMAAAAUAAAAFQAAABYAAAAXAAAAGAAAABkAAAAaAAAAGwAAABwAAAAdAAAAHgAAAB8AAAAgAAAAIQAAACIAAAAjAAAAJAAAACUAAAAmAAAAJwAAACgAAAApAAAAKgAAACsAAAAsAAAALQAAAC4AAAAvAAAAMAAAADEAAAA=\"},\"shape\":[50],\"dtype\":\"int32\",\"order\":\"little\"}],[\"rv\",{\"type\":\"ndarray\",\"array\":{\"type\":\"bytes\",\"data\":\"KK+hvIbyuj9YtvlygGW7P4e9USl62Ls/t8Sp33NLvD/mywGWbb68PxbTWUxnMb0/RtqxAmGkvT914Qm5Whe+P6XoYW9Uir4/1O+5JU79vj8E9xHcR3C/PzT+aZJB478/sgJhpB0rwD9JBo1/mmTAP+EJuVoXnsA/eQ3lNZTXwD8RERERERHBP6gUPeyNSsE/QBhpxwqEwT/YG5Wih73BP3AfwX0E98E/CCPtWIEwwj+gJhk0/mnCPzcqRQ97o8I/zy1x6vfcwj9nMZ3FdBbDP/80yaDxT8M/ljj1e26Jwz8uPCFX68LDP8Y/TTJo/MM/XkN5DeU1xD/2RqXoYW/EP45K0cPeqMQ/JU79nlvixD+9USl62BvFP1VVVVVVVcU/7FiBMNKOxT+EXK0LT8jFPxxg2ebLAcY/tGMFwkg7xj9MZzGdxXTGP+RqXXhCrsY/fG6JU7/nxj8UcrUuPCHHP6t14Qm5Wsc/Q3kN5TWUxz/afDnAss3HP3KAZZsvB8g/CoSRdqxAyD+ih71RKXrIPw==\"},\"shape\":[50],\"dtype\":\"float64\",\"order\":\"little\"}],[\"density\",{\"type\":\"ndarray\",\"array\":{\"type\":\"bytes\",\"data\":\"uMzMzMzMBkAAAAAAAAAAAAAAAAAAAAAA7MzMzMzMBkAAAAAAAAAAAAAAAAAAAAAAsZmZmZkZMUAAAAAAAAAAAAAAAAAAAAAAAAAAAAAAAAB/mZmZmVk/QAAAAAAAAAAAAAAAAAAAAABWZmZmZoZCQAAAAAAAAAAAAAAAAAAAAACpZmZmZoZCQAAAAAAAAAAAAAAAAAAAAAAAAAAAAAAAALPMzMzM7E1AAAAAAAAAAAAAAAAAAAAAAOj/////f0xAAAAAAAAAAAAAAAAAAAAAABLNzMzMPFNAAAAAAAAAAAAAAAAAAAAAAAAAAAAAAAAAi5mZmZkZUUAAAAAAAAAAAAAAAAAAAAAAJTMzMzNjUEAAAAAAAAAAAAAAAAAAAAAAVmZmZmaGQkAAAAAAAAAAAAAAAAAAAAAAAAAAAAAAAACLmZmZmRlBQAAAAAAAAAAAAAAAAAAAAADXmZmZmRkxQAAAAAAAAAAAAAAAAAAAAAAiMzMzM/MzQAAAAAAAAAAAAAAAAAAAAAC4zMzMzMwWQA==\"},\"shape\":[50],\"dtype\":\"float64\",\"order\":\"little\"}]]}}},\"view\":{\"type\":\"object\",\"name\":\"CDSView\",\"id\":\"p1099\",\"attributes\":{\"filter\":{\"type\":\"object\",\"name\":\"AllIndices\",\"id\":\"p1100\"}}},\"glyph\":{\"type\":\"object\",\"name\":\"VBar\",\"id\":\"p1097\",\"attributes\":{\"x\":{\"type\":\"field\",\"field\":\"rv\"},\"width\":{\"type\":\"value\",\"value\":0.0017543859649122805},\"top\":{\"type\":\"field\",\"field\":\"density\"},\"fill_color\":{\"type\":\"value\",\"value\":\"limegreen\"}}}}},{\"type\":\"object\",\"name\":\"GlyphRenderer\",\"id\":\"p1105\",\"attributes\":{\"data_source\":{\"type\":\"object\",\"name\":\"ColumnDataSource\",\"id\":\"p1101\",\"attributes\":{\"selected\":{\"type\":\"object\",\"name\":\"Selection\",\"id\":\"p1102\",\"attributes\":{\"indices\":[],\"line_indices\":[]}},\"selection_policy\":{\"type\":\"object\",\"name\":\"UnionRenderers\",\"id\":\"p1103\"},\"data\":{\"type\":\"map\",\"entries\":[[\"index\",{\"type\":\"ndarray\",\"array\":{\"type\":\"bytes\",\"data\":\"BwAAAAgAAAAJAAAACgAAAAsAAAAMAAAADQAAAA4AAAAPAAAAEAAAABEAAAASAAAAEwAAABQAAAAVAAAAFgAAABcAAAAYAAAAGQAAABoAAAAbAAAAHAAAAB0AAAAeAAAAHwAAACAAAAAhAAAAIgAAACMAAAAkAAAAJQAAACYAAAAnAAAAKAAAACkAAAAqAAAAKwAAACwAAAAtAAAALgAAAA==\"},\"shape\":[40],\"dtype\":\"int32\",\"order\":\"little\"}],[\"rv\",{\"type\":\"ndarray\",\"array\":{\"type\":\"bytes\",\"data\":\"deEJuVoXvj+l6GFvVIq+P9TvuSVO/b4/BPcR3Edwvz80/mmSQeO/P7ICYaQdK8A/SQaNf5pkwD/hCblaF57AP3kN5TWU18A/ERERERERwT+oFD3sjUrBP0AYaccKhME/2BuVooe9wT9wH8F9BPfBPwgj7ViBMMI/oCYZNP5pwj83KkUPe6PCP88tcer33MI/ZzGdxXQWwz//NMmg8U/DP5Y49XtuicM/LjwhV+vCwz/GP00yaPzDP15DeQ3lNcQ/9kal6GFvxD+OStHD3qjEPyVO/Z5b4sQ/vVEpetgbxT9VVVVVVVXFP+xYgTDSjsU/hFytC0/IxT8cYNnmywHGP7RjBcJIO8Y/TGcxncV0xj/kal14Qq7GP3xuiVO/58Y/FHK1Ljwhxz+rdeEJuVrHP0N5DeU1lMc/2nw5wLLNxz8=\"},\"shape\":[40],\"dtype\":\"float64\",\"order\":\"little\"}],[\"density\",{\"type\":\"ndarray\",\"array\":{\"type\":\"bytes\",\"data\":\"AAAAAAAAAAAAAAAAAAAAAAAAAAAAAAAAf5mZmZlZP0AAAAAAAAAAAAAAAAAAAAAAVmZmZmaGQkAAAAAAAAAAAAAAAAAAAAAAqWZmZmaGQkAAAAAAAAAAAAAAAAAAAAAAAAAAAAAAAACzzMzMzOxNQAAAAAAAAAAAAAAAAAAAAADo/////39MQAAAAAAAAAAAAAAAAAAAAAASzczMzDxTQAAAAAAAAAAAAAAAAAAAAAAAAAAAAAAAAIuZmZmZGVFAAAAAAAAAAAAAAAAAAAAAACUzMzMzY1BAAAAAAAAAAAAAAAAAAAAAAFZmZmZmhkJAAAAAAAAAAAAAAAAAAAAAAAAAAAAAAAAAi5mZmZkZQUAAAAAAAAAAAAAAAAAAAAAA15mZmZkZMUAAAAAAAAAAAAAAAAAAAAAAIjMzMzPzM0A=\"},\"shape\":[40],\"dtype\":\"float64\",\"order\":\"little\"}]]}}},\"view\":{\"type\":\"object\",\"name\":\"CDSView\",\"id\":\"p1106\",\"attributes\":{\"filter\":{\"type\":\"object\",\"name\":\"AllIndices\",\"id\":\"p1107\"}}},\"glyph\":{\"type\":\"object\",\"name\":\"VBar\",\"id\":\"p1104\",\"attributes\":{\"x\":{\"type\":\"field\",\"field\":\"rv\"},\"width\":{\"type\":\"value\",\"value\":0.0017543859649122805},\"top\":{\"type\":\"field\",\"field\":\"density\"},\"fill_color\":{\"type\":\"value\",\"value\":\"darkgreen\"}}}}},{\"type\":\"object\",\"name\":\"GlyphRenderer\",\"id\":\"p1114\",\"attributes\":{\"data_source\":{\"type\":\"object\",\"name\":\"ColumnDataSource\",\"id\":\"p1108\",\"attributes\":{\"selected\":{\"type\":\"object\",\"name\":\"Selection\",\"id\":\"p1109\",\"attributes\":{\"indices\":[],\"line_indices\":[]}},\"selection_policy\":{\"type\":\"object\",\"name\":\"UnionRenderers\",\"id\":\"p1110\"},\"data\":{\"type\":\"map\",\"entries\":[[\"x\",{\"type\":\"ndarray\",\"array\":{\"type\":\"bytes\",\"data\":\"WBO7pU2gvT8mpuRNNAC+P/Q4DvYaYL4/wss3ngHAvj+QXmFG6B+/P17xiu7Of78/LIS0lrXfvz99C28fzh/AP+TUg3PBT8A/S56Yx7R/wD+yZ60bqK/APxkxwm+b38A/gPrWw44PwT/nw+sXgj/BP06NAGx1b8E/tVYVwGifwT8cICoUXM/BP4PpPmhP/8E/6rJTvEIvwj9SfGgQNl/CP7hFfWQpj8I/IA+SuBy/wj+G2KYMEO/CP+6hu2ADH8M/VGvQtPZOwz+8NOUI6n7DPyL++VzdrsM/iscOsdDewz/xkCMFxA7EP1haOFm3PsQ/vyNNrapuxD8m7WEBnp7EP422dlWRzsQ/9H+LqYT+xD9bSaD9dy7FP8IStVFrXsU/KdzJpV6OxT+Qpd75Ub7FP/du801F7sU/XjgIojgexj/FAR32K07GPyzLMUoffsY/k5RGnhKuxj/6XVvyBd7GP2EncEb5Dcc/yPCEmuw9xz8vupnu323HP5aDrkLTncc//UzDlsbNxz9kFtjquf3HPw==\"},\"shape\":[50],\"dtype\":\"float64\",\"order\":\"little\"}],[\"y\",{\"type\":\"ndarray\",\"array\":{\"type\":\"bytes\",\"data\":\"SsY7qEGPCUAbW5K6mM0NQE0Yk0XFQxFAWB443QPgE0BzrxVs7bsWQDK6ZO+n1hlAfAMPOPItHUB6z3NVAV8gQHb1BnK3QCJA3RPCL484JEChjSUEJUImQFETbxZFWChAh07W6vl0KkCjjjruopEsQFMNaLgSpy5Ar3PZPdpWMEAOSSHc204xQJYU13agNzJAhCgg2k4NM0C2UPIyPcwzQKE+G6kLcTRA2Q+Xsr34NEDIZ20X0WA1QI8/mq5RpzVAJ/Um++jKNUAn9Sb76Mo1QI8/mq5RpzVAyGdtF9FgNUDWD5eyvfg0QKE+G6kLcTRAs1DyMj3MM0CEKCDaTg0zQJYU13agNzJADkkh3NtOMUCvc9k92lYwQFMNaLgSpy5Ao4467qKRLECHTtbq+XQqQFETbxZFWChAoY0lBCVCJkDdE8IvjzgkQHb1BnK3QCJAes9zVQFfIEB8Aw848i0dQDK6ZO+n1hlAc68VbO27FkBYHjjdA+ATQE0Yk0XFQxFAG1uSupjNDUBKxjuoQY8JQA==\"},\"shape\":[50],\"dtype\":\"float64\",\"order\":\"little\"}]]}}},\"view\":{\"type\":\"object\",\"name\":\"CDSView\",\"id\":\"p1115\",\"attributes\":{\"filter\":{\"type\":\"object\",\"name\":\"AllIndices\",\"id\":\"p1116\"}}},\"glyph\":{\"type\":\"object\",\"name\":\"Line\",\"id\":\"p1111\",\"attributes\":{\"x\":{\"type\":\"field\",\"field\":\"x\"},\"y\":{\"type\":\"field\",\"field\":\"y\"},\"line_color\":\"#1f77b4\"}},\"nonselection_glyph\":{\"type\":\"object\",\"name\":\"Line\",\"id\":\"p1112\",\"attributes\":{\"x\":{\"type\":\"field\",\"field\":\"x\"},\"y\":{\"type\":\"field\",\"field\":\"y\"},\"line_color\":\"#1f77b4\",\"line_alpha\":0.1}},\"muted_glyph\":{\"type\":\"object\",\"name\":\"Line\",\"id\":\"p1113\",\"attributes\":{\"x\":{\"type\":\"field\",\"field\":\"x\"},\"y\":{\"type\":\"field\",\"field\":\"y\"},\"line_color\":\"#1f77b4\",\"line_alpha\":0.2}}}}],\"toolbar\":{\"type\":\"object\",\"name\":\"Toolbar\",\"id\":\"p1072\",\"attributes\":{\"tools\":[{\"type\":\"object\",\"name\":\"PanTool\",\"id\":\"p1086\"},{\"type\":\"object\",\"name\":\"WheelZoomTool\",\"id\":\"p1087\",\"attributes\":{\"renderers\":\"auto\"}},{\"type\":\"object\",\"name\":\"BoxZoomTool\",\"id\":\"p1088\",\"attributes\":{\"overlay\":{\"type\":\"object\",\"name\":\"BoxAnnotation\",\"id\":\"p1089\",\"attributes\":{\"syncable\":false,\"level\":\"overlay\",\"visible\":false,\"left_units\":\"canvas\",\"right_units\":\"canvas\",\"top_units\":\"canvas\",\"bottom_units\":\"canvas\",\"line_color\":\"black\",\"line_alpha\":1.0,\"line_width\":2,\"line_dash\":[4,4],\"fill_color\":\"lightgrey\",\"fill_alpha\":0.5}}}},{\"type\":\"object\",\"name\":\"SaveTool\",\"id\":\"p1090\"},{\"type\":\"object\",\"name\":\"ResetTool\",\"id\":\"p1091\"},{\"type\":\"object\",\"name\":\"HelpTool\",\"id\":\"p1092\"}]}},\"left\":[{\"type\":\"object\",\"name\":\"LinearAxis\",\"id\":\"p1081\",\"attributes\":{\"ticker\":{\"type\":\"object\",\"name\":\"BasicTicker\",\"id\":\"p1082\",\"attributes\":{\"mantissas\":[1,2,5]}},\"formatter\":{\"type\":\"object\",\"name\":\"BasicTickFormatter\",\"id\":\"p1083\"},\"major_label_policy\":{\"type\":\"object\",\"name\":\"AllLabels\",\"id\":\"p1084\"}}}],\"below\":[{\"type\":\"object\",\"name\":\"LinearAxis\",\"id\":\"p1076\",\"attributes\":{\"ticker\":{\"type\":\"object\",\"name\":\"BasicTicker\",\"id\":\"p1077\",\"attributes\":{\"mantissas\":[1,2,5]}},\"formatter\":{\"type\":\"object\",\"name\":\"BasicTickFormatter\",\"id\":\"p1078\"},\"major_label_policy\":{\"type\":\"object\",\"name\":\"AllLabels\",\"id\":\"p1079\"}}}],\"center\":[{\"type\":\"object\",\"name\":\"Grid\",\"id\":\"p1080\",\"attributes\":{\"axis\":{\"id\":\"p1076\"}}},{\"type\":\"object\",\"name\":\"Grid\",\"id\":\"p1085\",\"attributes\":{\"dimension\":1,\"axis\":{\"id\":\"p1081\"}}},{\"type\":\"object\",\"name\":\"BoxAnnotation\",\"id\":\"p1093\",\"attributes\":{\"left\":0.11572728439484814,\"right\":0.18743061034199393,\"top\":76.95000000000098,\"bottom\":0,\"fill_color\":\"#D55E00\",\"fill_alpha\":0.2}}]}}]}};\n  const render_items = [{\"docid\":\"a3caac7e-7231-4f06-b9c8-0fbb251b45e7\",\"roots\":{\"p1063\":\"f81ba7c2-fffe-421e-b37a-1b5a47f3ca36\"},\"root_ids\":[\"p1063\"]}];\n  root.Bokeh.embed.embed_items_notebook(docs_json, render_items);\n  }\n  if (root.Bokeh !== undefined) {\n    embed_document(root);\n  } else {\n    let attempts = 0;\n    const timer = setInterval(function(root) {\n      if (root.Bokeh !== undefined) {\n        clearInterval(timer);\n        embed_document(root);\n      } else {\n        attempts++;\n        if (attempts > 100) {\n          clearInterval(timer);\n          console.log(\"Bokeh: ERROR: Unable to run BokehJS code because BokehJS library is missing\");\n        }\n      }\n    }, 10, root)\n  }\n})(window);",
            "application/vnd.bokehjs_exec.v0+json": ""
          },
          "metadata": {
            "application/vnd.bokehjs_exec.v0+json": {
              "id": "p1063"
            }
          },
          "output_type": "display_data"
        }
      ],
      "source": [
        "#Plot the error distribution, and compute the interval estimate limit.\n",
        "p = plot_intervals(resampled_errors)\n",
        "show(p)"
      ]
    },
    {
      "cell_type": "markdown",
      "metadata": {
        "id": "uQJN7qq0mpFT"
      },
      "source": [
        "##  Generate selected features, for an alternative model\n",
        "\n",
        "A crude way to select features for linear regression is to sort the variables by the largest correlation with the dependent variable.  Let's see how the holdout error changes as variables are added to the linear regression. "
      ]
    },
    {
      "cell_type": "code",
      "execution_count": 46,
      "metadata": {
        "id": "FZ4dqTzCyehW"
      },
      "outputs": [
        {
          "data": {
            "text/html": [
              "<div>\n",
              "<style scoped>\n",
              "    .dataframe tbody tr th:only-of-type {\n",
              "        vertical-align: middle;\n",
              "    }\n",
              "\n",
              "    .dataframe tbody tr th {\n",
              "        vertical-align: top;\n",
              "    }\n",
              "\n",
              "    .dataframe thead th {\n",
              "        text-align: right;\n",
              "    }\n",
              "</style>\n",
              "<table border=\"1\" class=\"dataframe\">\n",
              "  <thead>\n",
              "    <tr style=\"text-align: right;\">\n",
              "      <th></th>\n",
              "      <th>0</th>\n",
              "    </tr>\n",
              "  </thead>\n",
              "  <tbody>\n",
              "    <tr>\n",
              "      <th>count</th>\n",
              "      <td>384.000000</td>\n",
              "    </tr>\n",
              "    <tr>\n",
              "      <th>mean</th>\n",
              "      <td>0.079746</td>\n",
              "    </tr>\n",
              "    <tr>\n",
              "      <th>std</th>\n",
              "      <td>8.490415</td>\n",
              "    </tr>\n",
              "    <tr>\n",
              "      <th>min</th>\n",
              "      <td>-22.757116</td>\n",
              "    </tr>\n",
              "    <tr>\n",
              "      <th>25%</th>\n",
              "      <td>-6.780350</td>\n",
              "    </tr>\n",
              "    <tr>\n",
              "      <th>50%</th>\n",
              "      <td>0.056663</td>\n",
              "    </tr>\n",
              "    <tr>\n",
              "      <th>75%</th>\n",
              "      <td>6.590051</td>\n",
              "    </tr>\n",
              "    <tr>\n",
              "      <th>max</th>\n",
              "      <td>18.940927</td>\n",
              "    </tr>\n",
              "  </tbody>\n",
              "</table>\n",
              "</div>"
            ],
            "text/plain": [
              "                0\n",
              "count  384.000000\n",
              "mean     0.079746\n",
              "std      8.490415\n",
              "min    -22.757116\n",
              "25%     -6.780350\n",
              "50%      0.056663\n",
              "75%      6.590051\n",
              "max     18.940927"
            ]
          },
          "execution_count": 46,
          "metadata": {},
          "output_type": "execute_result"
        }
      ],
      "source": [
        "# Use a dot product to approximate the covariance\n",
        "\n",
        "feature_cov = learning_data.T @ learning_outcome / la.norm(learning_data, axis=0)\n",
        "pd.DataFrame(feature_cov).describe()"
      ]
    },
    {
      "cell_type": "code",
      "execution_count": 47,
      "metadata": {},
      "outputs": [
        {
          "data": {
            "text/html": [
              "<div>\n",
              "<style scoped>\n",
              "    .dataframe tbody tr th:only-of-type {\n",
              "        vertical-align: middle;\n",
              "    }\n",
              "\n",
              "    .dataframe tbody tr th {\n",
              "        vertical-align: top;\n",
              "    }\n",
              "\n",
              "    .dataframe thead th {\n",
              "        text-align: right;\n",
              "    }\n",
              "</style>\n",
              "<table border=\"1\" class=\"dataframe\">\n",
              "  <thead>\n",
              "    <tr style=\"text-align: right;\">\n",
              "      <th></th>\n",
              "      <th>0</th>\n",
              "    </tr>\n",
              "  </thead>\n",
              "  <tbody>\n",
              "    <tr>\n",
              "      <th>0</th>\n",
              "      <td>18.940927</td>\n",
              "    </tr>\n",
              "    <tr>\n",
              "      <th>1</th>\n",
              "      <td>17.786689</td>\n",
              "    </tr>\n",
              "    <tr>\n",
              "      <th>2</th>\n",
              "      <td>17.507969</td>\n",
              "    </tr>\n",
              "    <tr>\n",
              "      <th>3</th>\n",
              "      <td>17.034517</td>\n",
              "    </tr>\n",
              "    <tr>\n",
              "      <th>4</th>\n",
              "      <td>16.914401</td>\n",
              "    </tr>\n",
              "    <tr>\n",
              "      <th>5</th>\n",
              "      <td>16.908888</td>\n",
              "    </tr>\n",
              "    <tr>\n",
              "      <th>6</th>\n",
              "      <td>16.579352</td>\n",
              "    </tr>\n",
              "    <tr>\n",
              "      <th>7</th>\n",
              "      <td>16.398230</td>\n",
              "    </tr>\n",
              "    <tr>\n",
              "      <th>8</th>\n",
              "      <td>16.115351</td>\n",
              "    </tr>\n",
              "    <tr>\n",
              "      <th>9</th>\n",
              "      <td>15.813918</td>\n",
              "    </tr>\n",
              "  </tbody>\n",
              "</table>\n",
              "</div>"
            ],
            "text/plain": [
              "           0\n",
              "0  18.940927\n",
              "1  17.786689\n",
              "2  17.507969\n",
              "3  17.034517\n",
              "4  16.914401\n",
              "5  16.908888\n",
              "6  16.579352\n",
              "7  16.398230\n",
              "8  16.115351\n",
              "9  15.813918"
            ]
          },
          "execution_count": 47,
          "metadata": {},
          "output_type": "execute_result"
        }
      ],
      "source": [
        "# Ordering of the variables by absolute value of cov\n",
        "feature_ordering =   np.argsort(feature_cov) # np.argsort(np.abs(feature_cov)) #\n",
        "ordered_features = feature_cov[feature_ordering[::-1]]        # [::-1] means reverse the ordering\n",
        "pd.DataFrame(ordered_features[:10])"
      ]
    },
    {
      "cell_type": "code",
      "execution_count": 60,
      "metadata": {},
      "outputs": [],
      "source": [
        "# # Compute AIC as a function of the number of variables, using no selection ordering\n",
        "unsorted_AIC = np.zeros(380)\n",
        "for var_count in range(8,380):\n",
        "    fit = regress(learning_outcome, learning_data[:,:var_count]) \n",
        "    unsorted_AIC[var_count] = AIC(fit)"
      ]
    },
    {
      "cell_type": "code",
      "execution_count": 57,
      "metadata": {},
      "outputs": [
        {
          "data": {
            "text/html": [
              "<div>\n",
              "<style scoped>\n",
              "    .dataframe tbody tr th:only-of-type {\n",
              "        vertical-align: middle;\n",
              "    }\n",
              "\n",
              "    .dataframe tbody tr th {\n",
              "        vertical-align: top;\n",
              "    }\n",
              "\n",
              "    .dataframe thead th {\n",
              "        text-align: right;\n",
              "    }\n",
              "</style>\n",
              "<table border=\"1\" class=\"dataframe\">\n",
              "  <thead>\n",
              "    <tr style=\"text-align: right;\">\n",
              "      <th></th>\n",
              "      <th>0</th>\n",
              "      <th>1</th>\n",
              "      <th>2</th>\n",
              "    </tr>\n",
              "  </thead>\n",
              "  <tbody>\n",
              "    <tr>\n",
              "      <th>count</th>\n",
              "      <td>380.000000</td>\n",
              "      <td>380.000000</td>\n",
              "      <td>380.000000</td>\n",
              "    </tr>\n",
              "    <tr>\n",
              "      <th>mean</th>\n",
              "      <td>189.426316</td>\n",
              "      <td>1424.479434</td>\n",
              "      <td>0.151462</td>\n",
              "    </tr>\n",
              "    <tr>\n",
              "      <th>std</th>\n",
              "      <td>109.966473</td>\n",
              "      <td>376.093109</td>\n",
              "      <td>0.038231</td>\n",
              "    </tr>\n",
              "    <tr>\n",
              "      <th>min</th>\n",
              "      <td>0.000000</td>\n",
              "      <td>0.000000</td>\n",
              "      <td>0.000000</td>\n",
              "    </tr>\n",
              "    <tr>\n",
              "      <th>25%</th>\n",
              "      <td>94.750000</td>\n",
              "      <td>1222.951303</td>\n",
              "      <td>0.134503</td>\n",
              "    </tr>\n",
              "    <tr>\n",
              "      <th>50%</th>\n",
              "      <td>189.500000</td>\n",
              "      <td>1268.268478</td>\n",
              "      <td>0.140351</td>\n",
              "    </tr>\n",
              "    <tr>\n",
              "      <th>75%</th>\n",
              "      <td>284.250000</td>\n",
              "      <td>1673.534886</td>\n",
              "      <td>0.169591</td>\n",
              "    </tr>\n",
              "    <tr>\n",
              "      <th>max</th>\n",
              "      <td>379.000000</td>\n",
              "      <td>2776.655685</td>\n",
              "      <td>0.315789</td>\n",
              "    </tr>\n",
              "  </tbody>\n",
              "</table>\n",
              "</div>"
            ],
            "text/plain": [
              "                0            1           2\n",
              "count  380.000000   380.000000  380.000000\n",
              "mean   189.426316  1424.479434    0.151462\n",
              "std    109.966473   376.093109    0.038231\n",
              "min      0.000000     0.000000    0.000000\n",
              "25%     94.750000  1222.951303    0.134503\n",
              "50%    189.500000  1268.268478    0.140351\n",
              "75%    284.250000  1673.534886    0.169591\n",
              "max    379.000000  2776.655685    0.315789"
            ]
          },
          "execution_count": 57,
          "metadata": {},
          "output_type": "execute_result"
        }
      ],
      "source": [
        "# Compute AIC as a function of the number of variables\n",
        "sorted_AIC = np.zeros([380, 3])\n",
        "# Hmm - using the negative valued cov does slightly better. \n",
        "sorted_learning_data = learning_data[:,feature_ordering] # learning_data[:,feature_ordering[::-1]]\n",
        "for var_count in range(8, 380):\n",
        "    fit = regress(learning_outcome, sorted_learning_data[:,:var_count]) \n",
        "    sorted_AIC[var_count, 0] = var_count\n",
        "    sorted_AIC[var_count, 1] = AIC(fit)\n",
        "    sorted_holdout_data = holdout_data[:,feature_ordering]\n",
        "    hold_out_predict = fit.predict(sm.add_constant(sorted_holdout_data[:,:var_count]))\n",
        "    sorted_AIC[var_count, 2] = one_zero_error(hold_out_predict, holdout_actuals)\n",
        "pd.DataFrame(sorted_AIC).describe()"
      ]
    },
    {
      "cell_type": "code",
      "execution_count": 58,
      "metadata": {},
      "outputs": [
        {
          "ename": "ValueError",
          "evalue": "failed to validate FigureOptions(...).y_range: expected an element of either Instance(Range), Either(Tuple(Float, Float), Tuple(Datetime, Datetime), Tuple(TimeDelta, TimeDelta)), Seq(String), Object(Series) or Object(GroupBy), got (array([   0.        ,    0.        ,    0.        ,    0.        ,\n          0.        ,    0.        ,    0.        ,    0.        ,\n       2289.53700392, 2242.6769956 , 2243.04934518, 2233.71414162,\n       2221.02587075, 2222.49871302, 2219.70001953, 2095.03171881,\n       2092.51698339, 2044.98818698, 2046.43601049, 2024.03935368,\n       1987.18116368, 1969.28865966, 1967.50631605, 1929.93275349,\n       1931.12472728, 1925.90519234, 1925.20100571, 1907.18048955,\n       1906.93841893, 1818.41364693, 1819.70280931, 1819.37467184,\n       1814.6682452 , 1815.6490535 , 1790.13037968, 1768.84352747,\n       1761.6722119 , 1763.23853949, 1722.52472187, 1714.86308359,\n       1710.63086567, 1707.71894438, 1700.44042998, 1677.43042614,\n       1670.61780959, 1660.65394713, 1659.68535638, 1658.74135515,\n       1656.55752828, 1657.24475884, 1631.25263589, 1626.43994972,\n       1627.84939379, 1627.7033021 , 1615.62803444, 1616.38582798,\n       1603.75335485, 1598.74738851, 1527.54674072, 1516.60476371,\n       1514.46081772, 1515.42785904, 1507.24874759, 1490.37520697,\n       1491.74760588, 1491.13868754, 1492.68858305, 1494.15230884,\n       1492.31900037, 1482.0243278 , 1463.64827029, 1463.33316905,\n       1423.11054598, 1420.43326207, 1420.90034117, 1420.01064077,\n       1421.14604961, 1416.71460066, 1415.57242421, 1409.20556942,\n       1409.65665607, 1411.2027746 , 1412.3498067 , 1411.41401496,\n       1411.51541759, 1411.18181723, 1407.31375766, 1405.0822695 ,\n       1393.83103179, 1390.06324766, 1390.45495565, 1392.05472824,\n       1388.93595131, 1372.54011773, 1373.31091004, 1373.32985792,\n       1361.67126018, 1361.62839232, 1361.8628458 , 1362.56910757,\n       1352.00592195, 1352.90136627, 1340.96690556, 1337.22055225,\n       1336.79266363, 1335.432425  , 1329.82017805, 1326.0467197 ,\n       1327.64291169, 1324.23759626, 1309.99404727, 1294.44913364,\n       1273.09982319, 1273.39998027, 1266.07328952, 1265.84654495,\n       1267.42549384, 1265.95165155, 1264.81302872, 1265.88885936,\n       1265.79333314, 1265.92159528, 1251.83061781, 1249.3611748 ,\n       1250.80477146, 1239.19178807, 1238.36783224, 1231.56905059,\n       1231.56905059, 1232.29429317, 1232.97727791, 1234.35995887,\n       1218.56076881, 1220.13950165, 1221.73932693, 1223.33870334,\n       1224.13492519, 1209.46721321, 1208.33283193, 1206.17662955,\n       1200.62340524, 1201.77026076, 1203.01983352, 1185.38041731,\n       1178.47700158, 1175.96846119, 1163.8554482 , 1160.86476713,\n       1161.65485598, 1162.90393344, 1160.08686948, 1158.91885042,\n       1158.88127052, 1158.94578557, 1160.39621727, 1155.98681832,\n       1157.49545283, 1155.07869566, 1155.2191964 , 1156.79138859,\n       1157.91357348, 1149.5085111 , 1150.79874905, 1150.1963765 ,\n       1150.70621983, 1151.90278332, 1137.00849731, 1138.51308753,\n       1139.33847736, 1139.59253139, 1141.14672738, 1142.04334286,\n       1140.64161328, 1142.23483114, 1142.90230914, 1142.6625096 ,\n       1141.8817531 , 1136.79334997, 1133.02851248, 1133.21618495,\n       1131.89139542, 1126.09464078, 1127.6680071 , 1126.93200726,\n       1128.16696538, 1128.74915271, 1130.07575438, 1131.32683721,\n       1131.06146324, 1120.97263835, 1118.1027269 , 1119.54066916,\n       1115.16239034, 1116.75331511, 1117.68204663, 1118.61637388,\n       1119.57240876, 1110.60108106, 1112.17498072, 1094.87879084,\n       1096.24122005, 1095.64429276, 1097.24398772, 1098.70639407,\n       1100.25373386, 1101.68173441, 1103.04184965, 1101.31557068,\n       1097.36681759, 1098.18886359, 1097.24817929, 1097.98773251,\n       1097.75600247, 1099.2941432 , 1100.88309095, 1099.2040929 ,\n       1098.04504236, 1096.77164977, 1097.30852964, 1094.6456006 ,\n       1093.05562083, 1091.60193481, 1089.1206996 , 1090.26397401,\n       1090.26397401, 1088.7968754 , 1089.22280272, 1088.92838279,\n       1082.42244188, 1084.00575092, 1084.02005061, 1060.31936289,\n       1055.02607272, 1056.60434221, 1057.66503669, 1058.05476913,\n       1059.44538413, 1056.44165819, 1055.36022938, 1056.04376865,\n       1054.02173254, 1055.61104167, 1053.90393961, 1054.58758928,\n       1055.82199772, 1057.35983202, 1057.41492128, 1059.00313407,\n       1059.19759198, 1058.86888056, 1059.01925398, 1058.15437105,\n       1059.73711206, 1060.14098735, 1060.85331399, 1062.33963488,\n       1061.14118123, 1062.72765929, 1064.20883007, 1065.75146022,\n       1063.72554619, 1062.99719241, 1063.542076  , 1064.36563431,\n       1065.21348015, 1066.72830149, 1059.16006819, 1041.53847144,\n       1042.91543009, 1041.04514423, 1042.3410088 , 1040.59163081,\n       1032.91540787, 1034.42436492, 1035.96148861, 1037.32234831,\n       1033.07165473, 1034.48460293, 1035.99300623, 1037.48841808,\n       1025.45131301, 1027.04634922, 1028.56791085, 1021.06326164,\n       1012.81757021, 1012.98841392, 1013.61671241, 1015.2135954 ,\n       1011.0047321 , 1011.17795688, 1012.6317516 , 1014.17908019,\n        998.89996761,  999.6451634 ,  993.63656317,  995.01293211,\n        993.74135405,  995.16185823,  995.86138919,  995.23367365,\n        996.61945653,  992.94452248,  987.88466946,  989.46567805,\n        987.6234586 ,  989.1605609 ,  989.46526012,  990.82109645,\n        991.86002635,  993.09886504,  987.99381959,  989.50640789,\n        990.33293967,  981.504903  ,  978.01268191,  978.8851236 ,\n        979.09614429,  980.49141039,  974.16530339,  975.72563628,\n        975.6220916 ,  975.44577195,  970.71690243,  970.3818262 ,\n        968.27957125,  968.18023153,  964.95497051,  965.91848559,\n        967.05262265,  968.10755673,  969.5906241 ,  964.26902997,\n        964.1430247 ,  965.6667441 ,  965.23041988,  965.57319111,\n        967.16778967,  968.66889414,  969.60020479,  971.0662361 ,\n        972.45525451,  965.29801067,  966.59013498,  958.34929735,\n        959.90623399,  961.22383036,  962.82256659,  962.26978648,\n        958.22429844,  959.73403126,  961.33328855,  961.49088941,\n        959.98406821,  961.29560507,  962.19930721,  951.32532041,\n        952.78157799,  951.22568526,  951.47834926,  952.75807817,\n        954.19058824,  951.59207148,  952.99548691,  952.95957106,\n        954.27697074,  954.61623762,  955.99218475,  957.49621168,\n        957.91718881,  959.50293456,  960.9742074 ,  962.01415443,\n        963.46008578,  954.60231179,  954.54139267,  956.14054521,\n        957.08810139,  956.23726102,  956.40090466,  957.00644395]), 2776.655685028733)",
          "output_type": "error",
          "traceback": [
            "\u001b[0;31m---------------------------------------------------------------------------\u001b[0m",
            "\u001b[0;31mValueError\u001b[0m                                Traceback (most recent call last)",
            "Cell \u001b[0;32mIn[58], line 1\u001b[0m\n\u001b[0;32m----> 1\u001b[0m f \u001b[38;5;241m=\u001b[39m \u001b[43mfigure\u001b[49m\u001b[43m(\u001b[49m\u001b[43mwidth\u001b[49m\u001b[43m \u001b[49m\u001b[38;5;241;43m=\u001b[39;49m\u001b[43m \u001b[49m\u001b[38;5;241;43m700\u001b[39;49m\u001b[43m,\u001b[49m\u001b[43m \u001b[49m\u001b[43mheight\u001b[49m\u001b[43m \u001b[49m\u001b[38;5;241;43m=\u001b[39;49m\u001b[43m \u001b[49m\u001b[38;5;241;43m300\u001b[39;49m\u001b[43m,\u001b[49m\u001b[43m  \u001b[49m\u001b[43mx_range\u001b[49m\u001b[43m \u001b[49m\u001b[38;5;241;43m=\u001b[39;49m\u001b[43m \u001b[49m\u001b[43m(\u001b[49m\u001b[38;5;241;43m8\u001b[39;49m\u001b[43m,\u001b[49m\u001b[43m  \u001b[49m\u001b[43mEMBEDDING_DIMENSIONS\u001b[49m\u001b[43m \u001b[49m\u001b[43m)\u001b[49m\u001b[43m,\u001b[49m\u001b[43m \u001b[49m\u001b[43my_range\u001b[49m\u001b[38;5;241;43m=\u001b[39;49m\u001b[43m(\u001b[49m\u001b[38;5;241;43m0.8\u001b[39;49m\u001b[38;5;241;43m*\u001b[39;49m\u001b[43munsorted_AIC\u001b[49m\u001b[43m,\u001b[49m\u001b[43m \u001b[49m\u001b[38;5;28;43mmax\u001b[39;49m\u001b[43m(\u001b[49m\u001b[43msorted_AIC\u001b[49m\u001b[43m[\u001b[49m\u001b[43m:\u001b[49m\u001b[43m,\u001b[49m\u001b[38;5;241;43m1\u001b[39;49m\u001b[43m]\u001b[49m\u001b[43m)\u001b[49m\u001b[43m)\u001b[49m\u001b[43m,\u001b[49m\u001b[43m \u001b[49m\u001b[43mtitle\u001b[49m\u001b[38;5;241;43m=\u001b[39;49m\u001b[38;5;124;43m'\u001b[39;49m\u001b[38;5;124;43mAIC for cov-selected variable sets\u001b[39;49m\u001b[38;5;124;43m'\u001b[39;49m\u001b[43m)\u001b[49m \u001b[38;5;66;03m# ,\u001b[39;00m\n\u001b[1;32m      2\u001b[0m f\u001b[38;5;241m.\u001b[39mline(x\u001b[38;5;241m=\u001b[39m\u001b[38;5;28mlist\u001b[39m(\u001b[38;5;28mrange\u001b[39m(\u001b[38;5;241m380\u001b[39m)), y\u001b[38;5;241m=\u001b[39munsorted_AIC, color \u001b[38;5;241m=\u001b[39m \u001b[38;5;124m'\u001b[39m\u001b[38;5;124mdarkred\u001b[39m\u001b[38;5;124m'\u001b[39m)\n\u001b[1;32m      3\u001b[0m f\u001b[38;5;241m.\u001b[39mline(x\u001b[38;5;241m=\u001b[39msorted_AIC[:,\u001b[38;5;241m0\u001b[39m], y\u001b[38;5;241m=\u001b[39msorted_AIC[:,\u001b[38;5;241m1\u001b[39m], color \u001b[38;5;241m=\u001b[39m \u001b[38;5;124m'\u001b[39m\u001b[38;5;124mred\u001b[39m\u001b[38;5;124m'\u001b[39m)\n",
            "File \u001b[0;32m~/.local/lib/python3.10/site-packages/bokeh/plotting/_figure.py:187\u001b[0m, in \u001b[0;36mfigure.__init__\u001b[0;34m(self, *arg, **kw)\u001b[0m\n\u001b[1;32m    186\u001b[0m \u001b[38;5;28;01mdef\u001b[39;00m \u001b[38;5;21m__init__\u001b[39m(\u001b[38;5;28mself\u001b[39m, \u001b[38;5;241m*\u001b[39marg, \u001b[38;5;241m*\u001b[39m\u001b[38;5;241m*\u001b[39mkw) \u001b[38;5;241m-\u001b[39m\u001b[38;5;241m>\u001b[39m \u001b[38;5;28;01mNone\u001b[39;00m:\n\u001b[0;32m--> 187\u001b[0m     opts \u001b[38;5;241m=\u001b[39m \u001b[43mFigureOptions\u001b[49m\u001b[43m(\u001b[49m\u001b[43mkw\u001b[49m\u001b[43m)\u001b[49m\n\u001b[1;32m    189\u001b[0m     names \u001b[38;5;241m=\u001b[39m \u001b[38;5;28mself\u001b[39m\u001b[38;5;241m.\u001b[39mproperties()\n\u001b[1;32m    190\u001b[0m     \u001b[38;5;28;01mfor\u001b[39;00m name \u001b[38;5;129;01min\u001b[39;00m kw\u001b[38;5;241m.\u001b[39mkeys():\n",
            "File \u001b[0;32m~/.local/lib/python3.10/site-packages/bokeh/util/options.py:75\u001b[0m, in \u001b[0;36mOptions.__init__\u001b[0;34m(self, kw)\u001b[0m\n\u001b[1;32m     72\u001b[0m     \u001b[38;5;28;01mif\u001b[39;00m k \u001b[38;5;129;01min\u001b[39;00m kw:\n\u001b[1;32m     73\u001b[0m         props[k] \u001b[38;5;241m=\u001b[39m kw\u001b[38;5;241m.\u001b[39mpop(k)\n\u001b[0;32m---> 75\u001b[0m \u001b[38;5;28;43msuper\u001b[39;49m\u001b[43m(\u001b[49m\u001b[43m)\u001b[49m\u001b[38;5;241;43m.\u001b[39;49m\u001b[38;5;21;43m__init__\u001b[39;49m\u001b[43m(\u001b[49m\u001b[38;5;241;43m*\u001b[39;49m\u001b[38;5;241;43m*\u001b[39;49m\u001b[43mprops\u001b[49m\u001b[43m)\u001b[49m\n",
            "File \u001b[0;32m~/.local/lib/python3.10/site-packages/bokeh/core/has_props.py:302\u001b[0m, in \u001b[0;36mHasProps.__init__\u001b[0;34m(self, **properties)\u001b[0m\n\u001b[1;32m    300\u001b[0m     \u001b[38;5;28;01mif\u001b[39;00m value \u001b[38;5;129;01mis\u001b[39;00m Undefined \u001b[38;5;129;01mor\u001b[39;00m value \u001b[38;5;129;01mis\u001b[39;00m Intrinsic:\n\u001b[1;32m    301\u001b[0m         \u001b[38;5;28;01mcontinue\u001b[39;00m\n\u001b[0;32m--> 302\u001b[0m     \u001b[38;5;28;43msetattr\u001b[39;49m\u001b[43m(\u001b[49m\u001b[38;5;28;43mself\u001b[39;49m\u001b[43m,\u001b[49m\u001b[43m \u001b[49m\u001b[43mname\u001b[49m\u001b[43m,\u001b[49m\u001b[43m \u001b[49m\u001b[43mvalue\u001b[49m\u001b[43m)\u001b[49m\n\u001b[1;32m    304\u001b[0m initialized \u001b[38;5;241m=\u001b[39m \u001b[38;5;28mset\u001b[39m(properties\u001b[38;5;241m.\u001b[39mkeys())\n\u001b[1;32m    305\u001b[0m \u001b[38;5;28;01mfor\u001b[39;00m name \u001b[38;5;129;01min\u001b[39;00m \u001b[38;5;28mself\u001b[39m\u001b[38;5;241m.\u001b[39mproperties(_with_props\u001b[38;5;241m=\u001b[39m\u001b[38;5;28;01mTrue\u001b[39;00m): \u001b[38;5;66;03m# avoid set[] for deterministic behavior\u001b[39;00m\n",
            "File \u001b[0;32m~/.local/lib/python3.10/site-packages/bokeh/core/has_props.py:334\u001b[0m, in \u001b[0;36mHasProps.__setattr__\u001b[0;34m(self, name, value)\u001b[0m\n\u001b[1;32m    332\u001b[0m properties \u001b[38;5;241m=\u001b[39m \u001b[38;5;28mself\u001b[39m\u001b[38;5;241m.\u001b[39mproperties(_with_props\u001b[38;5;241m=\u001b[39m\u001b[38;5;28;01mTrue\u001b[39;00m)\n\u001b[1;32m    333\u001b[0m \u001b[38;5;28;01mif\u001b[39;00m name \u001b[38;5;129;01min\u001b[39;00m properties:\n\u001b[0;32m--> 334\u001b[0m     \u001b[38;5;28;01mreturn\u001b[39;00m \u001b[38;5;28;43msuper\u001b[39;49m\u001b[43m(\u001b[49m\u001b[43m)\u001b[49m\u001b[38;5;241;43m.\u001b[39;49m\u001b[38;5;21;43m__setattr__\u001b[39;49m\u001b[43m(\u001b[49m\u001b[43mname\u001b[49m\u001b[43m,\u001b[49m\u001b[43m \u001b[49m\u001b[43mvalue\u001b[49m\u001b[43m)\u001b[49m\n\u001b[1;32m    336\u001b[0m descriptor \u001b[38;5;241m=\u001b[39m \u001b[38;5;28mgetattr\u001b[39m(\u001b[38;5;28mself\u001b[39m\u001b[38;5;241m.\u001b[39m\u001b[38;5;18m__class__\u001b[39m, name, \u001b[38;5;28;01mNone\u001b[39;00m)\n\u001b[1;32m    337\u001b[0m \u001b[38;5;28;01mif\u001b[39;00m \u001b[38;5;28misinstance\u001b[39m(descriptor, \u001b[38;5;28mproperty\u001b[39m): \u001b[38;5;66;03m# Python property\u001b[39;00m\n",
            "File \u001b[0;32m~/.local/lib/python3.10/site-packages/bokeh/core/property/descriptors.py:331\u001b[0m, in \u001b[0;36mPropertyDescriptor.__set__\u001b[0;34m(self, obj, value, setter)\u001b[0m\n\u001b[1;32m    328\u001b[0m     class_name \u001b[38;5;241m=\u001b[39m obj\u001b[38;5;241m.\u001b[39m\u001b[38;5;18m__class__\u001b[39m\u001b[38;5;241m.\u001b[39m\u001b[38;5;18m__name__\u001b[39m\n\u001b[1;32m    329\u001b[0m     \u001b[38;5;28;01mraise\u001b[39;00m \u001b[38;5;167;01mRuntimeError\u001b[39;00m(\u001b[38;5;124mf\u001b[39m\u001b[38;5;124m\"\u001b[39m\u001b[38;5;132;01m{\u001b[39;00mclass_name\u001b[38;5;132;01m}\u001b[39;00m\u001b[38;5;124m.\u001b[39m\u001b[38;5;132;01m{\u001b[39;00m\u001b[38;5;28mself\u001b[39m\u001b[38;5;241m.\u001b[39mname\u001b[38;5;132;01m}\u001b[39;00m\u001b[38;5;124m is a readonly property\u001b[39m\u001b[38;5;124m\"\u001b[39m)\n\u001b[0;32m--> 331\u001b[0m value \u001b[38;5;241m=\u001b[39m \u001b[38;5;28;43mself\u001b[39;49m\u001b[38;5;241;43m.\u001b[39;49m\u001b[43mproperty\u001b[49m\u001b[38;5;241;43m.\u001b[39;49m\u001b[43mprepare_value\u001b[49m\u001b[43m(\u001b[49m\u001b[43mobj\u001b[49m\u001b[43m,\u001b[49m\u001b[43m \u001b[49m\u001b[38;5;28;43mself\u001b[39;49m\u001b[38;5;241;43m.\u001b[39;49m\u001b[43mname\u001b[49m\u001b[43m,\u001b[49m\u001b[43m \u001b[49m\u001b[43mvalue\u001b[49m\u001b[43m)\u001b[49m\n\u001b[1;32m    332\u001b[0m old \u001b[38;5;241m=\u001b[39m \u001b[38;5;28mself\u001b[39m\u001b[38;5;241m.\u001b[39m_get(obj)\n\u001b[1;32m    333\u001b[0m \u001b[38;5;28mself\u001b[39m\u001b[38;5;241m.\u001b[39m_set(obj, old, value, setter\u001b[38;5;241m=\u001b[39msetter)\n",
            "File \u001b[0;32m~/.local/lib/python3.10/site-packages/bokeh/core/property/bases.py:365\u001b[0m, in \u001b[0;36mProperty.prepare_value\u001b[0;34m(self, owner, name, value, hint)\u001b[0m\n\u001b[1;32m    363\u001b[0m \u001b[38;5;28;01melse\u001b[39;00m:\n\u001b[1;32m    364\u001b[0m     obj_repr \u001b[38;5;241m=\u001b[39m owner \u001b[38;5;28;01mif\u001b[39;00m \u001b[38;5;28misinstance\u001b[39m(owner, HasProps) \u001b[38;5;28;01melse\u001b[39;00m owner\u001b[38;5;241m.\u001b[39m\u001b[38;5;18m__name__\u001b[39m\n\u001b[0;32m--> 365\u001b[0m     \u001b[38;5;28;01mraise\u001b[39;00m \u001b[38;5;167;01mValueError\u001b[39;00m(\u001b[38;5;124mf\u001b[39m\u001b[38;5;124m\"\u001b[39m\u001b[38;5;124mfailed to validate \u001b[39m\u001b[38;5;132;01m{\u001b[39;00mobj_repr\u001b[38;5;132;01m}\u001b[39;00m\u001b[38;5;124m.\u001b[39m\u001b[38;5;132;01m{\u001b[39;00mname\u001b[38;5;132;01m}\u001b[39;00m\u001b[38;5;124m: \u001b[39m\u001b[38;5;132;01m{\u001b[39;00merror\u001b[38;5;132;01m}\u001b[39;00m\u001b[38;5;124m\"\u001b[39m)\n\u001b[1;32m    367\u001b[0m \u001b[38;5;28;01mif\u001b[39;00m \u001b[38;5;28misinstance\u001b[39m(owner, HasProps):\n\u001b[1;32m    368\u001b[0m     obj \u001b[38;5;241m=\u001b[39m owner\n",
            "\u001b[0;31mValueError\u001b[0m: failed to validate FigureOptions(...).y_range: expected an element of either Instance(Range), Either(Tuple(Float, Float), Tuple(Datetime, Datetime), Tuple(TimeDelta, TimeDelta)), Seq(String), Object(Series) or Object(GroupBy), got (array([   0.        ,    0.        ,    0.        ,    0.        ,\n          0.        ,    0.        ,    0.        ,    0.        ,\n       2289.53700392, 2242.6769956 , 2243.04934518, 2233.71414162,\n       2221.02587075, 2222.49871302, 2219.70001953, 2095.03171881,\n       2092.51698339, 2044.98818698, 2046.43601049, 2024.03935368,\n       1987.18116368, 1969.28865966, 1967.50631605, 1929.93275349,\n       1931.12472728, 1925.90519234, 1925.20100571, 1907.18048955,\n       1906.93841893, 1818.41364693, 1819.70280931, 1819.37467184,\n       1814.6682452 , 1815.6490535 , 1790.13037968, 1768.84352747,\n       1761.6722119 , 1763.23853949, 1722.52472187, 1714.86308359,\n       1710.63086567, 1707.71894438, 1700.44042998, 1677.43042614,\n       1670.61780959, 1660.65394713, 1659.68535638, 1658.74135515,\n       1656.55752828, 1657.24475884, 1631.25263589, 1626.43994972,\n       1627.84939379, 1627.7033021 , 1615.62803444, 1616.38582798,\n       1603.75335485, 1598.74738851, 1527.54674072, 1516.60476371,\n       1514.46081772, 1515.42785904, 1507.24874759, 1490.37520697,\n       1491.74760588, 1491.13868754, 1492.68858305, 1494.15230884,\n       1492.31900037, 1482.0243278 , 1463.64827029, 1463.33316905,\n       1423.11054598, 1420.43326207, 1420.90034117, 1420.01064077,\n       1421.14604961, 1416.71460066, 1415.57242421, 1409.20556942,\n       1409.65665607, 1411.2027746 , 1412.3498067 , 1411.41401496,\n       1411.51541759, 1411.18181723, 1407.31375766, 1405.0822695 ,\n       1393.83103179, 1390.06324766, 1390.45495565, 1392.05472824,\n       1388.93595131, 1372.54011773, 1373.31091004, 1373.32985792,\n       1361.67126018, 1361.62839232, 1361.8628458 , 1362.56910757,\n       1352.00592195, 1352.90136627, 1340.96690556, 1337.22055225,\n       1336.79266363, 1335.432425  , 1329.82017805, 1326.0467197 ,\n       1327.64291169, 1324.23759626, 1309.99404727, 1294.44913364,\n       1273.09982319, 1273.39998027, 1266.07328952, 1265.84654495,\n       1267.42549384, 1265.95165155, 1264.81302872, 1265.88885936,\n       1265.79333314, 1265.92159528, 1251.83061781, 1249.3611748 ,\n       1250.80477146, 1239.19178807, 1238.36783224, 1231.56905059,\n       1231.56905059, 1232.29429317, 1232.97727791, 1234.35995887,\n       1218.56076881, 1220.13950165, 1221.73932693, 1223.33870334,\n       1224.13492519, 1209.46721321, 1208.33283193, 1206.17662955,\n       1200.62340524, 1201.77026076, 1203.01983352, 1185.38041731,\n       1178.47700158, 1175.96846119, 1163.8554482 , 1160.86476713,\n       1161.65485598, 1162.90393344, 1160.08686948, 1158.91885042,\n       1158.88127052, 1158.94578557, 1160.39621727, 1155.98681832,\n       1157.49545283, 1155.07869566, 1155.2191964 , 1156.79138859,\n       1157.91357348, 1149.5085111 , 1150.79874905, 1150.1963765 ,\n       1150.70621983, 1151.90278332, 1137.00849731, 1138.51308753,\n       1139.33847736, 1139.59253139, 1141.14672738, 1142.04334286,\n       1140.64161328, 1142.23483114, 1142.90230914, 1142.6625096 ,\n       1141.8817531 , 1136.79334997, 1133.02851248, 1133.21618495,\n       1131.89139542, 1126.09464078, 1127.6680071 , 1126.93200726,\n       1128.16696538, 1128.74915271, 1130.07575438, 1131.32683721,\n       1131.06146324, 1120.97263835, 1118.1027269 , 1119.54066916,\n       1115.16239034, 1116.75331511, 1117.68204663, 1118.61637388,\n       1119.57240876, 1110.60108106, 1112.17498072, 1094.87879084,\n       1096.24122005, 1095.64429276, 1097.24398772, 1098.70639407,\n       1100.25373386, 1101.68173441, 1103.04184965, 1101.31557068,\n       1097.36681759, 1098.18886359, 1097.24817929, 1097.98773251,\n       1097.75600247, 1099.2941432 , 1100.88309095, 1099.2040929 ,\n       1098.04504236, 1096.77164977, 1097.30852964, 1094.6456006 ,\n       1093.05562083, 1091.60193481, 1089.1206996 , 1090.26397401,\n       1090.26397401, 1088.7968754 , 1089.22280272, 1088.92838279,\n       1082.42244188, 1084.00575092, 1084.02005061, 1060.31936289,\n       1055.02607272, 1056.60434221, 1057.66503669, 1058.05476913,\n       1059.44538413, 1056.44165819, 1055.36022938, 1056.04376865,\n       1054.02173254, 1055.61104167, 1053.90393961, 1054.58758928,\n       1055.82199772, 1057.35983202, 1057.41492128, 1059.00313407,\n       1059.19759198, 1058.86888056, 1059.01925398, 1058.15437105,\n       1059.73711206, 1060.14098735, 1060.85331399, 1062.33963488,\n       1061.14118123, 1062.72765929, 1064.20883007, 1065.75146022,\n       1063.72554619, 1062.99719241, 1063.542076  , 1064.36563431,\n       1065.21348015, 1066.72830149, 1059.16006819, 1041.53847144,\n       1042.91543009, 1041.04514423, 1042.3410088 , 1040.59163081,\n       1032.91540787, 1034.42436492, 1035.96148861, 1037.32234831,\n       1033.07165473, 1034.48460293, 1035.99300623, 1037.48841808,\n       1025.45131301, 1027.04634922, 1028.56791085, 1021.06326164,\n       1012.81757021, 1012.98841392, 1013.61671241, 1015.2135954 ,\n       1011.0047321 , 1011.17795688, 1012.6317516 , 1014.17908019,\n        998.89996761,  999.6451634 ,  993.63656317,  995.01293211,\n        993.74135405,  995.16185823,  995.86138919,  995.23367365,\n        996.61945653,  992.94452248,  987.88466946,  989.46567805,\n        987.6234586 ,  989.1605609 ,  989.46526012,  990.82109645,\n        991.86002635,  993.09886504,  987.99381959,  989.50640789,\n        990.33293967,  981.504903  ,  978.01268191,  978.8851236 ,\n        979.09614429,  980.49141039,  974.16530339,  975.72563628,\n        975.6220916 ,  975.44577195,  970.71690243,  970.3818262 ,\n        968.27957125,  968.18023153,  964.95497051,  965.91848559,\n        967.05262265,  968.10755673,  969.5906241 ,  964.26902997,\n        964.1430247 ,  965.6667441 ,  965.23041988,  965.57319111,\n        967.16778967,  968.66889414,  969.60020479,  971.0662361 ,\n        972.45525451,  965.29801067,  966.59013498,  958.34929735,\n        959.90623399,  961.22383036,  962.82256659,  962.26978648,\n        958.22429844,  959.73403126,  961.33328855,  961.49088941,\n        959.98406821,  961.29560507,  962.19930721,  951.32532041,\n        952.78157799,  951.22568526,  951.47834926,  952.75807817,\n        954.19058824,  951.59207148,  952.99548691,  952.95957106,\n        954.27697074,  954.61623762,  955.99218475,  957.49621168,\n        957.91718881,  959.50293456,  960.9742074 ,  962.01415443,\n        963.46008578,  954.60231179,  954.54139267,  956.14054521,\n        957.08810139,  956.23726102,  956.40090466,  957.00644395]), 2776.655685028733)"
          ]
        }
      ],
      "source": [
        "f = figure(width = 700, height = 300,  x_range = (8,  EMBEDDING_DIMENSIONS ), y_range=(0.8*unsorted_AIC, max(sorted_AIC[:,1])), title='AIC for cov-selected variable sets') # ,\n",
        "f.line(x=list(range(380)), y=unsorted_AIC, color = 'darkred')\n",
        "f.line(x=sorted_AIC[:,0], y=sorted_AIC[:,1], color = 'red')\n",
        "f.line(x=sorted_AIC[:,0], y=10000 * sorted_AIC[:,2], color = 'navy')\n",
        "hline = Span(location= baseline_AIC, dimension='width', line_width= 0.6) # , fill_alpha=0.4)\n",
        "f.renderers.extend([hline])\n",
        "show(f)"
      ]
    },
    {
      "cell_type": "markdown",
      "metadata": {
        "id": "0n_WbGJam6eJ"
      },
      "source": [
        "## Compare baseline and alternative models"
      ]
    },
    {
      "cell_type": "code",
      "execution_count": null,
      "metadata": {
        "id": "-uK0fvbdmwMw"
      },
      "outputs": [],
      "source": [
        "#TBD"
      ]
    }
  ],
  "metadata": {
    "colab": {
      "provenance": [],
      "toc_visible": true
    },
    "kernelspec": {
      "display_name": "Python 3",
      "language": "python",
      "name": "python3"
    },
    "language_info": {
      "codemirror_mode": {
        "name": "ipython",
        "version": 3
      },
      "file_extension": ".py",
      "mimetype": "text/x-python",
      "name": "python",
      "nbconvert_exporter": "python",
      "pygments_lexer": "ipython3",
      "version": "3.10.12"
    }
  },
  "nbformat": 4,
  "nbformat_minor": 0
}
