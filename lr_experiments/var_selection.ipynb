{
  "cells": [
    {
      "cell_type": "markdown",
      "metadata": {
        "id": "a4u3AYTbHAAg"
      },
      "source": [
        "# Project Template: Regression Experiments using sentence embeddings\n",
        "\n",
        "ISE 201, section 33\n",
        "\n",
        "28 Mar 2024  JM Agosta\n",
        "\n",
        "_A template to follow for your final class project._\n",
        "\n",
        "Your presentation from this notebook should be divided into sections. Each section starts with a markdown cell that mentions the purpose of the following cells. Pls divide your computation into manageably sized cells. You can check intermediate results by an expression in the last line of the cell -- no need for a print function to enclose them.\n",
        "\n",
        "The goal of this project is to consolidate the work you've done over the past projects, to run a regression experiment using sentence embedding data. An experiment works by\n",
        "\n",
        "- picking an evaluation measure (a \"statistic\"),\n",
        "- running a baseline evaluation of the regression,\n",
        "- coming up with a presumed improvement to the regression that could be a generation or selection of features going into the regression,\n",
        "- making a comparative evaluation to see if the improvement is \"statistically\" significant.\n",
        "\n",
        "You can refer to the previous class notebooks that can be found on Google Drive, and feel free to share ideas that others have contributed in the class, that can be found in the notebooks they've shared.  \n",
        "\n",
        "Design your notebook, with sections and visualizations that are self-explanatory (label your graph axes!) so that you make the best use of the 8 minutes you'll have to present."
      ]
    },
    {
      "cell_type": "markdown",
      "metadata": {
        "id": "AG0ZzfHJgNe7"
      },
      "source": [
        "## Setup. Import libraries.  Check if any need to be loaded that are missing."
      ]
    },
    {
      "cell_type": "code",
      "execution_count": 1,
      "metadata": {
        "id": "ubqY17CEHAAh"
      },
      "outputs": [
        {
          "data": {
            "text/html": [
              "<style>\n",
              "        .bk-notebook-logo {\n",
              "            display: block;\n",
              "            width: 20px;\n",
              "            height: 20px;\n",
              "            background-image: url(data:image/png;base64,iVBORw0KGgoAAAANSUhEUgAAABQAAAAUCAYAAACNiR0NAAAABHNCSVQICAgIfAhkiAAAAAlwSFlzAAALEgAACxIB0t1+/AAAABx0RVh0U29mdHdhcmUAQWRvYmUgRmlyZXdvcmtzIENTNui8sowAAAOkSURBVDiNjZRtaJVlGMd/1/08zzln5zjP1LWcU9N0NkN8m2CYjpgQYQXqSs0I84OLIC0hkEKoPtiH3gmKoiJDU7QpLgoLjLIQCpEsNJ1vqUOdO7ppbuec5+V+rj4ctwzd8IIbbi6u+8f1539dt3A78eXC7QizUF7gyV1fD1Yqg4JWz84yffhm0qkFqBogB9rM8tZdtwVsPUhWhGcFJngGeWrPzHm5oaMmkfEg1usvLFyc8jLRqDOMru7AyC8saQr7GG7f5fvDeH7Ej8CM66nIF+8yngt6HWaKh7k49Soy9nXurCi1o3qUbS3zWfrYeQDTB/Qj6kX6Ybhw4B+bOYoLKCC9H3Nu/leUTZ1JdRWkkn2ldcCamzrcf47KKXdAJllSlxAOkRgyHsGC/zRday5Qld9DyoM4/q/rUoy/CXh3jzOu3bHUVZeU+DEn8FInkPBFlu3+nW3Nw0mk6vCDiWg8CeJaxEwuHS3+z5RgY+YBR6V1Z1nxSOfoaPa4LASWxxdNp+VWTk7+4vzaou8v8PN+xo+KY2xsw6une2frhw05CTYOmQvsEhjhWjn0bmXPjpE1+kplmmkP3suftwTubK9Vq22qKmrBhpY4jvd5afdRA3wGjFAgcnTK2s4hY0/GPNIb0nErGMCRxWOOX64Z8RAC4oCXdklmEvcL8o0BfkNK4lUg9HTl+oPlQxdNo3Mg4Nv175e/1LDGzZen30MEjRUtmXSfiTVu1kK8W4txyV6BMKlbgk3lMwYCiusNy9fVfvvwMxv8Ynl6vxoByANLTWplvuj/nF9m2+PDtt1eiHPBr1oIfhCChQMBw6Aw0UulqTKZdfVvfG7VcfIqLG9bcldL/+pdWTLxLUy8Qq38heUIjh4XlzZxzQm19lLFlr8vdQ97rjZVOLf8nclzckbcD4wxXMidpX30sFd37Fv/GtwwhzhxGVAprjbg0gCAEeIgwCZyTV2Z1REEW8O4py0wsjeloKoMr6iCY6dP92H6Vw/oTyICIthibxjm/DfN9lVz8IqtqKYLUXfoKVMVQVVJOElGjrnnUt9T9wbgp8AyYKaGlqingHZU/uG2NTZSVqwHQTWkx9hxjkpWDaCg6Ckj5qebgBVbT3V3NNXMSiWSDdGV3hrtzla7J+duwPOToIg42ChPQOQjspnSlp1V+Gjdged7+8UN5CRAV7a5EdFNwCjEaBR27b3W890TE7g24NAP/mMDXRWrGoFPQI9ls/MWO2dWFAar/xcOIImbbpA3zgAAAABJRU5ErkJggg==);\n",
              "        }\n",
              "    </style>\n",
              "    <div>\n",
              "        <a href=\"https://bokeh.org\" target=\"_blank\" class=\"bk-notebook-logo\"></a>\n",
              "        <span id=\"b3515fc5-33e6-43ff-8d93-8b9b143aba95\">Loading BokehJS ...</span>\n",
              "    </div>\n"
            ]
          },
          "metadata": {},
          "output_type": "display_data"
        },
        {
          "data": {
            "application/javascript": "(function(root) {\n  function now() {\n    return new Date();\n  }\n\n  const force = true;\n\n  if (typeof root._bokeh_onload_callbacks === \"undefined\" || force === true) {\n    root._bokeh_onload_callbacks = [];\n    root._bokeh_is_loading = undefined;\n  }\n\nconst JS_MIME_TYPE = 'application/javascript';\n  const HTML_MIME_TYPE = 'text/html';\n  const EXEC_MIME_TYPE = 'application/vnd.bokehjs_exec.v0+json';\n  const CLASS_NAME = 'output_bokeh rendered_html';\n\n  /**\n   * Render data to the DOM node\n   */\n  function render(props, node) {\n    const script = document.createElement(\"script\");\n    node.appendChild(script);\n  }\n\n  /**\n   * Handle when an output is cleared or removed\n   */\n  function handleClearOutput(event, handle) {\n    function drop(id) {\n      const view = Bokeh.index.get_by_id(id)\n      if (view != null) {\n        view.model.document.clear()\n        Bokeh.index.delete(view)\n      }\n    }\n\n    const cell = handle.cell;\n\n    const id = cell.output_area._bokeh_element_id;\n    const server_id = cell.output_area._bokeh_server_id;\n\n    // Clean up Bokeh references\n    if (id != null) {\n      drop(id)\n    }\n\n    if (server_id !== undefined) {\n      // Clean up Bokeh references\n      const cmd_clean = \"from bokeh.io.state import curstate; print(curstate().uuid_to_server['\" + server_id + \"'].get_sessions()[0].document.roots[0]._id)\";\n      cell.notebook.kernel.execute(cmd_clean, {\n        iopub: {\n          output: function(msg) {\n            const id = msg.content.text.trim()\n            drop(id)\n          }\n        }\n      });\n      // Destroy server and session\n      const cmd_destroy = \"import bokeh.io.notebook as ion; ion.destroy_server('\" + server_id + \"')\";\n      cell.notebook.kernel.execute(cmd_destroy);\n    }\n  }\n\n  /**\n   * Handle when a new output is added\n   */\n  function handleAddOutput(event, handle) {\n    const output_area = handle.output_area;\n    const output = handle.output;\n\n    // limit handleAddOutput to display_data with EXEC_MIME_TYPE content only\n    if ((output.output_type != \"display_data\") || (!Object.prototype.hasOwnProperty.call(output.data, EXEC_MIME_TYPE))) {\n      return\n    }\n\n    const toinsert = output_area.element.find(\".\" + CLASS_NAME.split(' ')[0]);\n\n    if (output.metadata[EXEC_MIME_TYPE][\"id\"] !== undefined) {\n      toinsert[toinsert.length - 1].firstChild.textContent = output.data[JS_MIME_TYPE];\n      // store reference to embed id on output_area\n      output_area._bokeh_element_id = output.metadata[EXEC_MIME_TYPE][\"id\"];\n    }\n    if (output.metadata[EXEC_MIME_TYPE][\"server_id\"] !== undefined) {\n      const bk_div = document.createElement(\"div\");\n      bk_div.innerHTML = output.data[HTML_MIME_TYPE];\n      const script_attrs = bk_div.children[0].attributes;\n      for (let i = 0; i < script_attrs.length; i++) {\n        toinsert[toinsert.length - 1].firstChild.setAttribute(script_attrs[i].name, script_attrs[i].value);\n        toinsert[toinsert.length - 1].firstChild.textContent = bk_div.children[0].textContent\n      }\n      // store reference to server id on output_area\n      output_area._bokeh_server_id = output.metadata[EXEC_MIME_TYPE][\"server_id\"];\n    }\n  }\n\n  function register_renderer(events, OutputArea) {\n\n    function append_mime(data, metadata, element) {\n      // create a DOM node to render to\n      const toinsert = this.create_output_subarea(\n        metadata,\n        CLASS_NAME,\n        EXEC_MIME_TYPE\n      );\n      this.keyboard_manager.register_events(toinsert);\n      // Render to node\n      const props = {data: data, metadata: metadata[EXEC_MIME_TYPE]};\n      render(props, toinsert[toinsert.length - 1]);\n      element.append(toinsert);\n      return toinsert\n    }\n\n    /* Handle when an output is cleared or removed */\n    events.on('clear_output.CodeCell', handleClearOutput);\n    events.on('delete.Cell', handleClearOutput);\n\n    /* Handle when a new output is added */\n    events.on('output_added.OutputArea', handleAddOutput);\n\n    /**\n     * Register the mime type and append_mime function with output_area\n     */\n    OutputArea.prototype.register_mime_type(EXEC_MIME_TYPE, append_mime, {\n      /* Is output safe? */\n      safe: true,\n      /* Index of renderer in `output_area.display_order` */\n      index: 0\n    });\n  }\n\n  // register the mime type if in Jupyter Notebook environment and previously unregistered\n  if (root.Jupyter !== undefined) {\n    const events = require('base/js/events');\n    const OutputArea = require('notebook/js/outputarea').OutputArea;\n\n    if (OutputArea.prototype.mime_types().indexOf(EXEC_MIME_TYPE) == -1) {\n      register_renderer(events, OutputArea);\n    }\n  }\n  if (typeof (root._bokeh_timeout) === \"undefined\" || force === true) {\n    root._bokeh_timeout = Date.now() + 5000;\n    root._bokeh_failed_load = false;\n  }\n\n  const NB_LOAD_WARNING = {'data': {'text/html':\n     \"<div style='background-color: #fdd'>\\n\"+\n     \"<p>\\n\"+\n     \"BokehJS does not appear to have successfully loaded. If loading BokehJS from CDN, this \\n\"+\n     \"may be due to a slow or bad network connection. Possible fixes:\\n\"+\n     \"</p>\\n\"+\n     \"<ul>\\n\"+\n     \"<li>re-rerun `output_notebook()` to attempt to load from CDN again, or</li>\\n\"+\n     \"<li>use INLINE resources instead, as so:</li>\\n\"+\n     \"</ul>\\n\"+\n     \"<code>\\n\"+\n     \"from bokeh.resources import INLINE\\n\"+\n     \"output_notebook(resources=INLINE)\\n\"+\n     \"</code>\\n\"+\n     \"</div>\"}};\n\n  function display_loaded() {\n    const el = document.getElementById(\"b3515fc5-33e6-43ff-8d93-8b9b143aba95\");\n    if (el != null) {\n      el.textContent = \"BokehJS is loading...\";\n    }\n    if (root.Bokeh !== undefined) {\n      if (el != null) {\n        el.textContent = \"BokehJS \" + root.Bokeh.version + \" successfully loaded.\";\n      }\n    } else if (Date.now() < root._bokeh_timeout) {\n      setTimeout(display_loaded, 100)\n    }\n  }\n\n  function run_callbacks() {\n    try {\n      root._bokeh_onload_callbacks.forEach(function(callback) {\n        if (callback != null)\n          callback();\n      });\n    } finally {\n      delete root._bokeh_onload_callbacks\n    }\n    console.debug(\"Bokeh: all callbacks have finished\");\n  }\n\n  function load_libs(css_urls, js_urls, callback) {\n    if (css_urls == null) css_urls = [];\n    if (js_urls == null) js_urls = [];\n\n    root._bokeh_onload_callbacks.push(callback);\n    if (root._bokeh_is_loading > 0) {\n      console.debug(\"Bokeh: BokehJS is being loaded, scheduling callback at\", now());\n      return null;\n    }\n    if (js_urls == null || js_urls.length === 0) {\n      run_callbacks();\n      return null;\n    }\n    console.debug(\"Bokeh: BokehJS not loaded, scheduling load and callback at\", now());\n    root._bokeh_is_loading = css_urls.length + js_urls.length;\n\n    function on_load() {\n      root._bokeh_is_loading--;\n      if (root._bokeh_is_loading === 0) {\n        console.debug(\"Bokeh: all BokehJS libraries/stylesheets loaded\");\n        run_callbacks()\n      }\n    }\n\n    function on_error(url) {\n      console.error(\"failed to load \" + url);\n    }\n\n    for (let i = 0; i < css_urls.length; i++) {\n      const url = css_urls[i];\n      const element = document.createElement(\"link\");\n      element.onload = on_load;\n      element.onerror = on_error.bind(null, url);\n      element.rel = \"stylesheet\";\n      element.type = \"text/css\";\n      element.href = url;\n      console.debug(\"Bokeh: injecting link tag for BokehJS stylesheet: \", url);\n      document.body.appendChild(element);\n    }\n\n    for (let i = 0; i < js_urls.length; i++) {\n      const url = js_urls[i];\n      const element = document.createElement('script');\n      element.onload = on_load;\n      element.onerror = on_error.bind(null, url);\n      element.async = false;\n      element.src = url;\n      console.debug(\"Bokeh: injecting script tag for BokehJS library: \", url);\n      document.head.appendChild(element);\n    }\n  };\n\n  function inject_raw_css(css) {\n    const element = document.createElement(\"style\");\n    element.appendChild(document.createTextNode(css));\n    document.body.appendChild(element);\n  }\n\n  const js_urls = [\"https://cdn.bokeh.org/bokeh/release/bokeh-3.3.0.min.js\", \"https://cdn.bokeh.org/bokeh/release/bokeh-gl-3.3.0.min.js\", \"https://cdn.bokeh.org/bokeh/release/bokeh-widgets-3.3.0.min.js\", \"https://cdn.bokeh.org/bokeh/release/bokeh-tables-3.3.0.min.js\", \"https://cdn.bokeh.org/bokeh/release/bokeh-mathjax-3.3.0.min.js\"];\n  const css_urls = [];\n\n  const inline_js = [    function(Bokeh) {\n      Bokeh.set_log_level(\"info\");\n    },\nfunction(Bokeh) {\n    }\n  ];\n\n  function run_inline_js() {\n    if (root.Bokeh !== undefined || force === true) {\n          for (let i = 0; i < inline_js.length; i++) {\n      inline_js[i].call(root, root.Bokeh);\n    }\nif (force === true) {\n        display_loaded();\n      }} else if (Date.now() < root._bokeh_timeout) {\n      setTimeout(run_inline_js, 100);\n    } else if (!root._bokeh_failed_load) {\n      console.log(\"Bokeh: BokehJS failed to load within specified timeout.\");\n      root._bokeh_failed_load = true;\n    } else if (force !== true) {\n      const cell = $(document.getElementById(\"b3515fc5-33e6-43ff-8d93-8b9b143aba95\")).parents('.cell').data().cell;\n      cell.output_area.append_execute_result(NB_LOAD_WARNING)\n    }\n  }\n\n  if (root._bokeh_is_loading === 0) {\n    console.debug(\"Bokeh: BokehJS loaded, going straight to plotting\");\n    run_inline_js();\n  } else {\n    load_libs(css_urls, js_urls, function() {\n      console.debug(\"Bokeh: BokehJS plotting callback run at\", now());\n      run_inline_js();\n    });\n  }\n}(window));",
            "application/vnd.bokehjs_load.v0+json": ""
          },
          "metadata": {},
          "output_type": "display_data"
        }
      ],
      "source": [
        "import pandas as pd\n",
        "import numpy as np\n",
        "import re, os\n",
        "# For vector norms, and determinants.\n",
        "import numpy.linalg as la\n",
        "# Plotting\n",
        "import matplotlib as plt\n",
        "import seaborn as sns\n",
        "\n",
        "# javascript plots\n",
        "from bokeh.plotting import figure, show\n",
        "from bokeh.models import BoxAnnotation, ColumnDataSource, VBar, Span, Legend\n",
        "from bokeh.io import output_notebook\n",
        "from bokeh.palettes import Category10\n",
        "output_notebook()\n",
        "\n",
        "import sklearn.linear_model as sl\n",
        "\n",
        "# Distributions\n",
        "from scipy.stats import norm\n",
        "\n",
        "# Principal component analysis\n",
        "from sklearn.decomposition import PCA, TruncatedSVD\n",
        "# The random number generator can be used to select a random set of columns for visualization\n",
        "from numpy.random import Generator, PCG64\n",
        "rng = Generator(PCG64())"
      ]
    },
    {
      "cell_type": "code",
      "execution_count": 2,
      "metadata": {
        "colab": {
          "base_uri": "https://localhost:8080/",
          "height": 36
        },
        "id": "akvJ6QHqNmoO",
        "outputId": "5a1dab1f-2819-4360-a89b-e610690f8877"
      },
      "outputs": [
        {
          "data": {
            "text/plain": [
              "'0.14.0'"
            ]
          },
          "execution_count": 2,
          "metadata": {},
          "output_type": "execute_result"
        }
      ],
      "source": [
        "# use statsmodels to compute OLS regression standard errors\n",
        "# since scikit learn doesn't compute them.\n",
        "# This update fails\n",
        "# os.system('python -m pip install git+https://github.com/statsmodels/statsmodels')\n",
        "import statsmodels.api as sm\n",
        "sm.__version__"
      ]
    },
    {
      "cell_type": "markdown",
      "metadata": {
        "id": "JjFxeOzchIOd"
      },
      "source": [
        "### Set globals"
      ]
    },
    {
      "cell_type": "code",
      "execution_count": 6,
      "metadata": {
        "id": "X8QnoPffll2S"
      },
      "outputs": [],
      "source": [
        "# Global variables\n",
        "EMBEDDING_DIMENSIONS = 384     # This model creates vectors of this length.\n",
        "TEST_SET_SIZE = 500\n",
        "BOOTSTRAP_RESAMPLES = 200\n",
        "RELOAD_PACKAGE = False         # Reload the embedding package\n",
        "USE_COLAB = False              # Load the data from your Google Drive"
      ]
    },
    {
      "cell_type": "code",
      "execution_count": 5,
      "metadata": {
        "id": "uyPFhh8zD_F8"
      },
      "outputs": [],
      "source": [
        "# If you need to rerun the sentence embeddings transformer, you'll have to reload the package since\n",
        "# its not included in Colab.  Set RELOAD_PACKAGE to True to reload it.\n",
        "\n",
        "\n",
        "# We'll use this dataset of 3000 labeled text samples.\n",
        "# https://archive.ics.uci.edu/dataset/331/sentiment+labelled+sentences\n",
        "\n",
        "# For converting the text into vectors, use this llm package\n",
        "# See https://pypi.org/project/sentence-transformers/\n",
        "try:\n",
        "  from sentence_transformers import SentenceTransformer\n",
        "except:\n",
        "  if RELOAD_PACKAGE:\n",
        "    os.system('python -m pip install sentence-transformers')\n",
        "    from sentence_transformers import SentenceTransformer\n",
        "  else:\n",
        "      print('import SentenceTransformer failed')\n"
      ]
    },
    {
      "cell_type": "markdown",
      "metadata": {
        "id": "jx7TjFvegpBC"
      },
      "source": [
        "## Load the data, and run the sentence tranformers on it, if needed\n",
        "\n",
        "We've been using the data set as indexed by embeddings from ---a set of 3,000 items from 3 different sources, - \"IMDB\", Amazon, and Yelp reviews, on which the 'all-MiniLM-L6-v2' sentenceTransformer model generates 384 features.\n",
        "\n",
        "If you need to download this dataset, go to:\n",
        "\n",
        "    https://archive.ics.uci.edu/dataset/331/sentiment+labelled+sentences\n",
        "\n",
        "If you want to use a larger set, here's an NLP data set from Kaggle  of 50,000 items. One can find them on the Kaggle site:\n",
        "\n",
        "To download the dataset, go to:\n",
        "\n",
        "https://www.kaggle.com/datasets/lakshmi25npathi/imdb-dataset-of-50k-movie-reviews\n",
        "\n",
        "You would need to download the \"IMDB Dataset.csv\" file - 66.21MB\n"
      ]
    },
    {
      "cell_type": "code",
      "execution_count": 7,
      "metadata": {
        "colab": {
          "base_uri": "https://localhost:8080/"
        },
        "id": "y65SiTmyGbTy",
        "outputId": "9e924c20-3132-4f82-c220-ffd2e0ba1398"
      },
      "outputs": [
        {
          "data": {
            "text/plain": [
              "['.DS_Store',\n",
              " 'amazon_cells_labelled.txt',\n",
              " 'imdb_labelled.txt',\n",
              " 'readme.txt',\n",
              " 'sentence_embeddings.parquet',\n",
              " 'yelp_labelled.txt']"
            ]
          },
          "execution_count": 7,
          "metadata": {},
          "output_type": "execute_result"
        }
      ],
      "source": [
        "# Run this if you want to run on Colab and use the already featurized data\n",
        "\n",
        "if USE_COLAB and not os.path.exists('/content/drive'):\n",
        "  from google.colab import drive\n",
        "  drive.mount('/content/drive/')\n",
        "  os.chdir('/content/drive/MyDrive/ISE201/notebooks/data')\n",
        "else:\n",
        "  os.chdir('./sentiment_labelled_sentences')\n",
        "os.listdir(os.getcwd())"
      ]
    },
    {
      "cell_type": "code",
      "execution_count": 9,
      "metadata": {
        "colab": {
          "base_uri": "https://localhost:8080/"
        },
        "id": "wHlu2c8QHAAh",
        "outputId": "ba2f66fe-1955-46e2-d566-a33d12757369"
      },
      "outputs": [
        {
          "data": {
            "text/plain": [
              "((2748, 3), (2748, 384), (2748,))"
            ]
          },
          "execution_count": 9,
          "metadata": {},
          "output_type": "execute_result"
        }
      ],
      "source": [
        "# Load the embedding vectors dataset\n",
        "if os.environ['HOME'] == '/home/jma':\n",
        "    featurized_parquet_file = 'sentence_embeddings.parquet'\n",
        "elif USE_COLAB:\n",
        "  # Find the file on Googe Drive\n",
        "    featurized_parquet_file = './3000_sentence_embeddings.parquet'\n",
        "\n",
        "text_df = pd.read_parquet(featurized_parquet_file)\n",
        "\n",
        "# Extract the outcome y vector\n",
        "outcomes = text_df['sentiment'].values\n",
        "\n",
        "# Extract the vector field and expand it to multiple rows.\n",
        "n_samples, embedding_dim = text_df.shape\n",
        "data_ar = np.empty((n_samples, EMBEDDING_DIMENSIONS), 'float')\n",
        "for i in range(n_samples):\n",
        "    x = text_df.values[i,2]\n",
        "    data_ar[i] = x\n",
        "\n",
        "# Check the data shapes: raw NLP data, and itsEMB sentence embeddings, outocomes\n",
        "text_df.shape, data_ar.shape, outcomes.shape"
      ]
    },
    {
      "cell_type": "code",
      "execution_count": 44,
      "metadata": {
        "colab": {
          "base_uri": "https://localhost:8080/"
        },
        "id": "kIiEcWiIzqOA",
        "outputId": "ee98039c-4549-4754-fb96-7dad0bfce103"
      },
      "outputs": [
        {
          "data": {
            "text/plain": [
              "((2248, 384), 2248, 2248, (2248,))"
            ]
          },
          "execution_count": 44,
          "metadata": {},
          "output_type": "execute_result"
        }
      ],
      "source": [
        "# Split the data into a learning and holdout set\n",
        "# Create a random sample, with replacement\n",
        "sample_size = outcomes.shape[0]- TEST_SET_SIZE\n",
        "learning_set = np.random.choice(len(data_ar),\\\n",
        "                                sample_size,\\\n",
        "                                replace=False)\n",
        "learning_data = data_ar[learning_set,:]\n",
        "learning_outcome = text_df['sentiment'].values[learning_set]\n",
        "\n",
        "# Run predictions against a hold-out set\n",
        "not_learning_set = list(set(text_df.index).difference(set(learning_set)))  # TODO check if this set is correct\n",
        "holdout_data = data_ar[not_learning_set,:]\n",
        "holdout_data = sm.add_constant(holdout_data)\n",
        "# holdout_data = sm.add_constant(holdout_data)\n",
        "holdout_actuals = text_df['sentiment'].values[not_learning_set]\n",
        "learning_data.shape, len(learning_set), sample_size, learning_outcome.shape"
      ]
    },
    {
      "cell_type": "markdown",
      "metadata": {
        "id": "AJj6dw2KmTyc"
      },
      "source": [
        "## Pick an evaluation metric & create visualization graphics"
      ]
    },
    {
      "cell_type": "code",
      "execution_count": 92,
      "metadata": {
        "id": "1f5enebaxAv-"
      },
      "outputs": [],
      "source": [
        "# An in-sample metric\n",
        "def AIC(the_fit):\n",
        "  'Use this to compute AIC on different models.'\n",
        "  return 2* (the_fit.df_model+1) - 2*the_fit.llf\n",
        "\n",
        "# A metric to compare out-of-sample error\n",
        "def one_zero_error(predicted, actual, test_threshold = 0.5):\n",
        "  'The predicted is a continuous value, so it needs to be thresholded. '\n",
        "  test_df = pd.DataFrame(dict(prediction=pd.Series(predicted >= test_threshold), actual=actual))\n",
        "  test_error = sum(test_df.prediction != actual)/len(actual)\n",
        "  return test_error"
      ]
    },
    {
      "cell_type": "code",
      "execution_count": 12,
      "metadata": {
        "id": "3GN786rrvOCb"
      },
      "outputs": [],
      "source": [
        "# A plot that shows the difference between the normal approximation interval and an equivalent coverage empirical interval,\n",
        "\n",
        "def expand_range(low, high, by=2.0):\n",
        "    mid = (low + high)/2\n",
        "    half_width = by * abs(high - low)/2\n",
        "    return (mid - half_width, mid + half_width)\n",
        "\n",
        "# Compute two different interval estimates\n",
        "# The first assuming a normal distribution, using standard deviation\n",
        "# The second computing the equivalent quantiles 0.025 and 0.975, from the empirical data. \n",
        "# Note: For extreme distributions, such as those on a closed or half interval, this may not be the best approximation\n",
        "def interval_estimate(data_list):\n",
        "    data_ar = np.array(data_list)\n",
        "    mn = data_ar.mean()\n",
        "    sd = data_ar.std()\n",
        "    return {'mean': mn, 'sd': sd,\n",
        "        'normal_interval': (mn-1.96*sd, mn+1.96*sd),\n",
        "            'quantile_interval': (np.percentile(data_ar, 2.5), np.percentile(data_ar, 97.5))}\n",
        "\n",
        "def plot_intervals(the_sample, bin_ct = 50, subtitle = ''):\n",
        "    normal_approx = interval_estimate(the_sample)\n",
        "    lower_limit = min(normal_approx['normal_interval'][0], normal_approx['quantile_interval'][0])\n",
        "    upper_limit = max(normal_approx['normal_interval'][1], normal_approx['quantile_interval'][1])\n",
        "    lower_plot_limit, upper_plot_limit = expand_range(lower_limit, upper_limit)\n",
        "    print('Limits ', lower_plot_limit, upper_plot_limit)\n",
        "    p = figure(width = 800, height = 300, x_range = (lower_plot_limit,  upper_plot_limit ), title='Normal versus Empirical Bootstrap Interval Estimates.\\n' + subtitle)\n",
        "\n",
        "    hist, bin_edges = np.histogram(the_sample, bins=bin_ct, density=True)\n",
        "    hist_df = pd.DataFrame(dict(density=hist, rv= bin_edges[:-1]), columns=['rv', 'density'])\n",
        "    # Shade the background corresponding to the normal interval\n",
        "    box = BoxAnnotation(left=normal_approx['normal_interval'][0], right=normal_approx['normal_interval'][1], bottom=0, top=max(1, max(hist)), fill_alpha=0.2, fill_color='#D55E00')\n",
        "    p.add_layout(box)\n",
        "    bar_width = (bin_edges[-1] - bin_edges[0])/bin_ct\n",
        "    hist_src = ColumnDataSource(hist_df)\n",
        "\n",
        "    glyph = VBar(x='rv', top='density', bottom=0, width=bar_width, fill_color='limegreen')\n",
        "    p.add_glyph(hist_src, glyph)\n",
        "    # Overlay a selection of the histogram within the estimate interval\n",
        "    interval_src = ColumnDataSource(hist_df[(hist_df.rv > normal_approx['quantile_interval'][0]) & (hist_df.rv < normal_approx['quantile_interval'][1])])\n",
        "    glyph = VBar(x='rv', top='density', bottom=0, width=bar_width, fill_color='darkgreen')\n",
        "    p.add_glyph(interval_src, glyph)\n",
        "    # Overlay the normal distribution within the interval.\n",
        "    x = np.linspace(normal_approx['normal_interval'][0], normal_approx['normal_interval'][1])\n",
        "    p.line(x=x, y=norm.pdf(x, loc= normal_approx['mean'], scale = normal_approx['sd']))\n",
        "    return p"
      ]
    },
    {
      "cell_type": "markdown",
      "metadata": {
        "id": "S2gE-F-Pmimt"
      },
      "source": [
        "## Run the baseline regression"
      ]
    },
    {
      "cell_type": "code",
      "execution_count": 13,
      "metadata": {
        "id": "mdfQXzlbwsYB"
      },
      "outputs": [],
      "source": [
        "# Run an OLS regression on the full data.\n",
        "def regress(y, X):\n",
        "  design_matrix = sm.add_constant(X)\n",
        "  ols_model = sm.OLS(y, design_matrix)\n",
        "  #print(ols_model.fit().summary())\n",
        "  return ols_model.fit()\n",
        "\n",
        "def print_eval_summary(the_fit):\n",
        "  # Just show the evaluation table, without coefs (tables[1] give coefs)\n",
        "  s = the_fit.summary()\n",
        "  print (s.tables[0])\n",
        "  return None"
      ]
    },
    {
      "cell_type": "code",
      "execution_count": 14,
      "metadata": {
        "colab": {
          "base_uri": "https://localhost:8080/"
        },
        "id": "D8-Zbopew7Fh",
        "outputId": "0ac699f4-1cd3-458a-c968-58a83b02aab9"
      },
      "outputs": [
        {
          "name": "stdout",
          "output_type": "stream",
          "text": [
            "                            OLS Regression Results                            \n",
            "==============================================================================\n",
            "Dep. Variable:                      y   R-squared:                       0.709\n",
            "Model:                            OLS   Adj. R-squared:                  0.662\n",
            "Method:                 Least Squares   F-statistic:                     15.06\n",
            "Date:                Sun, 21 Apr 2024   Prob (F-statistic):               0.00\n",
            "Time:                        16:27:30   Log-Likelihood:                -299.62\n",
            "No. Observations:                2748   AIC:                             1365.\n",
            "Df Residuals:                    2365   BIC:                             3632.\n",
            "Df Model:                         382                                         \n",
            "Covariance Type:            nonrobust                                         \n",
            "==============================================================================\n"
          ]
        },
        {
          "data": {
            "text/plain": [
              "('AIC: ', 1365.2353739571927)"
            ]
          },
          "execution_count": 14,
          "metadata": {},
          "output_type": "execute_result"
        }
      ],
      "source": [
        "fit = regress(outcomes, data_ar)\n",
        "print_eval_summary(fit)\n",
        "'AIC: ', AIC(fit)"
      ]
    },
    {
      "cell_type": "code",
      "execution_count": 15,
      "metadata": {
        "colab": {
          "base_uri": "https://localhost:8080/"
        },
        "id": "J9hZl7tRldnp",
        "outputId": "6f5f15a6-73f6-407c-ea6b-3d23d4edcc25"
      },
      "outputs": [
        {
          "data": {
            "text/plain": [
              "0.06186317321688501"
            ]
          },
          "execution_count": 15,
          "metadata": {},
          "output_type": "execute_result"
        }
      ],
      "source": [
        "# Compute in-sample error\n",
        "one_zero_error(fit.predict(), outcomes, test_threshold = 0.5)"
      ]
    },
    {
      "cell_type": "code",
      "execution_count": 28,
      "metadata": {},
      "outputs": [
        {
          "data": {
            "text/html": [
              "<div>\n",
              "<style scoped>\n",
              "    .dataframe tbody tr th:only-of-type {\n",
              "        vertical-align: middle;\n",
              "    }\n",
              "\n",
              "    .dataframe tbody tr th {\n",
              "        vertical-align: top;\n",
              "    }\n",
              "\n",
              "    .dataframe thead th {\n",
              "        text-align: right;\n",
              "    }\n",
              "</style>\n",
              "<table border=\"1\" class=\"dataframe\">\n",
              "  <thead>\n",
              "    <tr style=\"text-align: right;\">\n",
              "      <th></th>\n",
              "      <th>0</th>\n",
              "      <th>1</th>\n",
              "      <th>2</th>\n",
              "      <th>3</th>\n",
              "      <th>4</th>\n",
              "      <th>5</th>\n",
              "      <th>6</th>\n",
              "    </tr>\n",
              "  </thead>\n",
              "  <tbody>\n",
              "    <tr>\n",
              "      <th>0</th>\n",
              "      <td></td>\n",
              "      <td>coef</td>\n",
              "      <td>std err</td>\n",
              "      <td>t</td>\n",
              "      <td>P&gt;|t|</td>\n",
              "      <td>[0.025</td>\n",
              "      <td>0.975]</td>\n",
              "    </tr>\n",
              "    <tr>\n",
              "      <th>1</th>\n",
              "      <td>const</td>\n",
              "      <td>0.5822</td>\n",
              "      <td>0.056</td>\n",
              "      <td>10.336</td>\n",
              "      <td>0.000</td>\n",
              "      <td>0.472</td>\n",
              "      <td>0.693</td>\n",
              "    </tr>\n",
              "    <tr>\n",
              "      <th>2</th>\n",
              "      <td>x1</td>\n",
              "      <td>-0.2610</td>\n",
              "      <td>0.235</td>\n",
              "      <td>-1.112</td>\n",
              "      <td>0.266</td>\n",
              "      <td>-0.721</td>\n",
              "      <td>0.199</td>\n",
              "    </tr>\n",
              "    <tr>\n",
              "      <th>3</th>\n",
              "      <td>x2</td>\n",
              "      <td>0.4099</td>\n",
              "      <td>0.237</td>\n",
              "      <td>1.727</td>\n",
              "      <td>0.084</td>\n",
              "      <td>-0.056</td>\n",
              "      <td>0.875</td>\n",
              "    </tr>\n",
              "    <tr>\n",
              "      <th>4</th>\n",
              "      <td>x3</td>\n",
              "      <td>-0.2591</td>\n",
              "      <td>0.268</td>\n",
              "      <td>-0.967</td>\n",
              "      <td>0.333</td>\n",
              "      <td>-0.784</td>\n",
              "      <td>0.266</td>\n",
              "    </tr>\n",
              "    <tr>\n",
              "      <th>...</th>\n",
              "      <td>...</td>\n",
              "      <td>...</td>\n",
              "      <td>...</td>\n",
              "      <td>...</td>\n",
              "      <td>...</td>\n",
              "      <td>...</td>\n",
              "      <td>...</td>\n",
              "    </tr>\n",
              "    <tr>\n",
              "      <th>381</th>\n",
              "      <td>x380</td>\n",
              "      <td>-0.0595</td>\n",
              "      <td>0.275</td>\n",
              "      <td>-0.216</td>\n",
              "      <td>0.829</td>\n",
              "      <td>-0.599</td>\n",
              "      <td>0.480</td>\n",
              "    </tr>\n",
              "    <tr>\n",
              "      <th>382</th>\n",
              "      <td>x381</td>\n",
              "      <td>0.5904</td>\n",
              "      <td>0.229</td>\n",
              "      <td>2.576</td>\n",
              "      <td>0.010</td>\n",
              "      <td>0.141</td>\n",
              "      <td>1.040</td>\n",
              "    </tr>\n",
              "    <tr>\n",
              "      <th>383</th>\n",
              "      <td>x382</td>\n",
              "      <td>0.8383</td>\n",
              "      <td>0.230</td>\n",
              "      <td>3.650</td>\n",
              "      <td>0.000</td>\n",
              "      <td>0.388</td>\n",
              "      <td>1.289</td>\n",
              "    </tr>\n",
              "    <tr>\n",
              "      <th>384</th>\n",
              "      <td>x383</td>\n",
              "      <td>0.1760</td>\n",
              "      <td>0.231</td>\n",
              "      <td>0.760</td>\n",
              "      <td>0.447</td>\n",
              "      <td>-0.278</td>\n",
              "      <td>0.630</td>\n",
              "    </tr>\n",
              "    <tr>\n",
              "      <th>385</th>\n",
              "      <td>x384</td>\n",
              "      <td>-0.1651</td>\n",
              "      <td>0.290</td>\n",
              "      <td>-0.569</td>\n",
              "      <td>0.569</td>\n",
              "      <td>-0.734</td>\n",
              "      <td>0.404</td>\n",
              "    </tr>\n",
              "  </tbody>\n",
              "</table>\n",
              "<p>386 rows × 7 columns</p>\n",
              "</div>"
            ],
            "text/plain": [
              "         0           1          2          3       4          5          6\n",
              "0                 coef    std err          t   P>|t|     [0.025     0.975]\n",
              "1    const      0.5822      0.056     10.336   0.000      0.472      0.693\n",
              "2       x1     -0.2610      0.235     -1.112   0.266     -0.721      0.199\n",
              "3       x2      0.4099      0.237      1.727   0.084     -0.056      0.875\n",
              "4       x3     -0.2591      0.268     -0.967   0.333     -0.784      0.266\n",
              "..     ...         ...        ...        ...     ...        ...        ...\n",
              "381   x380     -0.0595      0.275     -0.216   0.829     -0.599      0.480\n",
              "382   x381      0.5904      0.229      2.576   0.010      0.141      1.040\n",
              "383   x382      0.8383      0.230      3.650   0.000      0.388      1.289\n",
              "384   x383      0.1760      0.231      0.760   0.447     -0.278      0.630\n",
              "385   x384     -0.1651      0.290     -0.569   0.569     -0.734      0.404\n",
              "\n",
              "[386 rows x 7 columns]"
            ]
          },
          "execution_count": 28,
          "metadata": {},
          "output_type": "execute_result"
        }
      ],
      "source": [
        "# Look at some of the beta coefficients\n",
        "pd.DataFrame(fit.summary().tables[1])"
      ]
    },
    {
      "cell_type": "markdown",
      "metadata": {
        "id": "oScwVPdsxRb4"
      },
      "source": [
        "## An example Interval estimate for out-of-sample 0-1 error via Bootstrap re-sampling\n",
        "\n",
        "This demonstrates the 0-1 error rate interval estimate, by resampling the training predictor, then measuring accuracy on the holdout set. This may be overkill, as a way to estimate the variation in the holdout error. \n",
        "\n",
        "Note that the non-parametric interval does slightly worse than its normal approximation interval. "
      ]
    },
    {
      "cell_type": "code",
      "execution_count": 16,
      "metadata": {
        "colab": {
          "base_uri": "https://localhost:8080/"
        },
        "id": "B0o1MNDhg6Jq",
        "outputId": "04c5f2d2-7379-4015-b188-554d77cd15c9"
      },
      "outputs": [
        {
          "data": {
            "text/plain": [
              "(2248, 200)"
            ]
          },
          "execution_count": 16,
          "metadata": {},
          "output_type": "execute_result"
        }
      ],
      "source": [
        "# Create a large number of bootstrap replications\n",
        "# Each column in \"resamplings\" is a set of indexes into the rows of the training set, resampled with replacement.\n",
        "\n",
        "def bootstrap_replicates(the_sample, B=BOOTSTRAP_RESAMPLES):\n",
        "    replicates = np.zeros((len(the_sample), B), dtype='int')\n",
        "    for k in range(B):\n",
        "        replicates[:,k] = np.random.choice(the_sample, len(the_sample), replace=True).astype('int')\n",
        "    return replicates\n",
        "\n",
        "resamplings = bootstrap_replicates(list(range(sample_size)))\n",
        "resamplings.shape"
      ]
    },
    {
      "cell_type": "code",
      "execution_count": 34,
      "metadata": {
        "colab": {
          "base_uri": "https://localhost:8080/"
        },
        "id": "PkrlDlT6xLen",
        "outputId": "225e88ce-3a89-4209-f293-f4201e95aaff"
      },
      "outputs": [
        {
          "name": "stdout",
          "output_type": "stream",
          "text": [
            "learning AIC: \n",
            "794.23, \n",
            "604.38, 816.83, 829.81, 777.38, 780.35, 859.81, 748.26, 704.3, 765.55, 637.26, \n",
            "623.55, 791.59, 773.78, 684.01, 774.25, 708.74, 745.52, 573.65, 672.25, 845.33, \n",
            "637.89, 618.32, 828.41, 709.26, 843.14, 767.33, 711.81, 673.35, 732.88, 745.62, \n",
            "663.39, 624.02, 663.51, 825.88, 760.15, 684.73, 827.12, 671.07, 878.4, 751.46, \n",
            "677.22, 731.73, 711.14, 962.41, 923.41, 868.85, 761.49, 861.27, 715.8, 778.42, \n",
            "701.67, 745.97, 708.61, 763.56, 691.84, 892.71, 771.99, 746.75, 789.35, 707.19, \n",
            "780.32, 716.05, 706.8, 731.04, 791.6, 760.45, 519.82, 754.02, 679.01, 624.79, \n",
            "620.24, 902.89, 805.15, 767.02, 666.16, 813.3, 723.5, 806.52, 782.63, 896.91, \n",
            "694.02, 750.04, 882.43, 733.25, 691.07, 785.92, 696.73, 793.8, 735.62, 829.84, \n",
            "749.75, 735.34, 663.74, 774.72, 792.22, 707.64, 798.3, 675.91, 699.88, 602.09, \n",
            "598.65, 647.88, 826.79, 656.08, 825.62, 790.34, 687.93, 844.19, 812.99, 770.78, \n",
            "790.27, 813.28, 946.93, 835.24, 773.26, 570.89, 937.23, 699.55, 703.61, 580.17, \n",
            "680.58, 801.46, 806.43, 808.33, 801.33, 770.22, 732.91, 678.38, 742.45, 727.65, \n",
            "604.49, 854.55, 704.05, 687.81, 734.25, 645.18, 622.61, 784.54, 647.67, 539.03, \n",
            "716.83, 804.19, 702.05, 639.73, 787.99, 730.4, 712.85, 674.47, 791.3, 618.38, \n",
            "834.24, 713.22, 814.27, 866.57, 683.86, 764.72, 899.54, 943.72, 674.77, 576.49, \n",
            "695.17, 639.92, 832.39, 691.7, 692.05, 827.55, 686.62, 621.43, 797.13, 721.15, \n",
            "738.86, 793.55, 733.52, 683.28, 671.5, 729.15, 733.35, 834.42, 589.91, 817.39, \n",
            "819.89, 761.26, 862.92, 643.55, 785.23, 669.12, 845.25, 805.12, 769.04, 868.06, \n",
            "890.29, 915.92, 771.4, 650.85, 815.16, 658.61, 753.55, 647.08, 743.32, "
          ]
        }
      ],
      "source": [
        "# Bootstrap the zero-one error on a hold-out set.\n",
        "\n",
        "# Create a large number of bootstrap replications\n",
        "resampled_errors = np.zeros(BOOTSTRAP_RESAMPLES)\n",
        "\n",
        "# Retrain the model on the resampled learning set,\n",
        "# and compute the hold-out set error for each resample\n",
        "print('learning AIC: ')\n",
        "for k in range(BOOTSTRAP_RESAMPLES):\n",
        "  resampled_data  = learning_data[resamplings[:,k],:]\n",
        "  retraining_fit = regress(learning_outcome[resamplings[:,k]], resampled_data) # [resamplings[:,k]], resampled_data)\n",
        "  print(f'{AIC(retraining_fit):.5}', end=', ')\n",
        "  if k % 10 == 0:\n",
        "    print()\n",
        "\n",
        "\n",
        "  # Predict on the hold-out set\n",
        "  hold_out_predict = retraining_fit.predict(holdout_data)\n",
        "  resampled_errors[k] = one_zero_error(hold_out_predict, holdout_actuals)\n"
      ]
    },
    {
      "cell_type": "code",
      "execution_count": 36,
      "metadata": {
        "colab": {
          "base_uri": "https://localhost:8080/",
          "height": 300
        },
        "id": "vC0ptqMwxiuL",
        "outputId": "613d0fd0-ab98-4218-b835-e521553f87b6"
      },
      "outputs": [
        {
          "data": {
            "text/html": [
              "<div>\n",
              "<style scoped>\n",
              "    .dataframe tbody tr th:only-of-type {\n",
              "        vertical-align: middle;\n",
              "    }\n",
              "\n",
              "    .dataframe tbody tr th {\n",
              "        vertical-align: top;\n",
              "    }\n",
              "\n",
              "    .dataframe thead th {\n",
              "        text-align: right;\n",
              "    }\n",
              "</style>\n",
              "<table border=\"1\" class=\"dataframe\">\n",
              "  <thead>\n",
              "    <tr style=\"text-align: right;\">\n",
              "      <th></th>\n",
              "      <th>0</th>\n",
              "    </tr>\n",
              "  </thead>\n",
              "  <tbody>\n",
              "    <tr>\n",
              "      <th>count</th>\n",
              "      <td>200.000000</td>\n",
              "    </tr>\n",
              "    <tr>\n",
              "      <th>mean</th>\n",
              "      <td>0.129892</td>\n",
              "    </tr>\n",
              "    <tr>\n",
              "      <th>std</th>\n",
              "      <td>0.018329</td>\n",
              "    </tr>\n",
              "    <tr>\n",
              "      <th>min</th>\n",
              "      <td>0.080645</td>\n",
              "    </tr>\n",
              "    <tr>\n",
              "      <th>25%</th>\n",
              "      <td>0.118280</td>\n",
              "    </tr>\n",
              "    <tr>\n",
              "      <th>50%</th>\n",
              "      <td>0.129032</td>\n",
              "    </tr>\n",
              "    <tr>\n",
              "      <th>75%</th>\n",
              "      <td>0.145161</td>\n",
              "    </tr>\n",
              "    <tr>\n",
              "      <th>max</th>\n",
              "      <td>0.182796</td>\n",
              "    </tr>\n",
              "  </tbody>\n",
              "</table>\n",
              "</div>"
            ],
            "text/plain": [
              "                0\n",
              "count  200.000000\n",
              "mean     0.129892\n",
              "std      0.018329\n",
              "min      0.080645\n",
              "25%      0.118280\n",
              "50%      0.129032\n",
              "75%      0.145161\n",
              "max      0.182796"
            ]
          },
          "execution_count": 36,
          "metadata": {},
          "output_type": "execute_result"
        }
      ],
      "source": [
        "# What to the bootstrap errors look like?\n",
        "pd.DataFrame(resampled_errors).describe()"
      ]
    },
    {
      "cell_type": "code",
      "execution_count": 37,
      "metadata": {
        "colab": {
          "base_uri": "https://localhost:8080/",
          "height": 334
        },
        "id": "lb0SBDB9vkmv",
        "outputId": "c579ba54-15b4-49b9-f49e-2a73bbbd1939"
      },
      "outputs": [
        {
          "name": "stdout",
          "output_type": "stream",
          "text": [
            "Limits  0.05775321412926951 0.20297115084579906\n"
          ]
        },
        {
          "data": {
            "text/html": [
              "\n",
              "  <div id=\"ac72fd9d-870c-44fb-b187-85a9472e257c\" data-root-id=\"p1063\" style=\"display: contents;\"></div>\n"
            ]
          },
          "metadata": {},
          "output_type": "display_data"
        },
        {
          "data": {
            "application/javascript": "(function(root) {\n  function embed_document(root) {\n  const docs_json = {\"92962910-0363-41f6-955a-44cac43de3be\":{\"version\":\"3.3.0\",\"title\":\"Bokeh Application\",\"roots\":[{\"type\":\"object\",\"name\":\"Figure\",\"id\":\"p1063\",\"attributes\":{\"width\":800,\"height\":300,\"x_range\":{\"type\":\"object\",\"name\":\"Range1d\",\"id\":\"p1073\",\"attributes\":{\"start\":0.05775321412926951,\"end\":0.20297115084579906}},\"y_range\":{\"type\":\"object\",\"name\":\"DataRange1d\",\"id\":\"p1065\"},\"x_scale\":{\"type\":\"object\",\"name\":\"LinearScale\",\"id\":\"p1074\"},\"y_scale\":{\"type\":\"object\",\"name\":\"LinearScale\",\"id\":\"p1075\"},\"title\":{\"type\":\"object\",\"name\":\"Title\",\"id\":\"p1066\",\"attributes\":{\"text\":\"Normal versus Empirical Bootstrap Interval Estimates.\\n\"}},\"renderers\":[{\"type\":\"object\",\"name\":\"GlyphRenderer\",\"id\":\"p1098\",\"attributes\":{\"data_source\":{\"type\":\"object\",\"name\":\"ColumnDataSource\",\"id\":\"p1094\",\"attributes\":{\"selected\":{\"type\":\"object\",\"name\":\"Selection\",\"id\":\"p1095\",\"attributes\":{\"indices\":[],\"line_indices\":[]}},\"selection_policy\":{\"type\":\"object\",\"name\":\"UnionRenderers\",\"id\":\"p1096\"},\"data\":{\"type\":\"map\",\"entries\":[[\"index\",{\"type\":\"ndarray\",\"array\":{\"type\":\"bytes\",\"data\":\"AAAAAAEAAAACAAAAAwAAAAQAAAAFAAAABgAAAAcAAAAIAAAACQAAAAoAAAALAAAADAAAAA0AAAAOAAAADwAAABAAAAARAAAAEgAAABMAAAAUAAAAFQAAABYAAAAXAAAAGAAAABkAAAAaAAAAGwAAABwAAAAdAAAAHgAAAB8AAAAgAAAAIQAAACIAAAAjAAAAJAAAACUAAAAmAAAAJwAAACgAAAApAAAAKgAAACsAAAAsAAAALQAAAC4AAAAvAAAAMAAAADEAAAA=\"},\"shape\":[50],\"dtype\":\"int32\",\"order\":\"little\"}],[\"rv\",{\"type\":\"ndarray\",\"array\":{\"type\":\"bytes\",\"data\":\"pZRSSimltD8r1bBSDSu1P7EVD1vxsLU/N1ZtY9U2tj+9lstruby2P0LXKXSdQrc/yBeIfIHItz9OWOaEZU64P9SYRI1J1Lg/WtmilS1auT/gGQGeEeC5P2ZaX6b1Zbo/7Jq9rtnruj9y2xu3vXG7P/gber+h97s/flzYx4V9vD8EnTbQaQO9P4rdlNhNib0/EB7z4DEPvj+VXlHpFZW+Pxufr/H5Gr8/od8N+t2gvz8UEDYBYRPAP1YwZQVTVsA/mlCUCUWZwD/ccMMNN9zAPx+R8hEpH8E/YrEhFhtiwT+l0VAaDaXBP+jxfx7/58E/KxKvIvEqwj9uMt4m423CP7FSDSvVsMI/9HI8L8fzwj83k2szuTbDP3qzmjerecM/vdPJO528wz8A9Pg/j//DP0IUKESBQsQ/hjRXSHOFxD/IVIZMZcjEPwx1tVBXC8U/TpXkVElOxT+StRNZO5HFP9TVQl0t1MU/GPZxYR8Xxj9aFqFlEVrGP5420GkDncY/4Fb/bfXfxj8jdy5y5yLHPw==\"},\"shape\":[50],\"dtype\":\"float64\",\"order\":\"little\"}],[\"density\",{\"type\":\"ndarray\",\"array\":{\"type\":\"bytes\",\"data\":\"P3kN5TWUA0AAAAAAAAAAAD95DeU1lANAAAAAAAAAAAAAAAAAAAAAAAAAAAAAAAAAAAAAAAAAAAA/eQ3lNZQTQAAAAAAAAAAAAAAAAAAAAAC3hvIayus6QAAAAAAAAAAAAAAAAAAAAADTUF5Dec1EQAAAAAAAAAAAGMprKK8hQUAAAAAAAAAAAAAAAAAAAAAA6obyGsrrSkAAAAAAAAAAAAAAAAAAAAAApjWU11BeTUAAAAAAAAAAADLXUF5DeUhAAAAAAAAAAAAAAAAAAAAAANNQXkN5zURAAAAAAAAAAABoKK+hvAZGQAAAAAAAAAAAAAAAAAAAAAA/eQ3lNZRDQAAAAAAAAAAAAAAAAAAAAACsobyG8lpCQAAAAAAAAAAAt4byGsrrOkAAAAAAAAAAAAAAAAAAAAAAinkN5TWUI0AAAAAAAAAAAAAAAAAAAAAA9HgN5TWUI0AAAAAAAAAAAPR4DeU1lBNAAAAAAAAAAAAAAAAAAAAAAAAAAAAAAAAAAAAAAAAAAAA/eQ3lNZQDQA==\"},\"shape\":[50],\"dtype\":\"float64\",\"order\":\"little\"}]]}}},\"view\":{\"type\":\"object\",\"name\":\"CDSView\",\"id\":\"p1099\",\"attributes\":{\"filter\":{\"type\":\"object\",\"name\":\"AllIndices\",\"id\":\"p1100\"}}},\"glyph\":{\"type\":\"object\",\"name\":\"VBar\",\"id\":\"p1097\",\"attributes\":{\"x\":{\"type\":\"field\",\"field\":\"rv\"},\"width\":{\"type\":\"value\",\"value\":0.0020430107526881723},\"top\":{\"type\":\"field\",\"field\":\"density\"},\"fill_color\":{\"type\":\"value\",\"value\":\"limegreen\"}}}}},{\"type\":\"object\",\"name\":\"GlyphRenderer\",\"id\":\"p1105\",\"attributes\":{\"data_source\":{\"type\":\"object\",\"name\":\"ColumnDataSource\",\"id\":\"p1101\",\"attributes\":{\"selected\":{\"type\":\"object\",\"name\":\"Selection\",\"id\":\"p1102\",\"attributes\":{\"indices\":[],\"line_indices\":[]}},\"selection_policy\":{\"type\":\"object\",\"name\":\"UnionRenderers\",\"id\":\"p1103\"},\"data\":{\"type\":\"map\",\"entries\":[[\"index\",{\"type\":\"ndarray\",\"array\":{\"type\":\"bytes\",\"data\":\"CwAAAAwAAAANAAAADgAAAA8AAAAQAAAAEQAAABIAAAATAAAAFAAAABUAAAAWAAAAFwAAABgAAAAZAAAAGgAAABsAAAAcAAAAHQAAAB4AAAAfAAAAIAAAACEAAAAiAAAAIwAAACQAAAAlAAAAJgAAACcAAAAoAAAAKQAAACoAAAA=\"},\"shape\":[32],\"dtype\":\"int32\",\"order\":\"little\"}],[\"rv\",{\"type\":\"ndarray\",\"array\":{\"type\":\"bytes\",\"data\":\"ZlpfpvVluj/smr2u2eu6P3LbG7e9cbs/+Bt6v6H3uz9+XNjHhX28PwSdNtBpA70/it2U2E2JvT8QHvPgMQ++P5VeUekVlb4/G5+v8fkavz+h3w363aC/PxQQNgFhE8A/VjBlBVNWwD+aUJQJRZnAP9xwww033MA/H5HyESkfwT9isSEWG2LBP6XRUBoNpcE/6PF/Hv/nwT8rEq8i8SrCP24y3ibjbcI/sVINK9Wwwj/0cjwvx/PCPzeTazO5NsM/erOaN6t5wz+908k7nbzDPwD0+D+P/8M/QhQoRIFCxD+GNFdIc4XEP8hUhkxlyMQ/DHW1UFcLxT9OleRUSU7FPw==\"},\"shape\":[32],\"dtype\":\"float64\",\"order\":\"little\"}],[\"density\",{\"type\":\"ndarray\",\"array\":{\"type\":\"bytes\",\"data\":\"AAAAAAAAAAAAAAAAAAAAANNQXkN5zURAAAAAAAAAAAAYymsoryFBQAAAAAAAAAAAAAAAAAAAAADqhvIayutKQAAAAAAAAAAAAAAAAAAAAACmNZTXUF5NQAAAAAAAAAAAMtdQXkN5SEAAAAAAAAAAAAAAAAAAAAAA01BeQ3nNREAAAAAAAAAAAGgor6G8BkZAAAAAAAAAAAAAAAAAAAAAAD95DeU1lENAAAAAAAAAAAAAAAAAAAAAAKyhvIbyWkJAAAAAAAAAAAC3hvIayus6QAAAAAAAAAAAAAAAAAAAAACKeQ3lNZQjQAAAAAAAAAAAAAAAAAAAAAD0eA3lNZQjQA==\"},\"shape\":[32],\"dtype\":\"float64\",\"order\":\"little\"}]]}}},\"view\":{\"type\":\"object\",\"name\":\"CDSView\",\"id\":\"p1106\",\"attributes\":{\"filter\":{\"type\":\"object\",\"name\":\"AllIndices\",\"id\":\"p1107\"}}},\"glyph\":{\"type\":\"object\",\"name\":\"VBar\",\"id\":\"p1104\",\"attributes\":{\"x\":{\"type\":\"field\",\"field\":\"rv\"},\"width\":{\"type\":\"value\",\"value\":0.0020430107526881723},\"top\":{\"type\":\"field\",\"field\":\"density\"},\"fill_color\":{\"type\":\"value\",\"value\":\"darkgreen\"}}}}},{\"type\":\"object\",\"name\":\"GlyphRenderer\",\"id\":\"p1114\",\"attributes\":{\"data_source\":{\"type\":\"object\",\"name\":\"ColumnDataSource\",\"id\":\"p1108\",\"attributes\":{\"selected\":{\"type\":\"object\",\"name\":\"Selection\",\"id\":\"p1109\",\"attributes\":{\"indices\":[],\"line_indices\":[]}},\"selection_policy\":{\"type\":\"object\",\"name\":\"UnionRenderers\",\"id\":\"p1110\"},\"data\":{\"type\":\"map\",\"entries\":[[\"x\",{\"type\":\"ndarray\",\"array\":{\"type\":\"bytes\",\"data\":\"VO8rUioUuD+2EMJpBXS4PxkyWIHg07g/e1PumLszuT/edISwlpO5P0CWGshx87k/o7ew30xTuj8F2Ub3J7O6P2j63A4DE7s/yhtzJt5yuz8sPQk+udK7P49en1WUMrw/8n81bW+SvD9UocuESvK8P7bCYZwlUr0/GeT3swCyvT97BY7L2xG+P94mJOO2cb4/QEi6+pHRvj+iaVASbTG/PwWL5ilIkb8/aKx8QSPxvz/lZoksfyjAP5Z3VLhsWMA/SIgfRFqIwD/5mOrPR7jAP6qptVs16MA/W7qA5yIYwT8My0tzEEjBP77bFv/9d8E/b+zhiuunwT8g/awW2dfBP9ENeKLGB8I/gh5DLrQ3wj80Lw66oWfCP+U/2UWPl8I/llCk0XzHwj9IYW9davfCP/hxOulXJ8M/qoIFdUVXwz9bk9AAM4fDPwykm4wgt8M/vrRmGA7nwz9uxTGk+xbEPyDW/C/pRsQ/0ebHu9Z2xD+C95JHxKbEPzQIXtOx1sQ/5RgpX58GxT+WKfTqjDbFPw==\"},\"shape\":[50],\"dtype\":\"float64\",\"order\":\"little\"}],[\"y\",{\"type\":\"ndarray\",\"array\":{\"type\":\"bytes\",\"data\":\"fuFlFVeSCUDAFyE4MdENQPEsW4HaRRFAkQQ2uGniE0Azo7aUq74WQJGLyPnF2RlAWsWycncxHUB/tKb3+mAgQOIWOjLrQiJAmHiAuf86JEAe3mx71EQmQMDtjf40WyhAQqoPDyt4KkD8dSFNFZUsQJzo4XLFqi5ALwI/5NJYMECLMWFu8lAxQLK6Sx7TOTJAB0BHSZsPM0CxLCSroM4zQDu9dwODczRAfbgAbEX7NED3X0tfZWM1QD/e+3fuqTVAfZPJD4rNNUB9k8kPis01QD/e+3fuqTVA919LX2VjNUB9uABsRfs0QDm9dwODczRAsSwkq6DOM0AHQEdJmw8zQLK6Sx7TOTJAjzFhbvJQMUAsAj/k0lgwQJzo4XLFqi5A/HUhTRWVLEA3qg8PK3gqQMTtjf40WyhAHt5se9REJkCYeIC5/zokQOIWOjLrQiJAerSm9/pgIEBhxbJydzEdQJGLyPnF2RlAM6O2lKu+FkCXBDa4aeITQOssW4HaRRFAwBchODHRDUB+4WUVV5IJQA==\"},\"shape\":[50],\"dtype\":\"float64\",\"order\":\"little\"}]]}}},\"view\":{\"type\":\"object\",\"name\":\"CDSView\",\"id\":\"p1115\",\"attributes\":{\"filter\":{\"type\":\"object\",\"name\":\"AllIndices\",\"id\":\"p1116\"}}},\"glyph\":{\"type\":\"object\",\"name\":\"Line\",\"id\":\"p1111\",\"attributes\":{\"x\":{\"type\":\"field\",\"field\":\"x\"},\"y\":{\"type\":\"field\",\"field\":\"y\"},\"line_color\":\"#1f77b4\"}},\"nonselection_glyph\":{\"type\":\"object\",\"name\":\"Line\",\"id\":\"p1112\",\"attributes\":{\"x\":{\"type\":\"field\",\"field\":\"x\"},\"y\":{\"type\":\"field\",\"field\":\"y\"},\"line_color\":\"#1f77b4\",\"line_alpha\":0.1}},\"muted_glyph\":{\"type\":\"object\",\"name\":\"Line\",\"id\":\"p1113\",\"attributes\":{\"x\":{\"type\":\"field\",\"field\":\"x\"},\"y\":{\"type\":\"field\",\"field\":\"y\"},\"line_color\":\"#1f77b4\",\"line_alpha\":0.2}}}}],\"toolbar\":{\"type\":\"object\",\"name\":\"Toolbar\",\"id\":\"p1072\",\"attributes\":{\"tools\":[{\"type\":\"object\",\"name\":\"PanTool\",\"id\":\"p1086\"},{\"type\":\"object\",\"name\":\"WheelZoomTool\",\"id\":\"p1087\",\"attributes\":{\"renderers\":\"auto\"}},{\"type\":\"object\",\"name\":\"BoxZoomTool\",\"id\":\"p1088\",\"attributes\":{\"overlay\":{\"type\":\"object\",\"name\":\"BoxAnnotation\",\"id\":\"p1089\",\"attributes\":{\"syncable\":false,\"level\":\"overlay\",\"visible\":false,\"left_units\":\"canvas\",\"right_units\":\"canvas\",\"top_units\":\"canvas\",\"bottom_units\":\"canvas\",\"line_color\":\"black\",\"line_alpha\":1.0,\"line_width\":2,\"line_dash\":[4,4],\"fill_color\":\"lightgrey\",\"fill_alpha\":0.5}}}},{\"type\":\"object\",\"name\":\"SaveTool\",\"id\":\"p1090\"},{\"type\":\"object\",\"name\":\"ResetTool\",\"id\":\"p1091\"},{\"type\":\"object\",\"name\":\"HelpTool\",\"id\":\"p1092\"}]}},\"left\":[{\"type\":\"object\",\"name\":\"LinearAxis\",\"id\":\"p1081\",\"attributes\":{\"ticker\":{\"type\":\"object\",\"name\":\"BasicTicker\",\"id\":\"p1082\",\"attributes\":{\"mantissas\":[1,2,5]}},\"formatter\":{\"type\":\"object\",\"name\":\"BasicTickFormatter\",\"id\":\"p1083\"},\"major_label_policy\":{\"type\":\"object\",\"name\":\"AllLabels\",\"id\":\"p1084\"}}}],\"below\":[{\"type\":\"object\",\"name\":\"LinearAxis\",\"id\":\"p1076\",\"attributes\":{\"ticker\":{\"type\":\"object\",\"name\":\"BasicTicker\",\"id\":\"p1077\",\"attributes\":{\"mantissas\":[1,2,5]}},\"formatter\":{\"type\":\"object\",\"name\":\"BasicTickFormatter\",\"id\":\"p1078\"},\"major_label_policy\":{\"type\":\"object\",\"name\":\"AllLabels\",\"id\":\"p1079\"}}}],\"center\":[{\"type\":\"object\",\"name\":\"Grid\",\"id\":\"p1080\",\"attributes\":{\"axis\":{\"id\":\"p1076\"}}},{\"type\":\"object\",\"name\":\"Grid\",\"id\":\"p1085\",\"attributes\":{\"dimension\":1,\"axis\":{\"id\":\"p1081\"}}},{\"type\":\"object\",\"name\":\"BoxAnnotation\",\"id\":\"p1093\",\"attributes\":{\"left\":0.09405769830840188,\"right\":0.16572724792815724,\"top\":58.73684210526271,\"bottom\":0,\"fill_color\":\"#D55E00\",\"fill_alpha\":0.2}}]}}]}};\n  const render_items = [{\"docid\":\"92962910-0363-41f6-955a-44cac43de3be\",\"roots\":{\"p1063\":\"ac72fd9d-870c-44fb-b187-85a9472e257c\"},\"root_ids\":[\"p1063\"]}];\n  root.Bokeh.embed.embed_items_notebook(docs_json, render_items);\n  }\n  if (root.Bokeh !== undefined) {\n    embed_document(root);\n  } else {\n    let attempts = 0;\n    const timer = setInterval(function(root) {\n      if (root.Bokeh !== undefined) {\n        clearInterval(timer);\n        embed_document(root);\n      } else {\n        attempts++;\n        if (attempts > 100) {\n          clearInterval(timer);\n          console.log(\"Bokeh: ERROR: Unable to run BokehJS code because BokehJS library is missing\");\n        }\n      }\n    }, 10, root)\n  }\n})(window);",
            "application/vnd.bokehjs_exec.v0+json": ""
          },
          "metadata": {
            "application/vnd.bokehjs_exec.v0+json": {
              "id": "p1063"
            }
          },
          "output_type": "display_data"
        }
      ],
      "source": [
        "#Plot the error distribution, and compute the interval estimate limit.\n",
        "p = plot_intervals(resampled_errors)\n",
        "show(p)"
      ]
    },
    {
      "cell_type": "markdown",
      "metadata": {
        "id": "uQJN7qq0mpFT"
      },
      "source": [
        "##  Generate selected features, for an alternative model\n",
        "\n",
        "A crude way to select features for linear regression is to sort the variables by the largest correlation with the dependent variable.  Let's see how the holdout error changes as variables are added to the linear regression. "
      ]
    },
    {
      "cell_type": "code",
      "execution_count": 109,
      "metadata": {
        "id": "FZ4dqTzCyehW"
      },
      "outputs": [
        {
          "data": {
            "text/html": [
              "<div>\n",
              "<style scoped>\n",
              "    .dataframe tbody tr th:only-of-type {\n",
              "        vertical-align: middle;\n",
              "    }\n",
              "\n",
              "    .dataframe tbody tr th {\n",
              "        vertical-align: top;\n",
              "    }\n",
              "\n",
              "    .dataframe thead th {\n",
              "        text-align: right;\n",
              "    }\n",
              "</style>\n",
              "<table border=\"1\" class=\"dataframe\">\n",
              "  <thead>\n",
              "    <tr style=\"text-align: right;\">\n",
              "      <th></th>\n",
              "      <th>0</th>\n",
              "    </tr>\n",
              "  </thead>\n",
              "  <tbody>\n",
              "    <tr>\n",
              "      <th>count</th>\n",
              "      <td>384.000000</td>\n",
              "    </tr>\n",
              "    <tr>\n",
              "      <th>mean</th>\n",
              "      <td>0.067043</td>\n",
              "    </tr>\n",
              "    <tr>\n",
              "      <th>std</th>\n",
              "      <td>8.472924</td>\n",
              "    </tr>\n",
              "    <tr>\n",
              "      <th>min</th>\n",
              "      <td>-22.665340</td>\n",
              "    </tr>\n",
              "    <tr>\n",
              "      <th>25%</th>\n",
              "      <td>-6.630662</td>\n",
              "    </tr>\n",
              "    <tr>\n",
              "      <th>50%</th>\n",
              "      <td>0.079711</td>\n",
              "    </tr>\n",
              "    <tr>\n",
              "      <th>75%</th>\n",
              "      <td>6.438096</td>\n",
              "    </tr>\n",
              "    <tr>\n",
              "      <th>max</th>\n",
              "      <td>18.791371</td>\n",
              "    </tr>\n",
              "  </tbody>\n",
              "</table>\n",
              "</div>"
            ],
            "text/plain": [
              "                0\n",
              "count  384.000000\n",
              "mean     0.067043\n",
              "std      8.472924\n",
              "min    -22.665340\n",
              "25%     -6.630662\n",
              "50%      0.079711\n",
              "75%      6.438096\n",
              "max     18.791371"
            ]
          },
          "execution_count": 109,
          "metadata": {},
          "output_type": "execute_result"
        }
      ],
      "source": [
        "# Use a dot product to approximate the covariance\n",
        "\n",
        "feature_cov = learning_data.T @ learning_outcome / la.norm(learning_data, axis=0)\n",
        "pd.DataFrame(feature_cov).describe()"
      ]
    },
    {
      "cell_type": "code",
      "execution_count": 116,
      "metadata": {},
      "outputs": [
        {
          "data": {
            "text/html": [
              "<div>\n",
              "<style scoped>\n",
              "    .dataframe tbody tr th:only-of-type {\n",
              "        vertical-align: middle;\n",
              "    }\n",
              "\n",
              "    .dataframe tbody tr th {\n",
              "        vertical-align: top;\n",
              "    }\n",
              "\n",
              "    .dataframe thead th {\n",
              "        text-align: right;\n",
              "    }\n",
              "</style>\n",
              "<table border=\"1\" class=\"dataframe\">\n",
              "  <thead>\n",
              "    <tr style=\"text-align: right;\">\n",
              "      <th></th>\n",
              "      <th>0</th>\n",
              "    </tr>\n",
              "  </thead>\n",
              "  <tbody>\n",
              "    <tr>\n",
              "      <th>0</th>\n",
              "      <td>18.791371</td>\n",
              "    </tr>\n",
              "    <tr>\n",
              "      <th>1</th>\n",
              "      <td>17.707732</td>\n",
              "    </tr>\n",
              "    <tr>\n",
              "      <th>2</th>\n",
              "      <td>17.387248</td>\n",
              "    </tr>\n",
              "    <tr>\n",
              "      <th>3</th>\n",
              "      <td>17.130931</td>\n",
              "    </tr>\n",
              "    <tr>\n",
              "      <th>4</th>\n",
              "      <td>17.064447</td>\n",
              "    </tr>\n",
              "    <tr>\n",
              "      <th>5</th>\n",
              "      <td>16.678416</td>\n",
              "    </tr>\n",
              "    <tr>\n",
              "      <th>6</th>\n",
              "      <td>16.626368</td>\n",
              "    </tr>\n",
              "    <tr>\n",
              "      <th>7</th>\n",
              "      <td>16.203136</td>\n",
              "    </tr>\n",
              "    <tr>\n",
              "      <th>8</th>\n",
              "      <td>15.922810</td>\n",
              "    </tr>\n",
              "    <tr>\n",
              "      <th>9</th>\n",
              "      <td>15.832757</td>\n",
              "    </tr>\n",
              "  </tbody>\n",
              "</table>\n",
              "</div>"
            ],
            "text/plain": [
              "           0\n",
              "0  18.791371\n",
              "1  17.707732\n",
              "2  17.387248\n",
              "3  17.130931\n",
              "4  17.064447\n",
              "5  16.678416\n",
              "6  16.626368\n",
              "7  16.203136\n",
              "8  15.922810\n",
              "9  15.832757"
            ]
          },
          "execution_count": 116,
          "metadata": {},
          "output_type": "execute_result"
        }
      ],
      "source": [
        "# Ordering of the variables by absolute value of cov\n",
        "feature_ordering =   np.argsort(feature_cov) # np.argsort(np.abs(feature_cov)) #\n",
        "ordered_features = feature_cov[feature_ordering[::-1]]        # [::-1] means reverse the ordering\n",
        "pd.DataFrame(ordered_features[:10])"
      ]
    },
    {
      "cell_type": "code",
      "execution_count": 117,
      "metadata": {},
      "outputs": [],
      "source": [
        "# Compute AIC as a function of the number of variables, using no selection ordering\n",
        "unsorted_AIC = np.zeros(380)\n",
        "for var_count in range(8,380):\n",
        "    fit = regress(learning_outcome, learning_data[:,:var_count]) \n",
        "    unsorted_AIC[var_count] = AIC(fit)"
      ]
    },
    {
      "cell_type": "code",
      "execution_count": 123,
      "metadata": {},
      "outputs": [],
      "source": [
        "# Compute AIC as a function of the number of variables\n",
        "sorted_AIC = np.zeros([380, 2])\n",
        "# Hmm - using the negative valued cov does slightly better. \n",
        "sorted_learning_data = learning_data[:,feature_ordering] # learning_data[:,feature_ordering[::-1]]\n",
        "for var_count in range(8, 380):\n",
        "    fit = regress(learning_outcome, sorted_learning_data[:,:var_count]) \n",
        "    sorted_AIC[var_count, 0] = var_count\n",
        "    sorted_AIC[var_count, 1] = AIC(fit)"
      ]
    },
    {
      "cell_type": "code",
      "execution_count": 124,
      "metadata": {},
      "outputs": [
        {
          "data": {
            "text/html": [
              "\n",
              "  <div id=\"d2db0ac8-9f38-45e8-9d6b-071d2de680c5\" data-root-id=\"p2193\" style=\"display: contents;\"></div>\n"
            ]
          },
          "metadata": {},
          "output_type": "display_data"
        },
        {
          "data": {
            "application/javascript": "(function(root) {\n  function embed_document(root) {\n  const docs_json = {\"88ce3cf9-4acf-4d5c-b5c7-0e686e07d857\":{\"version\":\"3.3.0\",\"title\":\"Bokeh Application\",\"roots\":[{\"type\":\"object\",\"name\":\"Figure\",\"id\":\"p2193\",\"attributes\":{\"width\":700,\"height\":300,\"x_range\":{\"type\":\"object\",\"name\":\"Range1d\",\"id\":\"p2203\",\"attributes\":{\"start\":8,\"end\":384}},\"y_range\":{\"type\":\"object\",\"name\":\"DataRange1d\",\"id\":\"p2195\"},\"x_scale\":{\"type\":\"object\",\"name\":\"LinearScale\",\"id\":\"p2204\"},\"y_scale\":{\"type\":\"object\",\"name\":\"LinearScale\",\"id\":\"p2205\"},\"title\":{\"type\":\"object\",\"name\":\"Title\",\"id\":\"p2196\",\"attributes\":{\"text\":\"AIC for cov-selected variable sets\"}},\"renderers\":[{\"type\":\"object\",\"name\":\"GlyphRenderer\",\"id\":\"p2229\",\"attributes\":{\"data_source\":{\"type\":\"object\",\"name\":\"ColumnDataSource\",\"id\":\"p2223\",\"attributes\":{\"selected\":{\"type\":\"object\",\"name\":\"Selection\",\"id\":\"p2224\",\"attributes\":{\"indices\":[],\"line_indices\":[]}},\"selection_policy\":{\"type\":\"object\",\"name\":\"UnionRenderers\",\"id\":\"p2225\"},\"data\":{\"type\":\"map\",\"entries\":[[\"x\",[0,1,2,3,4,5,6,7,8,9,10,11,12,13,14,15,16,17,18,19,20,21,22,23,24,25,26,27,28,29,30,31,32,33,34,35,36,37,38,39,40,41,42,43,44,45,46,47,48,49,50,51,52,53,54,55,56,57,58,59,60,61,62,63,64,65,66,67,68,69,70,71,72,73,74,75,76,77,78,79,80,81,82,83,84,85,86,87,88,89,90,91,92,93,94,95,96,97,98,99,100,101,102,103,104,105,106,107,108,109,110,111,112,113,114,115,116,117,118,119,120,121,122,123,124,125,126,127,128,129,130,131,132,133,134,135,136,137,138,139,140,141,142,143,144,145,146,147,148,149,150,151,152,153,154,155,156,157,158,159,160,161,162,163,164,165,166,167,168,169,170,171,172,173,174,175,176,177,178,179,180,181,182,183,184,185,186,187,188,189,190,191,192,193,194,195,196,197,198,199,200,201,202,203,204,205,206,207,208,209,210,211,212,213,214,215,216,217,218,219,220,221,222,223,224,225,226,227,228,229,230,231,232,233,234,235,236,237,238,239,240,241,242,243,244,245,246,247,248,249,250,251,252,253,254,255,256,257,258,259,260,261,262,263,264,265,266,267,268,269,270,271,272,273,274,275,276,277,278,279,280,281,282,283,284,285,286,287,288,289,290,291,292,293,294,295,296,297,298,299,300,301,302,303,304,305,306,307,308,309,310,311,312,313,314,315,316,317,318,319,320,321,322,323,324,325,326,327,328,329,330,331,332,333,334,335,336,337,338,339,340,341,342,343,344,345,346,347,348,349,350,351,352,353,354,355,356,357,358,359,360,361,362,363,364,365,366,367,368,369,370,371,372,373,374,375,376,377,378,379]],[\"y\",{\"type\":\"ndarray\",\"array\":{\"type\":\"bytes\",\"data\":\"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\"},\"shape\":[380],\"dtype\":\"float64\",\"order\":\"little\"}]]}}},\"view\":{\"type\":\"object\",\"name\":\"CDSView\",\"id\":\"p2230\",\"attributes\":{\"filter\":{\"type\":\"object\",\"name\":\"AllIndices\",\"id\":\"p2231\"}}},\"glyph\":{\"type\":\"object\",\"name\":\"Line\",\"id\":\"p2226\",\"attributes\":{\"x\":{\"type\":\"field\",\"field\":\"x\"},\"y\":{\"type\":\"field\",\"field\":\"y\"},\"line_color\":\"darkred\"}},\"nonselection_glyph\":{\"type\":\"object\",\"name\":\"Line\",\"id\":\"p2227\",\"attributes\":{\"x\":{\"type\":\"field\",\"field\":\"x\"},\"y\":{\"type\":\"field\",\"field\":\"y\"},\"line_color\":\"darkred\",\"line_alpha\":0.1}},\"muted_glyph\":{\"type\":\"object\",\"name\":\"Line\",\"id\":\"p2228\",\"attributes\":{\"x\":{\"type\":\"field\",\"field\":\"x\"},\"y\":{\"type\":\"field\",\"field\":\"y\"},\"line_color\":\"darkred\",\"line_alpha\":0.2}}}},{\"type\":\"object\",\"name\":\"GlyphRenderer\",\"id\":\"p2238\",\"attributes\":{\"data_source\":{\"type\":\"object\",\"name\":\"ColumnDataSource\",\"id\":\"p2232\",\"attributes\":{\"selected\":{\"type\":\"object\",\"name\":\"Selection\",\"id\":\"p2233\",\"attributes\":{\"indices\":[],\"line_indices\":[]}},\"selection_policy\":{\"type\":\"object\",\"name\":\"UnionRenderers\",\"id\":\"p2234\"},\"data\":{\"type\":\"map\",\"entries\":[[\"x\",{\"type\":\"ndarray\",\"array\":{\"type\":\"bytes\",\"data\":\"AAAAAAAAAAAAAAAAAAAAAAAAAAAAAAAAAAAAAAAAAAAAAAAAAAAAAAAAAAAAAAAAAAAAAAAAAAAAAAAAAAAAAAAAAAAAACBAAAAAAAAAIkAAAAAAAAAkQAAAAAAAACZAAAAAAAAAKEAAAAAAAAAqQAAAAAAAACxAAAAAAAAALkAAAAAAAAAwQAAAAAAAADFAAAAAAAAAMkAAAAAAAAAzQAAAAAAAADRAAAAAAAAANUAAAAAAAAA2QAAAAAAAADdAAAAAAAAAOEAAAAAAAAA5QAAAAAAAADpAAAAAAAAAO0AAAAAAAAA8QAAAAAAAAD1AAAAAAAAAPkAAAAAAAAA/QAAAAAAAAEBAAAAAAACAQEAAAAAAAABBQAAAAAAAgEFAAAAAAAAAQkAAAAAAAIBCQAAAAAAAAENAAAAAAACAQ0AAAAAAAABEQAAAAAAAgERAAAAAAAAARUAAAAAAAIBFQAAAAAAAAEZAAAAAAACARkAAAAAAAABHQAAAAAAAgEdAAAAAAAAASEAAAAAAAIBIQAAAAAAAAElAAAAAAACASUAAAAAAAABKQAAAAAAAgEpAAAAAAAAAS0AAAAAAAIBLQAAAAAAAAExAAAAAAACATEAAAAAAAABNQAAAAAAAgE1AAAAAAAAATkAAAAAAAIBOQAAAAAAAAE9AAAAAAACAT0AAAAAAAABQQAAAAAAAQFBAAAAAAACAUEAAAAAAAMBQQAAAAAAAAFFAAAAAAABAUUAAAAAAAIBRQAAAAAAAwFFAAAAAAAAAUkAAAAAAAEBSQAAAAAAAgFJAAAAAAADAUkAAAAAAAABTQAAAAAAAQFNAAAAAAACAU0AAAAAAAMBTQAAAAAAAAFRAAAAAAABAVEAAAAAAAIBUQAAAAAAAwFRAAAAAAAAAVUAAAAAAAEBVQAAAAAAAgFVAAAAAAADAVUAAAAAAAABWQAAAAAAAQFZAAAAAAACAVkAAAAAAAMBWQAAAAAAAAFdAAAAAAABAV0AAAAAAAIBXQAAAAAAAwFdAAAAAAAAAWEAAAAAAAEBYQAAAAAAAgFhAAAAAAADAWEAAAAAAAABZQAAAAAAAQFlAAAAAAACAWUAAAAAAAMBZQAAAAAAAAFpAAAAAAABAWkAAAAAAAIBaQAAAAAAAwFpAAAAAAAAAW0AAAAAAAEBbQAAAAAAAgFtAAAAAAADAW0AAAAAAAABcQAAAAAAAQFxAAAAAAACAXEAAAAAAAMBcQAAAAAAAAF1AAAAAAABAXUAAAAAAAIBdQAAAAAAAwF1AAAAAAAAAXkAAAAAAAEBeQAAAAAAAgF5AAAAAAADAXkAAAAAAAABfQAAAAAAAQF9AAAAAAACAX0AAAAAAAMBfQAAAAAAAAGBAAAAAAAAgYEAAAAAAAEBgQAAAAAAAYGBAAAAAAACAYEAAAAAAAKBgQAAAAAAAwGBAAAAAAADgYEAAAAAAAABhQAAAAAAAIGFAAAAAAABAYUAAAAAAAGBhQAAAAAAAgGFAAAAAAACgYUAAAAAAAMBhQAAAAAAA4GFAAAAAAAAAYkAAAAAAACBiQAAAAAAAQGJAAAAAAABgYkAAAAAAAIBiQAAAAAAAoGJAAAAAAADAYkAAAAAAAOBiQAAAAAAAAGNAAAAAAAAgY0AAAAAAAEBjQAAAAAAAYGNAAAAAAACAY0AAAAAAAKBjQAAAAAAAwGNAAAAAAADgY0AAAAAAAABkQAAAAAAAIGRAAAAAAABAZEAAAAAAAGBkQAAAAAAAgGRAAAAAAACgZEAAAAAAAMBkQAAAAAAA4GRAAAAAAAAAZUAAAAAAACBlQAAAAAAAQGVAAAAAAABgZUAAAAAAAIBlQAAAAAAAoGVAAAAAAADAZUAAAAAAAOBlQAAAAAAAAGZAAAAAAAAgZkAAAAAAAEBmQAAAAAAAYGZAAAAAAACAZkAAAAAAAKBmQAAAAAAAwGZAAAAAAADgZkAAAAAAAABnQAAAAAAAIGdAAAAAAABAZ0AAAAAAAGBnQAAAAAAAgGdAAAAAAACgZ0AAAAAAAMBnQAAAAAAA4GdAAAAAAAAAaEAAAAAAACBoQAAAAAAAQGhAAAAAAABgaEAAAAAAAIBoQAAAAAAAoGhAAAAAAADAaEAAAAAAAOBoQAAAAAAAAGlAAAAAAAAgaUAAAAAAAEBpQAAAAAAAYGlAAAAAAACAaUAAAAAAAKBpQAAAAAAAwGlAAAAAAADgaUAAAAAAAABqQAAAAAAAIGpAAAAAAABAakAAAAAAAGBqQAAAAAAAgGpAAAAAAACgakAAAAAAAMBqQAAAAAAA4GpAAAAAAAAAa0AAAAAAACBrQAAAAAAAQGtAAAAAAABga0AAAAAAAIBrQAAAAAAAoGtAAAAAAADAa0AAAAAAAOBrQAAAAAAAAGxAAAAAAAAgbEAAAAAAAEBsQAAAAAAAYGxAAAAAAACAbEAAAAAAAKBsQAAAAAAAwGxAAAAAAADgbEAAAAAAAABtQAAAAAAAIG1AAAAAAABAbUAAAAAAAGBtQAAAAAAAgG1AAAAAAACgbUAAAAAAAMBtQAAAAAAA4G1AAAAAAAAAbkAAAAAAACBuQAAAAAAAQG5AAAAAAABgbkAAAAAAAIBuQAAAAAAAoG5AAAAAAADAbkAAAAAAAOBuQAAAAAAAAG9AAAAAAAAgb0AAAAAAAEBvQAAAAAAAYG9AAAAAAACAb0AAAAAAAKBvQAAAAAAAwG9AAAAAAADgb0AAAAAAAABwQAAAAAAAEHBAAAAAAAAgcEAAAAAAADBwQAAAAAAAQHBAAAAAAABQcEAAAAAAAGBwQAAAAAAAcHBAAAAAAACAcEAAAAAAAJBwQAAAAAAAoHBAAAAAAACwcEAAAAAAAMBwQAAAAAAA0HBAAAAAAADgcEAAAAAAAPBwQAAAAAAAAHFAAAAAAAAQcUAAAAAAACBxQAAAAAAAMHFAAAAAAABAcUAAAAAAAFBxQAAAAAAAYHFAAAAAAABwcUAAAAAAAIBxQAAAAAAAkHFAAAAAAACgcUAAAAAAALBxQAAAAAAAwHFAAAAAAADQcUAAAAAAAOBxQAAAAAAA8HFAAAAAAAAAckAAAAAAABByQAAAAAAAIHJAAAAAAAAwckAAAAAAAEByQAAAAAAAUHJAAAAAAABgckAAAAAAAHByQAAAAAAAgHJAAAAAAACQckAAAAAAAKByQAAAAAAAsHJAAAAAAADAckAAAAAAANByQAAAAAAA4HJAAAAAAADwckAAAAAAAABzQAAAAAAAEHNAAAAAAAAgc0AAAAAAADBzQAAAAAAAQHNAAAAAAABQc0AAAAAAAGBzQAAAAAAAcHNAAAAAAACAc0AAAAAAAJBzQAAAAAAAoHNAAAAAAACwc0AAAAAAAMBzQAAAAAAA0HNAAAAAAADgc0AAAAAAAPBzQAAAAAAAAHRAAAAAAAAQdEAAAAAAACB0QAAAAAAAMHRAAAAAAABAdEAAAAAAAFB0QAAAAAAAYHRAAAAAAABwdEAAAAAAAIB0QAAAAAAAkHRAAAAAAACgdEAAAAAAALB0QAAAAAAAwHRAAAAAAADQdEAAAAAAAOB0QAAAAAAA8HRAAAAAAAAAdUAAAAAAABB1QAAAAAAAIHVAAAAAAAAwdUAAAAAAAEB1QAAAAAAAUHVAAAAAAABgdUAAAAAAAHB1QAAAAAAAgHVAAAAAAACQdUAAAAAAAKB1QAAAAAAAsHVAAAAAAADAdUAAAAAAANB1QAAAAAAA4HVAAAAAAADwdUAAAAAAAAB2QAAAAAAAEHZAAAAAAAAgdkAAAAAAADB2QAAAAAAAQHZAAAAAAABQdkAAAAAAAGB2QAAAAAAAcHZAAAAAAACAdkAAAAAAAJB2QAAAAAAAoHZAAAAAAACwdkAAAAAAAMB2QAAAAAAA0HZAAAAAAADgdkAAAAAAAPB2QAAAAAAAAHdAAAAAAAAQd0AAAAAAACB3QAAAAAAAMHdAAAAAAABAd0AAAAAAAFB3QAAAAAAAYHdAAAAAAABwd0AAAAAAAIB3QAAAAAAAkHdAAAAAAACgd0AAAAAAALB3QA==\"},\"shape\":[380],\"dtype\":\"float64\",\"order\":\"little\"}],[\"y\",{\"type\":\"ndarray\",\"array\":{\"type\":\"bytes\",\"data\":\"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\"},\"shape\":[380],\"dtype\":\"float64\",\"order\":\"little\"}]]}}},\"view\":{\"type\":\"object\",\"name\":\"CDSView\",\"id\":\"p2239\",\"attributes\":{\"filter\":{\"type\":\"object\",\"name\":\"AllIndices\",\"id\":\"p2240\"}}},\"glyph\":{\"type\":\"object\",\"name\":\"Line\",\"id\":\"p2235\",\"attributes\":{\"x\":{\"type\":\"field\",\"field\":\"x\"},\"y\":{\"type\":\"field\",\"field\":\"y\"},\"line_color\":\"red\"}},\"nonselection_glyph\":{\"type\":\"object\",\"name\":\"Line\",\"id\":\"p2236\",\"attributes\":{\"x\":{\"type\":\"field\",\"field\":\"x\"},\"y\":{\"type\":\"field\",\"field\":\"y\"},\"line_color\":\"red\",\"line_alpha\":0.1}},\"muted_glyph\":{\"type\":\"object\",\"name\":\"Line\",\"id\":\"p2237\",\"attributes\":{\"x\":{\"type\":\"field\",\"field\":\"x\"},\"y\":{\"type\":\"field\",\"field\":\"y\"},\"line_color\":\"red\",\"line_alpha\":0.2}}}},{\"type\":\"object\",\"name\":\"Span\",\"id\":\"p2241\",\"attributes\":{\"location\":1365,\"line_width\":0.6}}],\"toolbar\":{\"type\":\"object\",\"name\":\"Toolbar\",\"id\":\"p2202\",\"attributes\":{\"tools\":[{\"type\":\"object\",\"name\":\"PanTool\",\"id\":\"p2216\"},{\"type\":\"object\",\"name\":\"WheelZoomTool\",\"id\":\"p2217\",\"attributes\":{\"renderers\":\"auto\"}},{\"type\":\"object\",\"name\":\"BoxZoomTool\",\"id\":\"p2218\",\"attributes\":{\"overlay\":{\"type\":\"object\",\"name\":\"BoxAnnotation\",\"id\":\"p2219\",\"attributes\":{\"syncable\":false,\"level\":\"overlay\",\"visible\":false,\"left_units\":\"canvas\",\"right_units\":\"canvas\",\"top_units\":\"canvas\",\"bottom_units\":\"canvas\",\"line_color\":\"black\",\"line_alpha\":1.0,\"line_width\":2,\"line_dash\":[4,4],\"fill_color\":\"lightgrey\",\"fill_alpha\":0.5}}}},{\"type\":\"object\",\"name\":\"SaveTool\",\"id\":\"p2220\"},{\"type\":\"object\",\"name\":\"ResetTool\",\"id\":\"p2221\"},{\"type\":\"object\",\"name\":\"HelpTool\",\"id\":\"p2222\"}]}},\"left\":[{\"type\":\"object\",\"name\":\"LinearAxis\",\"id\":\"p2211\",\"attributes\":{\"ticker\":{\"type\":\"object\",\"name\":\"BasicTicker\",\"id\":\"p2212\",\"attributes\":{\"mantissas\":[1,2,5]}},\"formatter\":{\"type\":\"object\",\"name\":\"BasicTickFormatter\",\"id\":\"p2213\"},\"major_label_policy\":{\"type\":\"object\",\"name\":\"AllLabels\",\"id\":\"p2214\"}}}],\"below\":[{\"type\":\"object\",\"name\":\"LinearAxis\",\"id\":\"p2206\",\"attributes\":{\"ticker\":{\"type\":\"object\",\"name\":\"BasicTicker\",\"id\":\"p2207\",\"attributes\":{\"mantissas\":[1,2,5]}},\"formatter\":{\"type\":\"object\",\"name\":\"BasicTickFormatter\",\"id\":\"p2208\"},\"major_label_policy\":{\"type\":\"object\",\"name\":\"AllLabels\",\"id\":\"p2209\"}}}],\"center\":[{\"type\":\"object\",\"name\":\"Grid\",\"id\":\"p2210\",\"attributes\":{\"axis\":{\"id\":\"p2206\"}}},{\"type\":\"object\",\"name\":\"Grid\",\"id\":\"p2215\",\"attributes\":{\"dimension\":1,\"axis\":{\"id\":\"p2211\"}}}]}}]}};\n  const render_items = [{\"docid\":\"88ce3cf9-4acf-4d5c-b5c7-0e686e07d857\",\"roots\":{\"p2193\":\"d2db0ac8-9f38-45e8-9d6b-071d2de680c5\"},\"root_ids\":[\"p2193\"]}];\n  root.Bokeh.embed.embed_items_notebook(docs_json, render_items);\n  }\n  if (root.Bokeh !== undefined) {\n    embed_document(root);\n  } else {\n    let attempts = 0;\n    const timer = setInterval(function(root) {\n      if (root.Bokeh !== undefined) {\n        clearInterval(timer);\n        embed_document(root);\n      } else {\n        attempts++;\n        if (attempts > 100) {\n          clearInterval(timer);\n          console.log(\"Bokeh: ERROR: Unable to run BokehJS code because BokehJS library is missing\");\n        }\n      }\n    }, 10, root)\n  }\n})(window);",
            "application/vnd.bokehjs_exec.v0+json": ""
          },
          "metadata": {
            "application/vnd.bokehjs_exec.v0+json": {
              "id": "p2193"
            }
          },
          "output_type": "display_data"
        }
      ],
      "source": [
        "f = figure(width = 700, height = 300,  x_range = (8,  EMBEDDING_DIMENSIONS ), title='AIC for cov-selected variable sets') # ,\n",
        "f.line(x=list(range(380)), y=unsorted_AIC, color = 'darkred')\n",
        "f.line(x=sorted_AIC[:,0], y=sorted_AIC[:,1], color = 'red')\n",
        "hline = Span(location=1365, dimension='width', line_width= 0.6) # , fill_alpha=0.4)\n",
        "f.renderers.extend([hline])\n",
        "show(f)"
      ]
    },
    {
      "cell_type": "markdown",
      "metadata": {
        "id": "0n_WbGJam6eJ"
      },
      "source": [
        "## Compare baseline and alternative models"
      ]
    },
    {
      "cell_type": "code",
      "execution_count": 228,
      "metadata": {
        "id": "-uK0fvbdmwMw"
      },
      "outputs": [],
      "source": [
        "#TBD"
      ]
    }
  ],
  "metadata": {
    "colab": {
      "provenance": [],
      "toc_visible": true
    },
    "kernelspec": {
      "display_name": "Python 3",
      "language": "python",
      "name": "python3"
    },
    "language_info": {
      "codemirror_mode": {
        "name": "ipython",
        "version": 3
      },
      "file_extension": ".py",
      "mimetype": "text/x-python",
      "name": "python",
      "nbconvert_exporter": "python",
      "pygments_lexer": "ipython3",
      "version": "3.10.12"
    }
  },
  "nbformat": 4,
  "nbformat_minor": 0
}
